{
 "cells": [
  {
   "cell_type": "markdown",
   "metadata": {},
   "source": [
    "<div style=\"border:solid green 2px; padding: 20px\"> <h1 style=\"color:green; margin-bottom:20px\">Reviewer's comment v1</h1>\n",
    "\n",
    "Hello Aditya, my name is Dmitrii. I'm going to review your project! Nice to meet you! 🙌\n",
    "\n",
    "You can find my comments under the heading **«Review»**. I will categorize my comments in green, blue or red boxes like this:\n",
    "\n",
    "<div class=\"alert alert-success\">\n",
    "    <b>Success:</b> if everything is done successfully\n",
    "</div>\n",
    "<div class=\"alert alert-warning\">\n",
    "    <b>Remarks:</b> if I can give some recommendations or ways to improve the project\n",
    "</div>\n",
    "<div class=\"alert alert-danger\">\n",
    "    <b>Needs fixing:</b> if the block requires some corrections. Work can't be accepted with the red comments\n",
    "</div>\n",
    "\n",
    "Please don't remove my comments :) If you have any questions don't hesitate to respond to my comments in a different section. \n",
    "<div class=\"alert alert-info\"> <b>Student comments:</b> For example like this</div>    \n"
   ]
  },
  {
   "cell_type": "markdown",
   "metadata": {},
   "source": [
    "<div style=\"border:solid green 2px; padding: 20px\">\n",
    "<b>Reviewer's comment v1</b>\n",
    "    \n",
    "<b>Overall Feedback</b> \n",
    "    \n",
    "Overall well done! I can see that a lot of effort has been made! Your project already looks really good and you accomplished impressive results.\n",
    "\n",
    "No critical issues are left, so your project has been accepted. Congratulations! However, I want to send it back to you in case you have any questions along the way or you want to make additional changes to the project.\n",
    "\n",
    "And of course, if you have any questions along the way, remember that you can always reach out to your tutor for any clarification.\n",
    "</div>"
   ]
  },
  {
   "cell_type": "markdown",
   "metadata": {},
   "source": [
    "There is the telecom operator Megaline. The company offers its clients two prepaid plans, Surf and Ultimate.\n",
    "\n",
    "The data on 500 Megaline clients are considered: who the clients are, where they're from, which plan they use, and the number of calls they made and text messages they sent in 2018.\n",
    "\n",
    "The purpose of the study: to analyze clients' behavior, carry out a preliminary analysis of the prepaid plans and determine which one brings in more revenue in order to adjust the advertising budget.\n",
    "\n",
    "Table of contents:\n",
    "\n",
    "- [Chapter 1: Open the data files and study the general information](#1.-Open-the-data-files-and-study-the-general-information)\n",
    "- [Chapter 2: Preprocessing the data](#2.-Preprocessing-the-data)\n",
    "- [Chapter 3: Analyze Customer Behaviour](#3.-Analyze-Customer-Behaviour)\n",
    "- [Chapter 4: Analyzing the Revenue and Test the Hypotheses](#4.-Analyzing-the-Revenue-and-Test-the-Hypotheses)\n",
    "- [Chapter 5: Overall Conclusion](#5.-Overall-Conclusion)"
   ]
  },
  {
   "cell_type": "markdown",
   "metadata": {},
   "source": [
    "#### Description of plans\n",
    "\n",
    "Note: Megaline rounds seconds up to minutes, and megabytes to gigabytes. For calls, each individual call is rounded up: even if the call lasted just one second, it will be counted as one minute. For web traffic, individual web sessions are not rounded up. Instead, the total for the month is rounded up. If someone uses 1025 megabytes this month, they will be charged for 2 gigabytes.\n",
    "\n",
    "__Surf__\n",
    "\n",
    "Monthly charge: \\\\$20\n",
    "500 monthly minutes, 50 texts, and 15 GB of data\n",
    "After exceeding the package limits:\n",
    "1 minute: 3 cents\n",
    "1 text message: 3 cents\n",
    "1 GB of data: $10\n",
    "\n",
    "__Ultimate__\n",
    "\n",
    "Monthly charge: \\\\$70\n",
    "3000 monthly minutes, 1000 text messages, and 30 GB of data\n",
    "After exceeding the package limits:\n",
    "1 minute: 1 cent\n",
    "1 text message1: 1 cent\n",
    "1 GB of data: $7"
   ]
  },
  {
   "cell_type": "markdown",
   "metadata": {},
   "source": [
    "<div class=\"alert alert-block alert-success\">\n",
    "<b>Reviewer's comment v1</b>\n",
    " \n",
    "Great that you added additional information about the project goal and tasks."
   ]
  },
  {
   "cell_type": "code",
   "execution_count": 1,
   "metadata": {},
   "outputs": [
    {
     "name": "stdout",
     "output_type": "stream",
     "text": [
      "Requirement already satisfied: matplotlib==3.2.0 in c:\\users\\skynet\\appdata\\roaming\\python\\python38\\site-packages (3.2.0)\n",
      "Requirement already satisfied: numpy>=1.11 in c:\\users\\skynet\\anaconda3\\lib\\site-packages (from matplotlib==3.2.0) (1.19.2)\n",
      "Requirement already satisfied: python-dateutil>=2.1 in c:\\users\\skynet\\anaconda3\\lib\\site-packages (from matplotlib==3.2.0) (2.8.1)\n",
      "Requirement already satisfied: pyparsing!=2.0.4,!=2.1.2,!=2.1.6,>=2.0.1 in c:\\users\\skynet\\anaconda3\\lib\\site-packages (from matplotlib==3.2.0) (2.4.7)\n",
      "Requirement already satisfied: cycler>=0.10 in c:\\users\\skynet\\anaconda3\\lib\\site-packages (from matplotlib==3.2.0) (0.10.0)\n",
      "Requirement already satisfied: kiwisolver>=1.0.1 in c:\\users\\skynet\\anaconda3\\lib\\site-packages (from matplotlib==3.2.0) (1.3.0)\n",
      "Requirement already satisfied: six>=1.5 in c:\\users\\skynet\\anaconda3\\lib\\site-packages (from python-dateutil>=2.1->matplotlib==3.2.0) (1.15.0)\n"
     ]
    }
   ],
   "source": [
    "import pandas as pd\n",
    "import numpy as np\n",
    "import math\n",
    "!pip install matplotlib==3.2.0 --user \n",
    "\n",
    "#we use this as since matplotlib 3.3.0 release matplotlib started enforcing that \n",
    "#the number of ticklabels matches the number of tick locations.\n",
    "import matplotlib.pyplot as plt\n",
    "from scipy import stats as st\n",
    "import seaborn as sns\n",
    "from functools import reduce"
   ]
  },
  {
   "cell_type": "code",
   "execution_count": 2,
   "metadata": {},
   "outputs": [],
   "source": [
    "#some global constats for formatting the output string\n",
    "BOLD = '\\033[1m'\n",
    "END = '\\033[0m'"
   ]
  },
  {
   "cell_type": "markdown",
   "metadata": {},
   "source": [
    "## 1. Open the data files and study the general information"
   ]
  },
  {
   "cell_type": "code",
   "execution_count": 3,
   "metadata": {},
   "outputs": [],
   "source": [
    "try:\n",
    "    data_calls = pd.read_csv('C:/Users/SkyNET/Desktop/Learn python/Projects/SDA/megaline_calls.csv')\n",
    "    data_internet = pd.read_csv('C:/Users/SkyNET/Desktop/Learn python/Projects/SDA/megaline_internet.csv')\n",
    "    data_messages = pd.read_csv('C:/Users/SkyNET/Desktop/Learn python/Projects/SDA/megaline_messages.csv')\n",
    "    data_plans = pd.read_csv('C:/Users/SkyNET/Desktop/Learn python/Projects/SDA/megaline_plans.csv')\n",
    "    data_users = pd.read_csv('C:/Users/SkyNET/Desktop/Learn python/Projects/SDA/megaline_users.csv')\n",
    "\n",
    "\n",
    "except:\n",
    "    data_calls = pd.read_csv('/datasets/megaline_calls.csv')\n",
    "    data_internet = pd.read_csv('/datasets/megaline_internet.csv')\n",
    "    data_messages = pd.read_csv('/datasets/megaline_messages.csv')\n",
    "    data_plans = pd.read_csv('/datasets/megaline_plans.csv')\n",
    "    data_users = pd.read_csv('/datasets/megaline_users.csv')\n",
    "\n"
   ]
  },
  {
   "cell_type": "markdown",
   "metadata": {},
   "source": [
    "Let us create a list of the tables and their descriptions. And then we have a look at the general information."
   ]
  },
  {
   "cell_type": "code",
   "execution_count": 4,
   "metadata": {},
   "outputs": [
    {
     "name": "stdout",
     "output_type": "stream",
     "text": [
      "\u001b[1mGeneral information\u001b[0m\n",
      "\u001b[1mThe table containing information about customer data:\u001b[0m\n",
      "<class 'pandas.core.frame.DataFrame'>\n",
      "RangeIndex: 500 entries, 0 to 499\n",
      "Data columns (total 8 columns):\n",
      " #   Column      Non-Null Count  Dtype \n",
      "---  ------      --------------  ----- \n",
      " 0   user_id     500 non-null    int64 \n",
      " 1   first_name  500 non-null    object\n",
      " 2   last_name   500 non-null    object\n",
      " 3   age         500 non-null    int64 \n",
      " 4   city        500 non-null    object\n",
      " 5   reg_date    500 non-null    object\n",
      " 6   plan        500 non-null    object\n",
      " 7   churn_date  34 non-null     object\n",
      "dtypes: int64(2), object(6)\n",
      "memory usage: 31.4+ KB\n",
      "None\n",
      "\n",
      "\u001b[1mThe table containing information about calls:\u001b[0m\n",
      "<class 'pandas.core.frame.DataFrame'>\n",
      "RangeIndex: 137735 entries, 0 to 137734\n",
      "Data columns (total 4 columns):\n",
      " #   Column     Non-Null Count   Dtype  \n",
      "---  ------     --------------   -----  \n",
      " 0   id         137735 non-null  object \n",
      " 1   user_id    137735 non-null  int64  \n",
      " 2   call_date  137735 non-null  object \n",
      " 3   duration   137735 non-null  float64\n",
      "dtypes: float64(1), int64(1), object(2)\n",
      "memory usage: 4.2+ MB\n",
      "None\n",
      "\n",
      "\u001b[1mThe table containing information about text messages:\u001b[0m\n",
      "<class 'pandas.core.frame.DataFrame'>\n",
      "RangeIndex: 76051 entries, 0 to 76050\n",
      "Data columns (total 3 columns):\n",
      " #   Column        Non-Null Count  Dtype \n",
      "---  ------        --------------  ----- \n",
      " 0   id            76051 non-null  object\n",
      " 1   user_id       76051 non-null  int64 \n",
      " 2   message_date  76051 non-null  object\n",
      "dtypes: int64(1), object(2)\n",
      "memory usage: 1.7+ MB\n",
      "None\n",
      "\n",
      "\u001b[1mThe table containing information about web traffic:\u001b[0m\n",
      "<class 'pandas.core.frame.DataFrame'>\n",
      "RangeIndex: 104825 entries, 0 to 104824\n",
      "Data columns (total 4 columns):\n",
      " #   Column        Non-Null Count   Dtype  \n",
      "---  ------        --------------   -----  \n",
      " 0   id            104825 non-null  object \n",
      " 1   user_id       104825 non-null  int64  \n",
      " 2   session_date  104825 non-null  object \n",
      " 3   mb_used       104825 non-null  float64\n",
      "dtypes: float64(1), int64(1), object(2)\n",
      "memory usage: 3.2+ MB\n",
      "None\n",
      "\n",
      "\u001b[1mThe table containing information about the prepaid plans:\u001b[0m\n",
      "<class 'pandas.core.frame.DataFrame'>\n",
      "RangeIndex: 2 entries, 0 to 1\n",
      "Data columns (total 8 columns):\n",
      " #   Column                 Non-Null Count  Dtype  \n",
      "---  ------                 --------------  -----  \n",
      " 0   messages_included      2 non-null      int64  \n",
      " 1   mb_per_month_included  2 non-null      int64  \n",
      " 2   minutes_included       2 non-null      int64  \n",
      " 3   usd_monthly_pay        2 non-null      int64  \n",
      " 4   usd_per_gb             2 non-null      int64  \n",
      " 5   usd_per_message        2 non-null      float64\n",
      " 6   usd_per_minute         2 non-null      float64\n",
      " 7   plan_name              2 non-null      object \n",
      "dtypes: float64(2), int64(5), object(1)\n",
      "memory usage: 256.0+ bytes\n",
      "None\n",
      "\n",
      "\u001b[1mThe first rows in the table containing information about customer data:\u001b[0m\n"
     ]
    },
    {
     "data": {
      "text/html": [
       "<div>\n",
       "<style scoped>\n",
       "    .dataframe tbody tr th:only-of-type {\n",
       "        vertical-align: middle;\n",
       "    }\n",
       "\n",
       "    .dataframe tbody tr th {\n",
       "        vertical-align: top;\n",
       "    }\n",
       "\n",
       "    .dataframe thead th {\n",
       "        text-align: right;\n",
       "    }\n",
       "</style>\n",
       "<table border=\"1\" class=\"dataframe\">\n",
       "  <thead>\n",
       "    <tr style=\"text-align: right;\">\n",
       "      <th></th>\n",
       "      <th>user_id</th>\n",
       "      <th>first_name</th>\n",
       "      <th>last_name</th>\n",
       "      <th>age</th>\n",
       "      <th>city</th>\n",
       "      <th>reg_date</th>\n",
       "      <th>plan</th>\n",
       "      <th>churn_date</th>\n",
       "    </tr>\n",
       "  </thead>\n",
       "  <tbody>\n",
       "    <tr>\n",
       "      <th>0</th>\n",
       "      <td>1000</td>\n",
       "      <td>Anamaria</td>\n",
       "      <td>Bauer</td>\n",
       "      <td>45</td>\n",
       "      <td>Atlanta-Sandy Springs-Roswell, GA MSA</td>\n",
       "      <td>2018-12-24</td>\n",
       "      <td>ultimate</td>\n",
       "      <td>NaN</td>\n",
       "    </tr>\n",
       "    <tr>\n",
       "      <th>1</th>\n",
       "      <td>1001</td>\n",
       "      <td>Mickey</td>\n",
       "      <td>Wilkerson</td>\n",
       "      <td>28</td>\n",
       "      <td>Seattle-Tacoma-Bellevue, WA MSA</td>\n",
       "      <td>2018-08-13</td>\n",
       "      <td>surf</td>\n",
       "      <td>NaN</td>\n",
       "    </tr>\n",
       "    <tr>\n",
       "      <th>2</th>\n",
       "      <td>1002</td>\n",
       "      <td>Carlee</td>\n",
       "      <td>Hoffman</td>\n",
       "      <td>36</td>\n",
       "      <td>Las Vegas-Henderson-Paradise, NV MSA</td>\n",
       "      <td>2018-10-21</td>\n",
       "      <td>surf</td>\n",
       "      <td>NaN</td>\n",
       "    </tr>\n",
       "    <tr>\n",
       "      <th>3</th>\n",
       "      <td>1003</td>\n",
       "      <td>Reynaldo</td>\n",
       "      <td>Jenkins</td>\n",
       "      <td>52</td>\n",
       "      <td>Tulsa, OK MSA</td>\n",
       "      <td>2018-01-28</td>\n",
       "      <td>surf</td>\n",
       "      <td>NaN</td>\n",
       "    </tr>\n",
       "    <tr>\n",
       "      <th>4</th>\n",
       "      <td>1004</td>\n",
       "      <td>Leonila</td>\n",
       "      <td>Thompson</td>\n",
       "      <td>40</td>\n",
       "      <td>Seattle-Tacoma-Bellevue, WA MSA</td>\n",
       "      <td>2018-05-23</td>\n",
       "      <td>surf</td>\n",
       "      <td>NaN</td>\n",
       "    </tr>\n",
       "  </tbody>\n",
       "</table>\n",
       "</div>"
      ],
      "text/plain": [
       "   user_id first_name  last_name  age                                   city  \\\n",
       "0     1000   Anamaria      Bauer   45  Atlanta-Sandy Springs-Roswell, GA MSA   \n",
       "1     1001     Mickey  Wilkerson   28        Seattle-Tacoma-Bellevue, WA MSA   \n",
       "2     1002     Carlee    Hoffman   36   Las Vegas-Henderson-Paradise, NV MSA   \n",
       "3     1003   Reynaldo    Jenkins   52                          Tulsa, OK MSA   \n",
       "4     1004    Leonila   Thompson   40        Seattle-Tacoma-Bellevue, WA MSA   \n",
       "\n",
       "     reg_date      plan churn_date  \n",
       "0  2018-12-24  ultimate        NaN  \n",
       "1  2018-08-13      surf        NaN  \n",
       "2  2018-10-21      surf        NaN  \n",
       "3  2018-01-28      surf        NaN  \n",
       "4  2018-05-23      surf        NaN  "
      ]
     },
     "metadata": {},
     "output_type": "display_data"
    },
    {
     "name": "stdout",
     "output_type": "stream",
     "text": [
      "\n",
      "\u001b[1mThe first rows in the table containing information about calls:\u001b[0m\n"
     ]
    },
    {
     "data": {
      "text/html": [
       "<div>\n",
       "<style scoped>\n",
       "    .dataframe tbody tr th:only-of-type {\n",
       "        vertical-align: middle;\n",
       "    }\n",
       "\n",
       "    .dataframe tbody tr th {\n",
       "        vertical-align: top;\n",
       "    }\n",
       "\n",
       "    .dataframe thead th {\n",
       "        text-align: right;\n",
       "    }\n",
       "</style>\n",
       "<table border=\"1\" class=\"dataframe\">\n",
       "  <thead>\n",
       "    <tr style=\"text-align: right;\">\n",
       "      <th></th>\n",
       "      <th>id</th>\n",
       "      <th>user_id</th>\n",
       "      <th>call_date</th>\n",
       "      <th>duration</th>\n",
       "    </tr>\n",
       "  </thead>\n",
       "  <tbody>\n",
       "    <tr>\n",
       "      <th>0</th>\n",
       "      <td>1000_93</td>\n",
       "      <td>1000</td>\n",
       "      <td>2018-12-27</td>\n",
       "      <td>8.52</td>\n",
       "    </tr>\n",
       "    <tr>\n",
       "      <th>1</th>\n",
       "      <td>1000_145</td>\n",
       "      <td>1000</td>\n",
       "      <td>2018-12-27</td>\n",
       "      <td>13.66</td>\n",
       "    </tr>\n",
       "    <tr>\n",
       "      <th>2</th>\n",
       "      <td>1000_247</td>\n",
       "      <td>1000</td>\n",
       "      <td>2018-12-27</td>\n",
       "      <td>14.48</td>\n",
       "    </tr>\n",
       "    <tr>\n",
       "      <th>3</th>\n",
       "      <td>1000_309</td>\n",
       "      <td>1000</td>\n",
       "      <td>2018-12-28</td>\n",
       "      <td>5.76</td>\n",
       "    </tr>\n",
       "    <tr>\n",
       "      <th>4</th>\n",
       "      <td>1000_380</td>\n",
       "      <td>1000</td>\n",
       "      <td>2018-12-30</td>\n",
       "      <td>4.22</td>\n",
       "    </tr>\n",
       "  </tbody>\n",
       "</table>\n",
       "</div>"
      ],
      "text/plain": [
       "         id  user_id   call_date  duration\n",
       "0   1000_93     1000  2018-12-27      8.52\n",
       "1  1000_145     1000  2018-12-27     13.66\n",
       "2  1000_247     1000  2018-12-27     14.48\n",
       "3  1000_309     1000  2018-12-28      5.76\n",
       "4  1000_380     1000  2018-12-30      4.22"
      ]
     },
     "metadata": {},
     "output_type": "display_data"
    },
    {
     "name": "stdout",
     "output_type": "stream",
     "text": [
      "\n",
      "\u001b[1mThe first rows in the table containing information about text messages:\u001b[0m\n"
     ]
    },
    {
     "data": {
      "text/html": [
       "<div>\n",
       "<style scoped>\n",
       "    .dataframe tbody tr th:only-of-type {\n",
       "        vertical-align: middle;\n",
       "    }\n",
       "\n",
       "    .dataframe tbody tr th {\n",
       "        vertical-align: top;\n",
       "    }\n",
       "\n",
       "    .dataframe thead th {\n",
       "        text-align: right;\n",
       "    }\n",
       "</style>\n",
       "<table border=\"1\" class=\"dataframe\">\n",
       "  <thead>\n",
       "    <tr style=\"text-align: right;\">\n",
       "      <th></th>\n",
       "      <th>id</th>\n",
       "      <th>user_id</th>\n",
       "      <th>message_date</th>\n",
       "    </tr>\n",
       "  </thead>\n",
       "  <tbody>\n",
       "    <tr>\n",
       "      <th>0</th>\n",
       "      <td>1000_125</td>\n",
       "      <td>1000</td>\n",
       "      <td>2018-12-27</td>\n",
       "    </tr>\n",
       "    <tr>\n",
       "      <th>1</th>\n",
       "      <td>1000_160</td>\n",
       "      <td>1000</td>\n",
       "      <td>2018-12-31</td>\n",
       "    </tr>\n",
       "    <tr>\n",
       "      <th>2</th>\n",
       "      <td>1000_223</td>\n",
       "      <td>1000</td>\n",
       "      <td>2018-12-31</td>\n",
       "    </tr>\n",
       "    <tr>\n",
       "      <th>3</th>\n",
       "      <td>1000_251</td>\n",
       "      <td>1000</td>\n",
       "      <td>2018-12-27</td>\n",
       "    </tr>\n",
       "    <tr>\n",
       "      <th>4</th>\n",
       "      <td>1000_255</td>\n",
       "      <td>1000</td>\n",
       "      <td>2018-12-26</td>\n",
       "    </tr>\n",
       "  </tbody>\n",
       "</table>\n",
       "</div>"
      ],
      "text/plain": [
       "         id  user_id message_date\n",
       "0  1000_125     1000   2018-12-27\n",
       "1  1000_160     1000   2018-12-31\n",
       "2  1000_223     1000   2018-12-31\n",
       "3  1000_251     1000   2018-12-27\n",
       "4  1000_255     1000   2018-12-26"
      ]
     },
     "metadata": {},
     "output_type": "display_data"
    },
    {
     "name": "stdout",
     "output_type": "stream",
     "text": [
      "\n",
      "\u001b[1mThe first rows in the table containing information about web traffic:\u001b[0m\n"
     ]
    },
    {
     "data": {
      "text/html": [
       "<div>\n",
       "<style scoped>\n",
       "    .dataframe tbody tr th:only-of-type {\n",
       "        vertical-align: middle;\n",
       "    }\n",
       "\n",
       "    .dataframe tbody tr th {\n",
       "        vertical-align: top;\n",
       "    }\n",
       "\n",
       "    .dataframe thead th {\n",
       "        text-align: right;\n",
       "    }\n",
       "</style>\n",
       "<table border=\"1\" class=\"dataframe\">\n",
       "  <thead>\n",
       "    <tr style=\"text-align: right;\">\n",
       "      <th></th>\n",
       "      <th>id</th>\n",
       "      <th>user_id</th>\n",
       "      <th>session_date</th>\n",
       "      <th>mb_used</th>\n",
       "    </tr>\n",
       "  </thead>\n",
       "  <tbody>\n",
       "    <tr>\n",
       "      <th>0</th>\n",
       "      <td>1000_13</td>\n",
       "      <td>1000</td>\n",
       "      <td>2018-12-29</td>\n",
       "      <td>89.86</td>\n",
       "    </tr>\n",
       "    <tr>\n",
       "      <th>1</th>\n",
       "      <td>1000_204</td>\n",
       "      <td>1000</td>\n",
       "      <td>2018-12-31</td>\n",
       "      <td>0.00</td>\n",
       "    </tr>\n",
       "    <tr>\n",
       "      <th>2</th>\n",
       "      <td>1000_379</td>\n",
       "      <td>1000</td>\n",
       "      <td>2018-12-28</td>\n",
       "      <td>660.40</td>\n",
       "    </tr>\n",
       "    <tr>\n",
       "      <th>3</th>\n",
       "      <td>1000_413</td>\n",
       "      <td>1000</td>\n",
       "      <td>2018-12-26</td>\n",
       "      <td>270.99</td>\n",
       "    </tr>\n",
       "    <tr>\n",
       "      <th>4</th>\n",
       "      <td>1000_442</td>\n",
       "      <td>1000</td>\n",
       "      <td>2018-12-27</td>\n",
       "      <td>880.22</td>\n",
       "    </tr>\n",
       "  </tbody>\n",
       "</table>\n",
       "</div>"
      ],
      "text/plain": [
       "         id  user_id session_date  mb_used\n",
       "0   1000_13     1000   2018-12-29    89.86\n",
       "1  1000_204     1000   2018-12-31     0.00\n",
       "2  1000_379     1000   2018-12-28   660.40\n",
       "3  1000_413     1000   2018-12-26   270.99\n",
       "4  1000_442     1000   2018-12-27   880.22"
      ]
     },
     "metadata": {},
     "output_type": "display_data"
    },
    {
     "name": "stdout",
     "output_type": "stream",
     "text": [
      "\n",
      "\u001b[1mThe first rows in the table containing information about the prepaid plans:\u001b[0m\n"
     ]
    },
    {
     "data": {
      "text/html": [
       "<div>\n",
       "<style scoped>\n",
       "    .dataframe tbody tr th:only-of-type {\n",
       "        vertical-align: middle;\n",
       "    }\n",
       "\n",
       "    .dataframe tbody tr th {\n",
       "        vertical-align: top;\n",
       "    }\n",
       "\n",
       "    .dataframe thead th {\n",
       "        text-align: right;\n",
       "    }\n",
       "</style>\n",
       "<table border=\"1\" class=\"dataframe\">\n",
       "  <thead>\n",
       "    <tr style=\"text-align: right;\">\n",
       "      <th></th>\n",
       "      <th>messages_included</th>\n",
       "      <th>mb_per_month_included</th>\n",
       "      <th>minutes_included</th>\n",
       "      <th>usd_monthly_pay</th>\n",
       "      <th>usd_per_gb</th>\n",
       "      <th>usd_per_message</th>\n",
       "      <th>usd_per_minute</th>\n",
       "      <th>plan_name</th>\n",
       "    </tr>\n",
       "  </thead>\n",
       "  <tbody>\n",
       "    <tr>\n",
       "      <th>0</th>\n",
       "      <td>50</td>\n",
       "      <td>15360</td>\n",
       "      <td>500</td>\n",
       "      <td>20</td>\n",
       "      <td>10</td>\n",
       "      <td>0.03</td>\n",
       "      <td>0.03</td>\n",
       "      <td>surf</td>\n",
       "    </tr>\n",
       "    <tr>\n",
       "      <th>1</th>\n",
       "      <td>1000</td>\n",
       "      <td>30720</td>\n",
       "      <td>3000</td>\n",
       "      <td>70</td>\n",
       "      <td>7</td>\n",
       "      <td>0.01</td>\n",
       "      <td>0.01</td>\n",
       "      <td>ultimate</td>\n",
       "    </tr>\n",
       "  </tbody>\n",
       "</table>\n",
       "</div>"
      ],
      "text/plain": [
       "   messages_included  mb_per_month_included  minutes_included  \\\n",
       "0                 50                  15360               500   \n",
       "1               1000                  30720              3000   \n",
       "\n",
       "   usd_monthly_pay  usd_per_gb  usd_per_message  usd_per_minute plan_name  \n",
       "0               20          10             0.03            0.03      surf  \n",
       "1               70           7             0.01            0.01  ultimate  "
      ]
     },
     "metadata": {},
     "output_type": "display_data"
    },
    {
     "name": "stdout",
     "output_type": "stream",
     "text": [
      "\n"
     ]
    }
   ],
   "source": [
    "#creating the list of tables and their descriptions\n",
    "dfs_list = [data_users, data_calls, data_messages, data_internet, data_plans]\n",
    "table_description = ['customer data', 'calls', 'text messages', 'web traffic', 'the prepaid plans'] \n",
    "\n",
    "#looking at the data's general information.\n",
    "print(BOLD + 'General information' + END)\n",
    "for df, name in zip(dfs_list, table_description):\n",
    "    print(BOLD + 'The table containing information about ' + name + ':' + END)\n",
    "    print(df.info())\n",
    "    print()\n",
    "    \n",
    "#looking at the first few rows in a table    \n",
    "for df, name in zip(dfs_list, table_description):\n",
    "    print(BOLD + 'The first rows in the table containing information about ' + name + ':' + END)\n",
    "    display(df.head())\n",
    "    print()"
   ]
  },
  {
   "cell_type": "markdown",
   "metadata": {},
   "source": [
    "The first four tables contain information about 500 customers who made 137735 calls, sent 76051 text messages and opened 104825 sessions on the Internet. The last table contains information about two calling plans.\n",
    "\n",
    "Only the *'churn_date'* column of the table with customers info have missing values and there are quite a few of them. Thus, most of the customers continue to use the operator's services and this date has not been determined for them.\n",
    "\n",
    "For the columns *'age'* of the table with customers info int64 is used. It seems excessive and would be enough int8. For the *'reg_date', 'churn_date', 'call_date', 'message_date'* and *'session_date'* columns, it's nessecary to change the type to datetime to make it convenient to work with dates.\n",
    "\n",
    "We also need to consider that __Megaline__ round up seconds to minutes for calls, and we need to apply this on the *'duration'* column before moving ahead."
   ]
  },
  {
   "cell_type": "markdown",
   "metadata": {},
   "source": [
    "<div class=\"alert alert-success\">\n",
    "<b>Reviewer's comment v1:</b>\n",
    "    \n",
    "Good start and first view on data! \n"
   ]
  },
  {
   "cell_type": "code",
   "execution_count": 5,
   "metadata": {
    "scrolled": true
   },
   "outputs": [
    {
     "data": {
      "text/html": [
       "<div>\n",
       "<style scoped>\n",
       "    .dataframe tbody tr th:only-of-type {\n",
       "        vertical-align: middle;\n",
       "    }\n",
       "\n",
       "    .dataframe tbody tr th {\n",
       "        vertical-align: top;\n",
       "    }\n",
       "\n",
       "    .dataframe thead th {\n",
       "        text-align: right;\n",
       "    }\n",
       "</style>\n",
       "<table border=\"1\" class=\"dataframe\">\n",
       "  <thead>\n",
       "    <tr style=\"text-align: right;\">\n",
       "      <th></th>\n",
       "      <th>id</th>\n",
       "      <th>user_id</th>\n",
       "      <th>call_date</th>\n",
       "      <th>duration</th>\n",
       "    </tr>\n",
       "  </thead>\n",
       "  <tbody>\n",
       "    <tr>\n",
       "      <th>0</th>\n",
       "      <td>1000_93</td>\n",
       "      <td>1000</td>\n",
       "      <td>2018-12-27</td>\n",
       "      <td>9.0</td>\n",
       "    </tr>\n",
       "    <tr>\n",
       "      <th>1</th>\n",
       "      <td>1000_145</td>\n",
       "      <td>1000</td>\n",
       "      <td>2018-12-27</td>\n",
       "      <td>14.0</td>\n",
       "    </tr>\n",
       "    <tr>\n",
       "      <th>2</th>\n",
       "      <td>1000_247</td>\n",
       "      <td>1000</td>\n",
       "      <td>2018-12-27</td>\n",
       "      <td>15.0</td>\n",
       "    </tr>\n",
       "    <tr>\n",
       "      <th>3</th>\n",
       "      <td>1000_309</td>\n",
       "      <td>1000</td>\n",
       "      <td>2018-12-28</td>\n",
       "      <td>6.0</td>\n",
       "    </tr>\n",
       "    <tr>\n",
       "      <th>4</th>\n",
       "      <td>1000_380</td>\n",
       "      <td>1000</td>\n",
       "      <td>2018-12-30</td>\n",
       "      <td>5.0</td>\n",
       "    </tr>\n",
       "  </tbody>\n",
       "</table>\n",
       "</div>"
      ],
      "text/plain": [
       "         id  user_id   call_date  duration\n",
       "0   1000_93     1000  2018-12-27       9.0\n",
       "1  1000_145     1000  2018-12-27      14.0\n",
       "2  1000_247     1000  2018-12-27      15.0\n",
       "3  1000_309     1000  2018-12-28       6.0\n",
       "4  1000_380     1000  2018-12-30       5.0"
      ]
     },
     "execution_count": 5,
     "metadata": {},
     "output_type": "execute_result"
    }
   ],
   "source": [
    "data_calls['duration']=np.ceil(data_calls['duration'])\n",
    "data_calls.head()"
   ]
  },
  {
   "cell_type": "markdown",
   "metadata": {},
   "source": [
    "<div class=\"alert alert-warning\" role=\"alert\">\n",
    "<b>Reviewer's comment v1:</b>\n",
    "    \n",
    "- Ok, great job! You can also use here np.ceil () function.\n",
    "\n",
    "- This function by the way also works without `apply` which makes code shorter and faster.\n",
    "\n",
    "```\n",
    "calls['duration'] = np.ceil(calls['duration'])\n",
    "```"
   ]
  },
  {
   "cell_type": "markdown",
   "metadata": {},
   "source": [
    "<div class=\"alert alert-info\"> <b>Student comments:</b>I have changed the code to what you said</div>"
   ]
  },
  {
   "cell_type": "markdown",
   "metadata": {},
   "source": [
    "Now let's look at the values that take numerical features."
   ]
  },
  {
   "cell_type": "code",
   "execution_count": 6,
   "metadata": {},
   "outputs": [
    {
     "name": "stdout",
     "output_type": "stream",
     "text": [
      "\u001b[1mNumerical features\u001b[0m\n",
      "\u001b[1mThe 'age' column in the table containing customer data:\u001b[0m\n"
     ]
    },
    {
     "data": {
      "text/html": [
       "<div>\n",
       "<style scoped>\n",
       "    .dataframe tbody tr th:only-of-type {\n",
       "        vertical-align: middle;\n",
       "    }\n",
       "\n",
       "    .dataframe tbody tr th {\n",
       "        vertical-align: top;\n",
       "    }\n",
       "\n",
       "    .dataframe thead th {\n",
       "        text-align: right;\n",
       "    }\n",
       "</style>\n",
       "<table border=\"1\" class=\"dataframe\">\n",
       "  <thead>\n",
       "    <tr style=\"text-align: right;\">\n",
       "      <th></th>\n",
       "      <th>count</th>\n",
       "      <th>mean</th>\n",
       "      <th>std</th>\n",
       "      <th>min</th>\n",
       "      <th>25%</th>\n",
       "      <th>50%</th>\n",
       "      <th>75%</th>\n",
       "      <th>max</th>\n",
       "    </tr>\n",
       "  </thead>\n",
       "  <tbody>\n",
       "    <tr>\n",
       "      <th>age</th>\n",
       "      <td>500.0</td>\n",
       "      <td>45.5</td>\n",
       "      <td>17.0</td>\n",
       "      <td>18.0</td>\n",
       "      <td>30.0</td>\n",
       "      <td>46.0</td>\n",
       "      <td>61.0</td>\n",
       "      <td>75.0</td>\n",
       "    </tr>\n",
       "  </tbody>\n",
       "</table>\n",
       "</div>"
      ],
      "text/plain": [
       "     count  mean   std   min   25%   50%   75%   max\n",
       "age  500.0  45.5  17.0  18.0  30.0  46.0  61.0  75.0"
      ]
     },
     "metadata": {},
     "output_type": "display_data"
    },
    {
     "name": "stdout",
     "output_type": "stream",
     "text": [
      "\n",
      "\u001b[1mThe 'duration' column in the table containing calls data:\u001b[0m\n"
     ]
    },
    {
     "data": {
      "text/html": [
       "<div>\n",
       "<style scoped>\n",
       "    .dataframe tbody tr th:only-of-type {\n",
       "        vertical-align: middle;\n",
       "    }\n",
       "\n",
       "    .dataframe tbody tr th {\n",
       "        vertical-align: top;\n",
       "    }\n",
       "\n",
       "    .dataframe thead th {\n",
       "        text-align: right;\n",
       "    }\n",
       "</style>\n",
       "<table border=\"1\" class=\"dataframe\">\n",
       "  <thead>\n",
       "    <tr style=\"text-align: right;\">\n",
       "      <th></th>\n",
       "      <th>count</th>\n",
       "      <th>mean</th>\n",
       "      <th>std</th>\n",
       "      <th>min</th>\n",
       "      <th>25%</th>\n",
       "      <th>50%</th>\n",
       "      <th>75%</th>\n",
       "      <th>max</th>\n",
       "    </tr>\n",
       "  </thead>\n",
       "  <tbody>\n",
       "    <tr>\n",
       "      <th>duration</th>\n",
       "      <td>137735.0</td>\n",
       "      <td>7.1</td>\n",
       "      <td>6.0</td>\n",
       "      <td>0.0</td>\n",
       "      <td>2.0</td>\n",
       "      <td>6.0</td>\n",
       "      <td>11.0</td>\n",
       "      <td>38.0</td>\n",
       "    </tr>\n",
       "  </tbody>\n",
       "</table>\n",
       "</div>"
      ],
      "text/plain": [
       "             count  mean  std  min  25%  50%   75%   max\n",
       "duration  137735.0   7.1  6.0  0.0  2.0  6.0  11.0  38.0"
      ]
     },
     "metadata": {},
     "output_type": "display_data"
    },
    {
     "name": "stdout",
     "output_type": "stream",
     "text": [
      "\n",
      "\u001b[1mThe 'mb_used' column in the table containing web traffic data:\u001b[0m\n"
     ]
    },
    {
     "data": {
      "text/html": [
       "<div>\n",
       "<style scoped>\n",
       "    .dataframe tbody tr th:only-of-type {\n",
       "        vertical-align: middle;\n",
       "    }\n",
       "\n",
       "    .dataframe tbody tr th {\n",
       "        vertical-align: top;\n",
       "    }\n",
       "\n",
       "    .dataframe thead th {\n",
       "        text-align: right;\n",
       "    }\n",
       "</style>\n",
       "<table border=\"1\" class=\"dataframe\">\n",
       "  <thead>\n",
       "    <tr style=\"text-align: right;\">\n",
       "      <th></th>\n",
       "      <th>count</th>\n",
       "      <th>mean</th>\n",
       "      <th>std</th>\n",
       "      <th>min</th>\n",
       "      <th>25%</th>\n",
       "      <th>50%</th>\n",
       "      <th>75%</th>\n",
       "      <th>max</th>\n",
       "    </tr>\n",
       "  </thead>\n",
       "  <tbody>\n",
       "    <tr>\n",
       "      <th>mb_used</th>\n",
       "      <td>104825.0</td>\n",
       "      <td>366.7</td>\n",
       "      <td>277.2</td>\n",
       "      <td>0.0</td>\n",
       "      <td>136.1</td>\n",
       "      <td>344.0</td>\n",
       "      <td>554.6</td>\n",
       "      <td>1693.5</td>\n",
       "    </tr>\n",
       "  </tbody>\n",
       "</table>\n",
       "</div>"
      ],
      "text/plain": [
       "            count   mean    std  min    25%    50%    75%     max\n",
       "mb_used  104825.0  366.7  277.2  0.0  136.1  344.0  554.6  1693.5"
      ]
     },
     "metadata": {},
     "output_type": "display_data"
    },
    {
     "name": "stdout",
     "output_type": "stream",
     "text": [
      "\n",
      "\u001b[1mHistograms for numerical features\u001b[0m\n"
     ]
    },
    {
     "data": {
      "image/png": "[encoded data removed]",
      "text/plain": [
       "<Figure size 1296x288 with 3 Axes>"
      ]
     },
     "metadata": {
      "needs_background": "light"
     },
     "output_type": "display_data"
    }
   ],
   "source": [
    "#creating the corresponding lists of tables and columns\n",
    "num_tables = [data_users, data_calls, data_internet]\n",
    "num_cols = ['age', 'duration', 'mb_used']\n",
    "num_table_description = ['customer data', 'calls data', 'web traffic data']\n",
    "\n",
    "print(BOLD + 'Numerical features' + END)\n",
    "#looking at the values that take numerical features \n",
    "for table, col, description in zip(num_tables, num_cols, num_table_description):\n",
    "    print(BOLD + \"The '\" + col + \"' column in the table containing \" + description + ':' + END)\n",
    "    display(round(table[[col]].describe(), 1).T)\n",
    "    print()\n",
    "\n",
    "#function to plot several histograms in one line\n",
    "def hist_in_row(tables, cols, bins_num=None):\n",
    "    cols_num = len(cols)\n",
    "    fig, axes = plt.subplots(ncols=cols_num, figsize=(6*cols_num, 4))\n",
    "    for i, (table, col) in enumerate(zip(tables, cols)):\n",
    "        axes[i%cols_num].hist(x=col, data=table, bins=bins_num)\n",
    "        axes[i%cols_num].set_title(col)\n",
    "        axes[i%cols_num].set_ylabel('Frequency')\n",
    "\n",
    "print(BOLD + 'Histograms for numerical features' + END)\n",
    "hist_in_row(num_tables, num_cols, 20)"
   ]
  },
  {
   "cell_type": "markdown",
   "metadata": {},
   "source": [
    "The dataset contains data about customers between the ages of 18 and 75. The feature *'age'* seems to be uniformly distributed across the sample.\n",
    "\n",
    "Customers talk on the phone for 6-7 minutes on average and there are a lot of missed calls (assuming that a call duration of 0 minutes corresponds to a missed call, given that the provider is rounds seconds up to minutes). The maximum call duration is almost 38 minutes.\n",
    "\n",
    "Customers download 350 MB of data per session on average. There are also a lot of sessions with zero traffic, possibly due to the fact that individual web sessions are not rounded up. The maximum traffic per session was slightly more than 1.5 GB."
   ]
  },
  {
   "cell_type": "markdown",
   "metadata": {},
   "source": [
    "<div class=\"alert alert-success\">\n",
    "<b>Reviewer's comment v1:</b>\n",
    "    \n",
    "Great that you've added a solution for zero-based data.\n",
    "\n",
    "On a real project, of course, you can always find out the reason for such zeros. But in this case, it is enough to consider the alternatives and the impact of each decision."
   ]
  },
  {
   "cell_type": "markdown",
   "metadata": {},
   "source": [
    "Let's look at shares of missed calls and sessions with zero web traffic. And the shares of customers by calling plans and by activities of using mobile networks as well."
   ]
  },
  {
   "cell_type": "code",
   "execution_count": 7,
   "metadata": {},
   "outputs": [
    {
     "name": "stdout",
     "output_type": "stream",
     "text": [
      "\u001b[1mThe percent of missing calls is \u001b[0m19.5%\n",
      "\n",
      "\u001b[1mThe percent of missing calls of a customer by calling plans:\u001b[0m\n"
     ]
    },
    {
     "data": {
      "image/png": "[encoded data removed]",
      "text/plain": [
       "<Figure size 432x288 with 1 Axes>"
      ]
     },
     "metadata": {
      "needs_background": "light"
     },
     "output_type": "display_data"
    },
    {
     "name": "stdout",
     "output_type": "stream",
     "text": [
      "\u001b[1mThe percent of session with zero traffic is \u001b[0m13.1%\n",
      "\u001b[1mThe percent of session with zero traffic by calling plans:\u001b[0m\n"
     ]
    },
    {
     "data": {
      "image/png": "[encoded data removed]",
      "text/plain": [
       "<Figure size 432x288 with 1 Axes>"
      ]
     },
     "metadata": {
      "needs_background": "light"
     },
     "output_type": "display_data"
    },
    {
     "name": "stdout",
     "output_type": "stream",
     "text": [
      "\n",
      "\u001b[1mThe share of customers by calling plans:\u001b[0m\n"
     ]
    },
    {
     "data": {
      "text/html": [
       "<div>\n",
       "<style scoped>\n",
       "    .dataframe tbody tr th:only-of-type {\n",
       "        vertical-align: middle;\n",
       "    }\n",
       "\n",
       "    .dataframe tbody tr th {\n",
       "        vertical-align: top;\n",
       "    }\n",
       "\n",
       "    .dataframe thead th {\n",
       "        text-align: right;\n",
       "    }\n",
       "</style>\n",
       "<table border=\"1\" class=\"dataframe\">\n",
       "  <thead>\n",
       "    <tr style=\"text-align: right;\">\n",
       "      <th></th>\n",
       "      <th>number of customers</th>\n",
       "      <th>percent of customers</th>\n",
       "    </tr>\n",
       "  </thead>\n",
       "  <tbody>\n",
       "    <tr>\n",
       "      <th>surf</th>\n",
       "      <td>339</td>\n",
       "      <td>67.8</td>\n",
       "    </tr>\n",
       "    <tr>\n",
       "      <th>ultimate</th>\n",
       "      <td>161</td>\n",
       "      <td>32.2</td>\n",
       "    </tr>\n",
       "  </tbody>\n",
       "</table>\n",
       "</div>"
      ],
      "text/plain": [
       "          number of customers  percent of customers\n",
       "surf                      339                  67.8\n",
       "ultimate                  161                  32.2"
      ]
     },
     "metadata": {},
     "output_type": "display_data"
    },
    {
     "name": "stdout",
     "output_type": "stream",
     "text": [
      "\n",
      "\u001b[1mThe share of customers by activities:\u001b[0m\n"
     ]
    },
    {
     "data": {
      "text/html": [
       "<div>\n",
       "<style scoped>\n",
       "    .dataframe tbody tr th:only-of-type {\n",
       "        vertical-align: middle;\n",
       "    }\n",
       "\n",
       "    .dataframe tbody tr th {\n",
       "        vertical-align: top;\n",
       "    }\n",
       "\n",
       "    .dataframe thead th {\n",
       "        text-align: right;\n",
       "    }\n",
       "</style>\n",
       "<table border=\"1\" class=\"dataframe\">\n",
       "  <thead>\n",
       "    <tr style=\"text-align: right;\">\n",
       "      <th></th>\n",
       "      <th>number of customers</th>\n",
       "      <th>percent of customers</th>\n",
       "    </tr>\n",
       "  </thead>\n",
       "  <tbody>\n",
       "    <tr>\n",
       "      <th>calls</th>\n",
       "      <td>481</td>\n",
       "      <td>96.2</td>\n",
       "    </tr>\n",
       "    <tr>\n",
       "      <th>messages</th>\n",
       "      <td>402</td>\n",
       "      <td>80.4</td>\n",
       "    </tr>\n",
       "    <tr>\n",
       "      <th>internet</th>\n",
       "      <td>489</td>\n",
       "      <td>97.8</td>\n",
       "    </tr>\n",
       "  </tbody>\n",
       "</table>\n",
       "</div>"
      ],
      "text/plain": [
       "          number of customers  percent of customers\n",
       "calls                     481                  96.2\n",
       "messages                  402                  80.4\n",
       "internet                  489                  97.8"
      ]
     },
     "metadata": {},
     "output_type": "display_data"
    }
   ],
   "source": [
    "print(BOLD + 'The percent of missing calls is ' + END + '{:.1%}'\\\n",
    "          .format(len(data_calls[data_calls.duration==0])/len(data_calls)))\n",
    "print()\n",
    "\n",
    "#Let's look at percent of missing calls of a user by calling plans\n",
    "print(BOLD + 'The percent of missing calls of a customer by calling plans:' + END)\n",
    "perc_missing_calls_by_users = (data_calls[data_calls.duration==0].user_id.value_counts()\\\n",
    "                                   /data_calls.user_id.value_counts()*100).fillna(0)\n",
    "ax = sns.boxplot(x=perc_missing_calls_by_users,\n",
    "                 y='plan', data=data_calls.merge(data_users, on='user_id', how='left').sort_values('plan'));\n",
    "ax.set_xlabel('Percent of missing calls of a customer');\n",
    "plt.show()\n",
    "\n",
    "print(BOLD + 'The percent of session with zero traffic is ' + END + '{:.1%}'\\\n",
    "          .format(len(data_internet[data_internet.mb_used==0])/len(data_internet)))\n",
    "print(BOLD + 'The percent of session with zero traffic by calling plans:' + END)\n",
    "perc_zero_traffic_by_users = (data_internet[data_internet.mb_used==0].user_id.value_counts()\\\n",
    "                                   /data_internet.user_id.value_counts()*100).fillna(0)\n",
    "ax = sns.boxplot(x=perc_zero_traffic_by_users,\n",
    "                 y='plan', data=data_internet.merge(data_users, on='user_id', how='left').sort_values('plan'));\n",
    "ax.set_xlabel('Percent of zero traffic of a customer');\n",
    "plt.show()\n",
    "print()\n",
    "\n",
    "#looking at the number and percentage of customers by calling plans\n",
    "print(BOLD + 'The share of customers by calling plans:' + END)\n",
    "display(pd.DataFrame({'number of customers': data_users.plan.value_counts(),\n",
    "                    'percent of customers': round(data_users.plan.value_counts() * 100 / len(data_users), 1)}))\n",
    "print()\n",
    "\n",
    "#function to calculate number and percentage of users in a table\n",
    "def get_num_and_perc_of_users(df):\n",
    "    return [len(df.user_id.unique()), len(df.user_id.unique())/len(data_users)*100]\n",
    "\n",
    "#looking at the number and percentage of customers by activities\n",
    "print(BOLD + 'The share of customers by activities:' + END)\n",
    "display(pd.DataFrame([get_num_and_perc_of_users(data_calls),\n",
    "                    get_num_and_perc_of_users(data_messages),\n",
    "                    get_num_and_perc_of_users(data_internet)],\n",
    "                    index = ['calls', 'messages', 'internet'],\n",
    "                    columns=['number of customers', 'percent of customers']))"
   ]
  },
  {
   "cell_type": "markdown",
   "metadata": {},
   "source": [
    "he share of missed calls is quite large - 19.5%. Moreover, the typical share of missed calls of a customer varies from 15 to 25% regardless of the calling plan, which seems to be a rather large value. It may be worth checking the network coverage for customers under consideration or finding out other reasons for this.\n",
    "\n",
    "The percentage of sessions with zero traffic is also not small, it might be worth looking at the source or type of traffic.\n",
    "\n",
    "Among the customers of the dataset, 68% of customers use the Surf prepaid plan, and the rest - Ultimate.\n",
    "\n",
    "4% of customers don't make calls, 2% of customers don't use mobile internet, and 20% of customers don't send text messages."
   ]
  },
  {
   "cell_type": "markdown",
   "metadata": {},
   "source": [
    "<div class=\"alert alert-success\">\n",
    "<b>Reviewer's comment v1:</b>\n",
    "    \n",
    "Well done! You completed a very detailed eda. "
   ]
  },
  {
   "cell_type": "markdown",
   "metadata": {},
   "source": [
    "### Conclusion\n",
    "\n",
    "The dataset contains information about 500 customers, more than 135 thousand of their calls, more than 76 thousand of their text messages and almost 105 thousand of their sessions on the Internet.\n",
    "\n",
    "Customers are between 18 and 75 years old. All age groups are equally represented. On average, they speak on the phone for 6-7 minutes and spend 350 MB of mobile traffic per session. 20% of customers don't send text messages.\n",
    "\n",
    "32% of customers have the Ultimate prepaid plan and, accordingly, 68% have the Surf prepaid plan.\n",
    "\n",
    "There is a large percent of missed calls. It makes sense to check the coverage of network for users or identify possible reasons of this. It is also worth looking at sessions with zero mobile traffic, the share of which is also not small.\n",
    "\n",
    "Missing values are contained in only one column *'churn_date'* in the table with information about the clients. The values are only for those customers who have stopped using the services of the telecom operator, for other customers the value is not defined. Accordingly, these unknown values do not need to be filled.\n",
    "\n",
    "In addition, the type of the column *'age'* can be converted to the type int8, the types of *'reg_date', 'churn_date', 'call_date', 'message_date'* and *'session_date'* columns to datetime."
   ]
  },
  {
   "cell_type": "markdown",
   "metadata": {},
   "source": [
    "## 2. Preprocessing the data"
   ]
  },
  {
   "cell_type": "markdown",
   "metadata": {},
   "source": [
    "First off, we do the datatype change."
   ]
  },
  {
   "cell_type": "code",
   "execution_count": 8,
   "metadata": {},
   "outputs": [],
   "source": [
    "#converting excess type with help of astype() method:\n",
    "data_users['age'] = data_users.age.astype('int8') \n",
    "\n",
    "\n",
    "#converting to datatime type :\n",
    "data_users['reg_date'] = pd.to_datetime(data_users.reg_date, format='%Y-%m-%d') \n",
    "data_users['churn_date'] = pd.to_datetime(data_users.churn_date, format='%Y-%m-%d') \n",
    "data_calls['call_date'] = pd.to_datetime(data_calls.call_date, format='%Y-%m-%d') \n",
    "data_messages['message_date'] = pd.to_datetime(data_messages.message_date, format='%Y-%m-%d')\n",
    "data_internet['session_date'] = pd.to_datetime(data_internet.session_date, format='%Y-%m-%d')"
   ]
  },
  {
   "cell_type": "markdown",
   "metadata": {},
   "source": [
    "Let us examine the data range in the dataset after the type change."
   ]
  },
  {
   "cell_type": "code",
   "execution_count": 9,
   "metadata": {
    "scrolled": false
   },
   "outputs": [
    {
     "name": "stdout",
     "output_type": "stream",
     "text": [
      "\u001b[1mDate range in the dataset:\u001b[0m\n"
     ]
    },
    {
     "data": {
      "text/html": [
       "<div>\n",
       "<style scoped>\n",
       "    .dataframe tbody tr th:only-of-type {\n",
       "        vertical-align: middle;\n",
       "    }\n",
       "\n",
       "    .dataframe tbody tr th {\n",
       "        vertical-align: top;\n",
       "    }\n",
       "\n",
       "    .dataframe thead th {\n",
       "        text-align: right;\n",
       "    }\n",
       "</style>\n",
       "<table border=\"1\" class=\"dataframe\">\n",
       "  <thead>\n",
       "    <tr style=\"text-align: right;\">\n",
       "      <th></th>\n",
       "      <th>reg_date</th>\n",
       "    </tr>\n",
       "  </thead>\n",
       "  <tbody>\n",
       "    <tr>\n",
       "      <th>min</th>\n",
       "      <td>2018-01-01</td>\n",
       "    </tr>\n",
       "    <tr>\n",
       "      <th>max</th>\n",
       "      <td>2018-12-31</td>\n",
       "    </tr>\n",
       "  </tbody>\n",
       "</table>\n",
       "</div>"
      ],
      "text/plain": [
       "      reg_date\n",
       "min 2018-01-01\n",
       "max 2018-12-31"
      ]
     },
     "metadata": {},
     "output_type": "display_data"
    },
    {
     "data": {
      "text/html": [
       "<div>\n",
       "<style scoped>\n",
       "    .dataframe tbody tr th:only-of-type {\n",
       "        vertical-align: middle;\n",
       "    }\n",
       "\n",
       "    .dataframe tbody tr th {\n",
       "        vertical-align: top;\n",
       "    }\n",
       "\n",
       "    .dataframe thead th {\n",
       "        text-align: right;\n",
       "    }\n",
       "</style>\n",
       "<table border=\"1\" class=\"dataframe\">\n",
       "  <thead>\n",
       "    <tr style=\"text-align: right;\">\n",
       "      <th></th>\n",
       "      <th>churn_date</th>\n",
       "    </tr>\n",
       "  </thead>\n",
       "  <tbody>\n",
       "    <tr>\n",
       "      <th>min</th>\n",
       "      <td>2018-07-31</td>\n",
       "    </tr>\n",
       "    <tr>\n",
       "      <th>max</th>\n",
       "      <td>2018-12-31</td>\n",
       "    </tr>\n",
       "  </tbody>\n",
       "</table>\n",
       "</div>"
      ],
      "text/plain": [
       "    churn_date\n",
       "min 2018-07-31\n",
       "max 2018-12-31"
      ]
     },
     "metadata": {},
     "output_type": "display_data"
    },
    {
     "data": {
      "text/html": [
       "<div>\n",
       "<style scoped>\n",
       "    .dataframe tbody tr th:only-of-type {\n",
       "        vertical-align: middle;\n",
       "    }\n",
       "\n",
       "    .dataframe tbody tr th {\n",
       "        vertical-align: top;\n",
       "    }\n",
       "\n",
       "    .dataframe thead th {\n",
       "        text-align: right;\n",
       "    }\n",
       "</style>\n",
       "<table border=\"1\" class=\"dataframe\">\n",
       "  <thead>\n",
       "    <tr style=\"text-align: right;\">\n",
       "      <th></th>\n",
       "      <th>call_date</th>\n",
       "    </tr>\n",
       "  </thead>\n",
       "  <tbody>\n",
       "    <tr>\n",
       "      <th>min</th>\n",
       "      <td>2018-01-15</td>\n",
       "    </tr>\n",
       "    <tr>\n",
       "      <th>max</th>\n",
       "      <td>2018-12-31</td>\n",
       "    </tr>\n",
       "  </tbody>\n",
       "</table>\n",
       "</div>"
      ],
      "text/plain": [
       "     call_date\n",
       "min 2018-01-15\n",
       "max 2018-12-31"
      ]
     },
     "metadata": {},
     "output_type": "display_data"
    },
    {
     "data": {
      "text/html": [
       "<div>\n",
       "<style scoped>\n",
       "    .dataframe tbody tr th:only-of-type {\n",
       "        vertical-align: middle;\n",
       "    }\n",
       "\n",
       "    .dataframe tbody tr th {\n",
       "        vertical-align: top;\n",
       "    }\n",
       "\n",
       "    .dataframe thead th {\n",
       "        text-align: right;\n",
       "    }\n",
       "</style>\n",
       "<table border=\"1\" class=\"dataframe\">\n",
       "  <thead>\n",
       "    <tr style=\"text-align: right;\">\n",
       "      <th></th>\n",
       "      <th>message_date</th>\n",
       "    </tr>\n",
       "  </thead>\n",
       "  <tbody>\n",
       "    <tr>\n",
       "      <th>min</th>\n",
       "      <td>2018-01-15</td>\n",
       "    </tr>\n",
       "    <tr>\n",
       "      <th>max</th>\n",
       "      <td>2018-12-31</td>\n",
       "    </tr>\n",
       "  </tbody>\n",
       "</table>\n",
       "</div>"
      ],
      "text/plain": [
       "    message_date\n",
       "min   2018-01-15\n",
       "max   2018-12-31"
      ]
     },
     "metadata": {},
     "output_type": "display_data"
    },
    {
     "data": {
      "text/html": [
       "<div>\n",
       "<style scoped>\n",
       "    .dataframe tbody tr th:only-of-type {\n",
       "        vertical-align: middle;\n",
       "    }\n",
       "\n",
       "    .dataframe tbody tr th {\n",
       "        vertical-align: top;\n",
       "    }\n",
       "\n",
       "    .dataframe thead th {\n",
       "        text-align: right;\n",
       "    }\n",
       "</style>\n",
       "<table border=\"1\" class=\"dataframe\">\n",
       "  <thead>\n",
       "    <tr style=\"text-align: right;\">\n",
       "      <th></th>\n",
       "      <th>session_date</th>\n",
       "    </tr>\n",
       "  </thead>\n",
       "  <tbody>\n",
       "    <tr>\n",
       "      <th>min</th>\n",
       "      <td>2018-01-15</td>\n",
       "    </tr>\n",
       "    <tr>\n",
       "      <th>max</th>\n",
       "      <td>2018-12-31</td>\n",
       "    </tr>\n",
       "  </tbody>\n",
       "</table>\n",
       "</div>"
      ],
      "text/plain": [
       "    session_date\n",
       "min   2018-01-15\n",
       "max   2018-12-31"
      ]
     },
     "metadata": {},
     "output_type": "display_data"
    }
   ],
   "source": [
    "tables_list = [data_users, data_users, data_calls, data_messages, data_internet]\n",
    "date_cols = ['reg_date', 'churn_date', 'call_date', 'message_date', 'session_date']\n",
    "\n",
    "print(BOLD + 'Date range in the dataset:' + END)\n",
    "for table, date_col in zip(tables_list, date_cols):\n",
    "    display(table[[date_col]].agg(['min', 'max']))"
   ]
  },
  {
   "cell_type": "markdown",
   "metadata": {},
   "source": [
    "The dataset contains data about customers who subscriped from January 1 to December 31, 2018. They started using the services on January 15th. Customers started churning on July 31st."
   ]
  },
  {
   "cell_type": "markdown",
   "metadata": {},
   "source": [
    "<div class=\"alert alert-success\">\n",
    "<b>Reviewer's comment v1:</b>\n",
    "    \n",
    "It is indeed very helpful to double-check whether if we have data within one year/time period. If not then selecting and aggregating data by the month number will cause an issue. So here it is safer to use datetime64[M] which provides a complete date. "
   ]
  },
  {
   "cell_type": "markdown",
   "metadata": {},
   "source": [
    "Let's look at the data by month."
   ]
  },
  {
   "cell_type": "code",
   "execution_count": 10,
   "metadata": {},
   "outputs": [
    {
     "name": "stdout",
     "output_type": "stream",
     "text": [
      "\u001b[1mAmount of data by month:\u001b[0m\n"
     ]
    },
    {
     "data": {
      "image/png": "[encoded data removed]",
      "text/plain": [
       "<Figure size 1080x216 with 3 Axes>"
      ]
     },
     "metadata": {
      "needs_background": "light"
     },
     "output_type": "display_data"
    },
    {
     "data": {
      "image/png": "[encoded data removed]",
      "text/plain": [
       "<Figure size 720x216 with 2 Axes>"
      ]
     },
     "metadata": {
      "needs_background": "light"
     },
     "output_type": "display_data"
    }
   ],
   "source": [
    "print(BOLD + 'Amount of data by month:' + END)\n",
    "descriptions = ['new users', 'churn users', 'calls', 'messages', 'sessions']\n",
    "\n",
    "\n",
    "\n",
    "for i, (table, date_col, descr) in enumerate(zip(tables_list, date_cols, descriptions)):\n",
    "    if i % 3 == 0:\n",
    "        cols_num = 3 if i==0 else 2\n",
    "        fig, axes = plt.subplots(ncols=cols_num, figsize=(5*cols_num, 3))\n",
    "        axes[i%3].set_ylabel('Frequency');\n",
    "    table[date_col].dt.month.value_counts(sort=False).plot(kind='bar', ax=axes[i%3]);\n",
    "    axes[i%3].set_xlabel('Month');\n",
    "    axes[i%3].set_title('Number of ' + descr + ' per month');\n",
    "    axes[i%3].set_xticklabels(table[date_col].sort_values().dt.strftime('%B').unique());\n",
    "    "
   ]
  },
  {
   "cell_type": "markdown",
   "metadata": {},
   "source": [
    "About 40 new customers are added evenly every month, which increase the number of calls, text messages and sessions on the Internet every month. The unevenness of the data by months may cause a shift in some results, it is necessary to pay attention to this. User churn started in July and gradually declined towards the end of the year."
   ]
  },
  {
   "cell_type": "markdown",
   "metadata": {},
   "source": [
    "### Additional Calculations"
   ]
  },
  {
   "cell_type": "markdown",
   "metadata": {},
   "source": [
    "Let us calculate the monthly data and merge that with user data and plan info."
   ]
  },
  {
   "cell_type": "code",
   "execution_count": 11,
   "metadata": {},
   "outputs": [
    {
     "name": "stdout",
     "output_type": "stream",
     "text": [
      "\u001b[1mMonthly data for calls:\u001b[0m\n"
     ]
    },
    {
     "data": {
      "text/html": [
       "<div>\n",
       "<style scoped>\n",
       "    .dataframe tbody tr th:only-of-type {\n",
       "        vertical-align: middle;\n",
       "    }\n",
       "\n",
       "    .dataframe tbody tr th {\n",
       "        vertical-align: top;\n",
       "    }\n",
       "\n",
       "    .dataframe thead th {\n",
       "        text-align: right;\n",
       "    }\n",
       "</style>\n",
       "<table border=\"1\" class=\"dataframe\">\n",
       "  <thead>\n",
       "    <tr style=\"text-align: right;\">\n",
       "      <th></th>\n",
       "      <th>user_id</th>\n",
       "      <th>month</th>\n",
       "      <th>calls_count</th>\n",
       "      <th>calls_duration</th>\n",
       "    </tr>\n",
       "  </thead>\n",
       "  <tbody>\n",
       "    <tr>\n",
       "      <th>0</th>\n",
       "      <td>1000</td>\n",
       "      <td>12</td>\n",
       "      <td>16</td>\n",
       "      <td>124.0</td>\n",
       "    </tr>\n",
       "    <tr>\n",
       "      <th>1</th>\n",
       "      <td>1001</td>\n",
       "      <td>8</td>\n",
       "      <td>27</td>\n",
       "      <td>182.0</td>\n",
       "    </tr>\n",
       "    <tr>\n",
       "      <th>2</th>\n",
       "      <td>1001</td>\n",
       "      <td>9</td>\n",
       "      <td>49</td>\n",
       "      <td>315.0</td>\n",
       "    </tr>\n",
       "    <tr>\n",
       "      <th>3</th>\n",
       "      <td>1001</td>\n",
       "      <td>10</td>\n",
       "      <td>65</td>\n",
       "      <td>393.0</td>\n",
       "    </tr>\n",
       "    <tr>\n",
       "      <th>4</th>\n",
       "      <td>1001</td>\n",
       "      <td>11</td>\n",
       "      <td>64</td>\n",
       "      <td>426.0</td>\n",
       "    </tr>\n",
       "  </tbody>\n",
       "</table>\n",
       "</div>"
      ],
      "text/plain": [
       "   user_id  month  calls_count  calls_duration\n",
       "0     1000     12           16           124.0\n",
       "1     1001      8           27           182.0\n",
       "2     1001      9           49           315.0\n",
       "3     1001     10           65           393.0\n",
       "4     1001     11           64           426.0"
      ]
     },
     "metadata": {},
     "output_type": "display_data"
    },
    {
     "name": "stdout",
     "output_type": "stream",
     "text": [
      "\n",
      "\u001b[1mMonthly data for messages:\u001b[0m\n"
     ]
    },
    {
     "data": {
      "text/html": [
       "<div>\n",
       "<style scoped>\n",
       "    .dataframe tbody tr th:only-of-type {\n",
       "        vertical-align: middle;\n",
       "    }\n",
       "\n",
       "    .dataframe tbody tr th {\n",
       "        vertical-align: top;\n",
       "    }\n",
       "\n",
       "    .dataframe thead th {\n",
       "        text-align: right;\n",
       "    }\n",
       "</style>\n",
       "<table border=\"1\" class=\"dataframe\">\n",
       "  <thead>\n",
       "    <tr style=\"text-align: right;\">\n",
       "      <th></th>\n",
       "      <th>user_id</th>\n",
       "      <th>month</th>\n",
       "      <th>messages_count</th>\n",
       "    </tr>\n",
       "  </thead>\n",
       "  <tbody>\n",
       "    <tr>\n",
       "      <th>0</th>\n",
       "      <td>1000</td>\n",
       "      <td>12</td>\n",
       "      <td>11</td>\n",
       "    </tr>\n",
       "    <tr>\n",
       "      <th>1</th>\n",
       "      <td>1001</td>\n",
       "      <td>8</td>\n",
       "      <td>30</td>\n",
       "    </tr>\n",
       "    <tr>\n",
       "      <th>2</th>\n",
       "      <td>1001</td>\n",
       "      <td>9</td>\n",
       "      <td>44</td>\n",
       "    </tr>\n",
       "    <tr>\n",
       "      <th>3</th>\n",
       "      <td>1001</td>\n",
       "      <td>10</td>\n",
       "      <td>53</td>\n",
       "    </tr>\n",
       "    <tr>\n",
       "      <th>4</th>\n",
       "      <td>1001</td>\n",
       "      <td>11</td>\n",
       "      <td>36</td>\n",
       "    </tr>\n",
       "  </tbody>\n",
       "</table>\n",
       "</div>"
      ],
      "text/plain": [
       "   user_id  month  messages_count\n",
       "0     1000     12              11\n",
       "1     1001      8              30\n",
       "2     1001      9              44\n",
       "3     1001     10              53\n",
       "4     1001     11              36"
      ]
     },
     "metadata": {},
     "output_type": "display_data"
    },
    {
     "name": "stdout",
     "output_type": "stream",
     "text": [
      "\n",
      "\u001b[1mMonthly data for web traffic volume:\u001b[0m\n"
     ]
    },
    {
     "data": {
      "text/html": [
       "<div>\n",
       "<style scoped>\n",
       "    .dataframe tbody tr th:only-of-type {\n",
       "        vertical-align: middle;\n",
       "    }\n",
       "\n",
       "    .dataframe tbody tr th {\n",
       "        vertical-align: top;\n",
       "    }\n",
       "\n",
       "    .dataframe thead th {\n",
       "        text-align: right;\n",
       "    }\n",
       "</style>\n",
       "<table border=\"1\" class=\"dataframe\">\n",
       "  <thead>\n",
       "    <tr style=\"text-align: right;\">\n",
       "      <th></th>\n",
       "      <th>user_id</th>\n",
       "      <th>month</th>\n",
       "      <th>data_volume</th>\n",
       "    </tr>\n",
       "  </thead>\n",
       "  <tbody>\n",
       "    <tr>\n",
       "      <th>0</th>\n",
       "      <td>1000</td>\n",
       "      <td>12</td>\n",
       "      <td>2.0</td>\n",
       "    </tr>\n",
       "    <tr>\n",
       "      <th>1</th>\n",
       "      <td>1001</td>\n",
       "      <td>8</td>\n",
       "      <td>7.0</td>\n",
       "    </tr>\n",
       "    <tr>\n",
       "      <th>2</th>\n",
       "      <td>1001</td>\n",
       "      <td>9</td>\n",
       "      <td>14.0</td>\n",
       "    </tr>\n",
       "    <tr>\n",
       "      <th>3</th>\n",
       "      <td>1001</td>\n",
       "      <td>10</td>\n",
       "      <td>22.0</td>\n",
       "    </tr>\n",
       "    <tr>\n",
       "      <th>4</th>\n",
       "      <td>1001</td>\n",
       "      <td>11</td>\n",
       "      <td>19.0</td>\n",
       "    </tr>\n",
       "  </tbody>\n",
       "</table>\n",
       "</div>"
      ],
      "text/plain": [
       "   user_id  month  data_volume\n",
       "0     1000     12          2.0\n",
       "1     1001      8          7.0\n",
       "2     1001      9         14.0\n",
       "3     1001     10         22.0\n",
       "4     1001     11         19.0"
      ]
     },
     "metadata": {},
     "output_type": "display_data"
    },
    {
     "name": "stdout",
     "output_type": "stream",
     "text": [
      "\n"
     ]
    }
   ],
   "source": [
    "#Calculation of the number of calls made and minutes used per month\n",
    "calls_monthly = data_calls.pivot_table(index=['user_id', data_calls['call_date'].dt.month],\\\n",
    "                                  values='duration',\\\n",
    "                                  aggfunc=['count', 'sum']) \n",
    "calls_monthly.reset_index(inplace=True)\n",
    "calls_monthly.columns = ['user_id', 'month', 'calls_count', 'calls_duration']\n",
    "print(BOLD + 'Monthly data for calls:' + END)\n",
    "display(calls_monthly.head())\n",
    "print()\n",
    "\n",
    "#Calculation of the number of text messages sent per month\n",
    "messages_monthly = data_messages.pivot_table(index=['user_id', data_messages['message_date'].dt.month],\\\n",
    "                                  values='message_date',\\\n",
    "                                  aggfunc=['count']) \n",
    "messages_monthly.reset_index(inplace=True)\n",
    "messages_monthly.columns = ['user_id', 'month', 'messages_count']\n",
    "print(BOLD + 'Monthly data for messages:' + END)\n",
    "display(messages_monthly.head())\n",
    "print()\n",
    "\n",
    "#Calculation of the volume of data per month\n",
    "internet_monthly = data_internet.pivot_table(index=['user_id', data_internet['session_date'].dt.month],\\\n",
    "                                  values='mb_used',\\\n",
    "                                  aggfunc=['sum']) \n",
    "internet_monthly.reset_index(inplace=True)\n",
    "internet_monthly.columns = ['user_id', 'month', 'data_volume']\n",
    "\n",
    "#Rounding up the total traffic volume for the month \n",
    "internet_monthly['data_volume'] = (internet_monthly.data_volume/1024).apply(np.ceil)\n",
    "\n",
    "#Converted data volume allowance to GB\n",
    "data_plans['gb_per_month_included'] = data_plans.mb_per_month_included / 1024\n",
    "print(BOLD + 'Monthly data for web traffic volume:' + END)\n",
    "display(internet_monthly.head())\n",
    "print()\n",
    "\n",
    "#Merging monthly data with user data and prepaid plan info \n",
    "data_frames = [calls_monthly, messages_monthly, internet_monthly]\n",
    "monthly_activities = reduce(lambda left, right: pd.merge(left, right, on=['user_id', 'month'], how='outer'),\n",
    "                            data_frames).fillna(0.0)\n",
    "data = data_users.merge(monthly_activities, on='user_id').merge(data_plans, left_on='plan', right_on='plan_name')\n"
   ]
  },
  {
   "cell_type": "markdown",
   "metadata": {},
   "source": [
    "<div class=\"alert alert-block alert-success\">\n",
    "<b>Reviewer's comment v1:</b>\n",
    "    \n",
    "Awesome! `how = 'outer' can be used here to prevent data loss.\n",
    "    "
   ]
  },
  {
   "cell_type": "markdown",
   "metadata": {},
   "source": [
    "We also calculate the monthly revenue here."
   ]
  },
  {
   "cell_type": "code",
   "execution_count": 12,
   "metadata": {},
   "outputs": [
    {
     "name": "stdout",
     "output_type": "stream",
     "text": [
      "\u001b[1mMerged monthly data with user data:\u001b[0m\n"
     ]
    },
    {
     "data": {
      "text/html": [
       "<div>\n",
       "<style scoped>\n",
       "    .dataframe tbody tr th:only-of-type {\n",
       "        vertical-align: middle;\n",
       "    }\n",
       "\n",
       "    .dataframe tbody tr th {\n",
       "        vertical-align: top;\n",
       "    }\n",
       "\n",
       "    .dataframe thead th {\n",
       "        text-align: right;\n",
       "    }\n",
       "</style>\n",
       "<table border=\"1\" class=\"dataframe\">\n",
       "  <thead>\n",
       "    <tr style=\"text-align: right;\">\n",
       "      <th></th>\n",
       "      <th>user_id</th>\n",
       "      <th>first_name</th>\n",
       "      <th>last_name</th>\n",
       "      <th>age</th>\n",
       "      <th>city</th>\n",
       "      <th>reg_date</th>\n",
       "      <th>plan</th>\n",
       "      <th>churn_date</th>\n",
       "      <th>month</th>\n",
       "      <th>calls_count</th>\n",
       "      <th>...</th>\n",
       "      <th>messages_included</th>\n",
       "      <th>mb_per_month_included</th>\n",
       "      <th>minutes_included</th>\n",
       "      <th>usd_monthly_pay</th>\n",
       "      <th>usd_per_gb</th>\n",
       "      <th>usd_per_message</th>\n",
       "      <th>usd_per_minute</th>\n",
       "      <th>plan_name</th>\n",
       "      <th>gb_per_month_included</th>\n",
       "      <th>revenue</th>\n",
       "    </tr>\n",
       "  </thead>\n",
       "  <tbody>\n",
       "    <tr>\n",
       "      <th>0</th>\n",
       "      <td>1000</td>\n",
       "      <td>Anamaria</td>\n",
       "      <td>Bauer</td>\n",
       "      <td>45</td>\n",
       "      <td>Atlanta-Sandy Springs-Roswell, GA MSA</td>\n",
       "      <td>2018-12-24</td>\n",
       "      <td>ultimate</td>\n",
       "      <td>NaT</td>\n",
       "      <td>12</td>\n",
       "      <td>16.0</td>\n",
       "      <td>...</td>\n",
       "      <td>1000</td>\n",
       "      <td>30720</td>\n",
       "      <td>3000</td>\n",
       "      <td>70</td>\n",
       "      <td>7</td>\n",
       "      <td>0.01</td>\n",
       "      <td>0.01</td>\n",
       "      <td>ultimate</td>\n",
       "      <td>30.0</td>\n",
       "      <td>70.0</td>\n",
       "    </tr>\n",
       "    <tr>\n",
       "      <th>1</th>\n",
       "      <td>1006</td>\n",
       "      <td>Jesusa</td>\n",
       "      <td>Bradford</td>\n",
       "      <td>73</td>\n",
       "      <td>San Francisco-Oakland-Berkeley, CA MSA</td>\n",
       "      <td>2018-11-27</td>\n",
       "      <td>ultimate</td>\n",
       "      <td>2018-12-18</td>\n",
       "      <td>11</td>\n",
       "      <td>2.0</td>\n",
       "      <td>...</td>\n",
       "      <td>1000</td>\n",
       "      <td>30720</td>\n",
       "      <td>3000</td>\n",
       "      <td>70</td>\n",
       "      <td>7</td>\n",
       "      <td>0.01</td>\n",
       "      <td>0.01</td>\n",
       "      <td>ultimate</td>\n",
       "      <td>30.0</td>\n",
       "      <td>70.0</td>\n",
       "    </tr>\n",
       "    <tr>\n",
       "      <th>2</th>\n",
       "      <td>1006</td>\n",
       "      <td>Jesusa</td>\n",
       "      <td>Bradford</td>\n",
       "      <td>73</td>\n",
       "      <td>San Francisco-Oakland-Berkeley, CA MSA</td>\n",
       "      <td>2018-11-27</td>\n",
       "      <td>ultimate</td>\n",
       "      <td>2018-12-18</td>\n",
       "      <td>12</td>\n",
       "      <td>9.0</td>\n",
       "      <td>...</td>\n",
       "      <td>1000</td>\n",
       "      <td>30720</td>\n",
       "      <td>3000</td>\n",
       "      <td>70</td>\n",
       "      <td>7</td>\n",
       "      <td>0.01</td>\n",
       "      <td>0.01</td>\n",
       "      <td>ultimate</td>\n",
       "      <td>30.0</td>\n",
       "      <td>84.0</td>\n",
       "    </tr>\n",
       "    <tr>\n",
       "      <th>3</th>\n",
       "      <td>1008</td>\n",
       "      <td>Emely</td>\n",
       "      <td>Hoffman</td>\n",
       "      <td>53</td>\n",
       "      <td>Orlando-Kissimmee-Sanford, FL MSA</td>\n",
       "      <td>2018-08-03</td>\n",
       "      <td>ultimate</td>\n",
       "      <td>NaT</td>\n",
       "      <td>10</td>\n",
       "      <td>71.0</td>\n",
       "      <td>...</td>\n",
       "      <td>1000</td>\n",
       "      <td>30720</td>\n",
       "      <td>3000</td>\n",
       "      <td>70</td>\n",
       "      <td>7</td>\n",
       "      <td>0.01</td>\n",
       "      <td>0.01</td>\n",
       "      <td>ultimate</td>\n",
       "      <td>30.0</td>\n",
       "      <td>70.0</td>\n",
       "    </tr>\n",
       "    <tr>\n",
       "      <th>4</th>\n",
       "      <td>1008</td>\n",
       "      <td>Emely</td>\n",
       "      <td>Hoffman</td>\n",
       "      <td>53</td>\n",
       "      <td>Orlando-Kissimmee-Sanford, FL MSA</td>\n",
       "      <td>2018-08-03</td>\n",
       "      <td>ultimate</td>\n",
       "      <td>NaT</td>\n",
       "      <td>11</td>\n",
       "      <td>63.0</td>\n",
       "      <td>...</td>\n",
       "      <td>1000</td>\n",
       "      <td>30720</td>\n",
       "      <td>3000</td>\n",
       "      <td>70</td>\n",
       "      <td>7</td>\n",
       "      <td>0.01</td>\n",
       "      <td>0.01</td>\n",
       "      <td>ultimate</td>\n",
       "      <td>30.0</td>\n",
       "      <td>70.0</td>\n",
       "    </tr>\n",
       "  </tbody>\n",
       "</table>\n",
       "<p>5 rows × 23 columns</p>\n",
       "</div>"
      ],
      "text/plain": [
       "   user_id first_name last_name  age                                    city  \\\n",
       "0     1000   Anamaria     Bauer   45   Atlanta-Sandy Springs-Roswell, GA MSA   \n",
       "1     1006     Jesusa  Bradford   73  San Francisco-Oakland-Berkeley, CA MSA   \n",
       "2     1006     Jesusa  Bradford   73  San Francisco-Oakland-Berkeley, CA MSA   \n",
       "3     1008      Emely   Hoffman   53       Orlando-Kissimmee-Sanford, FL MSA   \n",
       "4     1008      Emely   Hoffman   53       Orlando-Kissimmee-Sanford, FL MSA   \n",
       "\n",
       "    reg_date      plan churn_date  month  calls_count  ...  messages_included  \\\n",
       "0 2018-12-24  ultimate        NaT     12         16.0  ...               1000   \n",
       "1 2018-11-27  ultimate 2018-12-18     11          2.0  ...               1000   \n",
       "2 2018-11-27  ultimate 2018-12-18     12          9.0  ...               1000   \n",
       "3 2018-08-03  ultimate        NaT     10         71.0  ...               1000   \n",
       "4 2018-08-03  ultimate        NaT     11         63.0  ...               1000   \n",
       "\n",
       "   mb_per_month_included  minutes_included  usd_monthly_pay  usd_per_gb  \\\n",
       "0                  30720              3000               70           7   \n",
       "1                  30720              3000               70           7   \n",
       "2                  30720              3000               70           7   \n",
       "3                  30720              3000               70           7   \n",
       "4                  30720              3000               70           7   \n",
       "\n",
       "   usd_per_message  usd_per_minute  plan_name  gb_per_month_included  revenue  \n",
       "0             0.01            0.01   ultimate                   30.0     70.0  \n",
       "1             0.01            0.01   ultimate                   30.0     70.0  \n",
       "2             0.01            0.01   ultimate                   30.0     84.0  \n",
       "3             0.01            0.01   ultimate                   30.0     70.0  \n",
       "4             0.01            0.01   ultimate                   30.0     70.0  \n",
       "\n",
       "[5 rows x 23 columns]"
      ]
     },
     "metadata": {},
     "output_type": "display_data"
    }
   ],
   "source": [
    "data['revenue'] = data.usd_monthly_pay \\\n",
    "    + np.where(data.calls_duration > data.minutes_included, \\\n",
    "               (data.calls_duration - data.minutes_included) * data.usd_per_minute,\n",
    "               0)\\\n",
    "    + np.where(data.messages_count > data.messages_included,\\\n",
    "               (data.messages_count - data.messages_included) * data.usd_per_message, \n",
    "               0)\\\n",
    "    + np.where(data.data_volume > data.gb_per_month_included,\\\n",
    "               (data.data_volume - data.gb_per_month_included) * data.usd_per_gb,\n",
    "               0)\n",
    "\n",
    "print(BOLD + 'Merged monthly data with user data:' + END)\n",
    "display(data.head())"
   ]
  },
  {
   "cell_type": "markdown",
   "metadata": {},
   "source": [
    "<div class=\"alert alert-success\">\n",
    "<b>Reviewer's comment v1:</b>\n",
    "    \n",
    "Everything is correct here! Great, that you created a function to calculate revenue and applied np.where here. \n",
    "\n",
    "Btw it is also possible to make the calculation of revenue using  `.clip ()` (useful function in many tasks). \n",
    "total5 ['gb_surcharge'] = (total5 ['gb_used'] - total5 ['gb_per_month_included']). clip (0) * total5 ['usd_per_gb']"
   ]
  },
  {
   "cell_type": "markdown",
   "metadata": {},
   "source": [
    "### Conclusion\n",
    "\n",
    "The necessary type conversions have been made, including the datetime data type conversions.\n",
    "\n",
    "Then, for features of type datetime, the distribution of data by date was examined. Thus, the date set contains customer data for 2018. Approximately the same number of users, about 40, is added every month. Accordingly, the number of calls, text messages and traffic volume is increasing due to them.\n",
    "\n",
    "Additionally, for further analysis, monthly data on calls, text messages and the volume of web traffic for each user and also monthly revenue from each user were calculated."
   ]
  },
  {
   "cell_type": "markdown",
   "metadata": {},
   "source": [
    "## 3. Analyze Customer Behaviour"
   ]
  },
  {
   "cell_type": "markdown",
   "metadata": {},
   "source": [
    "Let us look at customers' activities and their requirements per month."
   ]
  },
  {
   "cell_type": "code",
   "execution_count": 13,
   "metadata": {},
   "outputs": [
    {
     "name": "stdout",
     "output_type": "stream",
     "text": [
      "\u001b[1mDesciptive statistics for monthly activities by calling plans:\u001b[0m\n",
      "\u001b[1mSurf\u001b[0m\n"
     ]
    },
    {
     "data": {
      "text/html": [
       "<div>\n",
       "<style scoped>\n",
       "    .dataframe tbody tr th:only-of-type {\n",
       "        vertical-align: middle;\n",
       "    }\n",
       "\n",
       "    .dataframe tbody tr th {\n",
       "        vertical-align: top;\n",
       "    }\n",
       "\n",
       "    .dataframe thead th {\n",
       "        text-align: right;\n",
       "    }\n",
       "</style>\n",
       "<table border=\"1\" class=\"dataframe\">\n",
       "  <thead>\n",
       "    <tr style=\"text-align: right;\">\n",
       "      <th></th>\n",
       "      <th>min</th>\n",
       "      <th>max</th>\n",
       "      <th>mean</th>\n",
       "      <th>median</th>\n",
       "      <th>std</th>\n",
       "      <th>var</th>\n",
       "    </tr>\n",
       "  </thead>\n",
       "  <tbody>\n",
       "    <tr>\n",
       "      <th>calls_duration</th>\n",
       "      <td>0.0</td>\n",
       "      <td>1510.0</td>\n",
       "      <td>428.7</td>\n",
       "      <td>425.0</td>\n",
       "      <td>234.5</td>\n",
       "      <td>54968.3</td>\n",
       "    </tr>\n",
       "    <tr>\n",
       "      <th>messages_count</th>\n",
       "      <td>0.0</td>\n",
       "      <td>266.0</td>\n",
       "      <td>31.2</td>\n",
       "      <td>24.0</td>\n",
       "      <td>33.6</td>\n",
       "      <td>1126.7</td>\n",
       "    </tr>\n",
       "    <tr>\n",
       "      <th>data_volume</th>\n",
       "      <td>0.0</td>\n",
       "      <td>70.0</td>\n",
       "      <td>16.7</td>\n",
       "      <td>17.0</td>\n",
       "      <td>7.8</td>\n",
       "      <td>61.6</td>\n",
       "    </tr>\n",
       "  </tbody>\n",
       "</table>\n",
       "</div>"
      ],
      "text/plain": [
       "                min     max   mean  median    std      var\n",
       "calls_duration  0.0  1510.0  428.7   425.0  234.5  54968.3\n",
       "messages_count  0.0   266.0   31.2    24.0   33.6   1126.7\n",
       "data_volume     0.0    70.0   16.7    17.0    7.8     61.6"
      ]
     },
     "metadata": {},
     "output_type": "display_data"
    },
    {
     "name": "stdout",
     "output_type": "stream",
     "text": [
      "\n",
      "\u001b[1mUltimate\u001b[0m\n"
     ]
    },
    {
     "data": {
      "text/html": [
       "<div>\n",
       "<style scoped>\n",
       "    .dataframe tbody tr th:only-of-type {\n",
       "        vertical-align: middle;\n",
       "    }\n",
       "\n",
       "    .dataframe tbody tr th {\n",
       "        vertical-align: top;\n",
       "    }\n",
       "\n",
       "    .dataframe thead th {\n",
       "        text-align: right;\n",
       "    }\n",
       "</style>\n",
       "<table border=\"1\" class=\"dataframe\">\n",
       "  <thead>\n",
       "    <tr style=\"text-align: right;\">\n",
       "      <th></th>\n",
       "      <th>min</th>\n",
       "      <th>max</th>\n",
       "      <th>mean</th>\n",
       "      <th>median</th>\n",
       "      <th>std</th>\n",
       "      <th>var</th>\n",
       "    </tr>\n",
       "  </thead>\n",
       "  <tbody>\n",
       "    <tr>\n",
       "      <th>calls_duration</th>\n",
       "      <td>0.0</td>\n",
       "      <td>1369.0</td>\n",
       "      <td>430.4</td>\n",
       "      <td>424.0</td>\n",
       "      <td>240.5</td>\n",
       "      <td>57844.5</td>\n",
       "    </tr>\n",
       "    <tr>\n",
       "      <th>messages_count</th>\n",
       "      <td>0.0</td>\n",
       "      <td>166.0</td>\n",
       "      <td>37.6</td>\n",
       "      <td>30.0</td>\n",
       "      <td>34.8</td>\n",
       "      <td>1208.8</td>\n",
       "    </tr>\n",
       "    <tr>\n",
       "      <th>data_volume</th>\n",
       "      <td>0.0</td>\n",
       "      <td>46.0</td>\n",
       "      <td>17.3</td>\n",
       "      <td>17.0</td>\n",
       "      <td>7.7</td>\n",
       "      <td>58.8</td>\n",
       "    </tr>\n",
       "  </tbody>\n",
       "</table>\n",
       "</div>"
      ],
      "text/plain": [
       "                min     max   mean  median    std      var\n",
       "calls_duration  0.0  1369.0  430.4   424.0  240.5  57844.5\n",
       "messages_count  0.0   166.0   37.6    30.0   34.8   1208.8\n",
       "data_volume     0.0    46.0   17.3    17.0    7.7     58.8"
      ]
     },
     "metadata": {},
     "output_type": "display_data"
    },
    {
     "name": "stdout",
     "output_type": "stream",
     "text": [
      "\n",
      "\u001b[1mDestribution of features corresponding to customer monthly activities by calling plans:\u001b[0m\n",
      "\u001b[1mSurf\u001b[0m\n"
     ]
    },
    {
     "data": {
      "image/png": "[encoded data removed]",
      "text/plain": [
       "<Figure size 1080x216 with 3 Axes>"
      ]
     },
     "metadata": {
      "needs_background": "light"
     },
     "output_type": "display_data"
    },
    {
     "name": "stdout",
     "output_type": "stream",
     "text": [
      "\u001b[1mUltimate\u001b[0m\n"
     ]
    },
    {
     "data": {
      "image/png": "[encoded data removed]",
      "text/plain": [
       "<Figure size 1080x216 with 3 Axes>"
      ]
     },
     "metadata": {
      "needs_background": "light"
     },
     "output_type": "display_data"
    }
   ],
   "source": [
    "#creating the corresponding list with activities\n",
    "activities = ['calls_duration', 'messages_count', 'data_volume']\n",
    "\n",
    "#looking at the descriptive statistics for each type of activity by calling plans\n",
    "print(BOLD + 'Desciptive statistics for monthly activities by calling plans:' + END)\n",
    "for name, group_data in data.groupby('plan'):\n",
    "    print(BOLD + name.capitalize() + END)\n",
    "    display(group_data[activities].agg(['min', 'max', 'mean', 'median', 'std', 'var']).round(1).T)\n",
    "    print()\n",
    "\n",
    "#function to plot several histograms in one line\n",
    "def hist_in_row(data, features, description):\n",
    "    cols_num = len(features)\n",
    "    fig, axes = plt.subplots(ncols=cols_num, figsize=(5*cols_num, 3))\n",
    "    for i, (feature, descr) in enumerate(zip(features, description)):\n",
    "        data[feature].hist(ax=axes[i%cols_num])\n",
    "        axes[i%cols_num].set_title(feature + descr)\n",
    "    axes[0].set_ylabel('Frequency');\n",
    "\n",
    "#Let's look at dispersion of features corresponding to customer activities per month\n",
    "print(BOLD + 'Destribution of features corresponding to customer monthly activities by calling plans:' + END)\n",
    "for name, group_data in data.groupby('plan'):\n",
    "    print(BOLD + name.capitalize() + END)\n",
    "    hist_in_row(group_data, activities, [', minutes', '', ', GB'])\n",
    "    plt.show()"
   ]
  },
  {
   "cell_type": "markdown",
   "metadata": {},
   "source": [
    "Customers of both calling plans spend an average of 7 hours calling and spend an average 17 GB of mobile traffic per month. Customers of Surf plan send an average 24 text messages per month, while the customers of Ultimate plan send an average 30 text messages per month. There are customers who do not use calls, messages or the Internet at all. There are users of both calling plans who talk on the phone for more than 20 hours a month. Mean of messages count and data volume for both plans are greater than the medians, which implies that these features have outliers with large values. Thus, there are users of the Ultimate plan, who send 150 text messages per month, and a user of the Surf plan, who sends 250 messages per month. There is a user of the Ultimate plan, who used 46 GB of mobile traffic. And there is a user of the Surf plan who used more than 70 GB of data in a month. Dispersions of features corresponding to customer monthly activities by calling plans are simular.\n",
    "\n",
    "The distributions of respective features corresponding to these customer activities for both calling plans are quite similar, with the exception of larger outliers values for the Surf plan."
   ]
  },
  {
   "cell_type": "markdown",
   "metadata": {},
   "source": [
    "Let us compare distribution of of the considered features for both plans on one graph"
   ]
  },
  {
   "cell_type": "code",
   "execution_count": 14,
   "metadata": {},
   "outputs": [
    {
     "name": "stdout",
     "output_type": "stream",
     "text": [
      "\u001b[1mFrequency density of features corresponding to customer monthly activities by calling plans:\u001b[0m\n"
     ]
    },
    {
     "data": {
      "image/png": "[encoded data removed]",
      "text/plain": [
       "<Figure size 1080x216 with 3 Axes>"
      ]
     },
     "metadata": {
      "needs_background": "light"
     },
     "output_type": "display_data"
    }
   ],
   "source": [
    "#function to plot several density plots in one line\n",
    "def density_compare(features, description):\n",
    "    cols_num = len(features)\n",
    "    fig, axes = plt.subplots(ncols=cols_num, figsize=(5*cols_num, 3))\n",
    "    for i, (feature, descr) in enumerate(zip(features, description)):\n",
    "        for name, group_data in data.groupby('plan'): \n",
    "            group_data[feature].hist(density=True, alpha=0.5, ax=axes[i%cols_num], label=name)\n",
    "            axes[i%cols_num].set_title(feature + descr)\n",
    "            axes[i%cols_num].legend()\n",
    "    axes[0].set_ylabel('Frequency Density');\n",
    "\n",
    "#Let's look at distribution of features corresponding to customer activities per month\n",
    "print(BOLD + 'Frequency density of features corresponding to customer monthly activities by calling plans:' + END)\n",
    "density_compare(activities, [', minutes', '', ', GB'])"
   ]
  },
  {
   "cell_type": "markdown",
   "metadata": {},
   "source": [
    "The distributions of respective features corresponding to these customer activities for both calling plans does look simular."
   ]
  },
  {
   "cell_type": "markdown",
   "metadata": {},
   "source": [
    "Now, let us compare user requirements with the package limits."
   ]
  },
  {
   "cell_type": "code",
   "execution_count": 15,
   "metadata": {},
   "outputs": [
    {
     "name": "stdout",
     "output_type": "stream",
     "text": [
      "\u001b[1mDistribution of features corresponding to customer monthly activities by calling plans with the package limits:\u001b[0m\n"
     ]
    },
    {
     "data": {
      "image/png": "[encoded data removed]",
      "text/plain": [
       "<Figure size 864x144 with 1 Axes>"
      ]
     },
     "metadata": {
      "needs_background": "light"
     },
     "output_type": "display_data"
    },
    {
     "data": {
      "image/png": "[encoded data removed]",
      "text/plain": [
       "<Figure size 864x144 with 1 Axes>"
      ]
     },
     "metadata": {
      "needs_background": "light"
     },
     "output_type": "display_data"
    },
    {
     "data": {
      "image/png": "[encoded data removed]",
      "text/plain": [
       "<Figure size 864x144 with 1 Axes>"
      ]
     },
     "metadata": {
      "needs_background": "light"
     },
     "output_type": "display_data"
    }
   ],
   "source": [
    "#creating dict to make it easier to get the package limits\n",
    "plan_limits = {'calls_duration': 'minutes_included',\n",
    "               'messages_count': 'messages_included', \n",
    "               'data_volume': 'gb_per_month_included'}\n",
    "\n",
    "\n",
    "#function to plot several boxplots at once\n",
    "def boxplot_compare(features):\n",
    "    rows_num = len(features)\n",
    "    for i, feature in enumerate(features):\n",
    "        fig, ax = plt.subplots(figsize=(12, 2))\n",
    "        sns.boxplot(y='plan', x=feature, data=data.sort_values('plan'), orient='h', ax=ax);\n",
    "        ax.axvline(data_plans[data_plans.plan_name=='surf'][plan_limits[feature]].values[0],\\\n",
    "                                 ymin=0.5, ymax=1, color = 'r', linestyle='--')\n",
    "        ax.axvline(data_plans[data_plans.plan_name=='ultimate'][plan_limits[feature]].values[0],\\\n",
    "                                 ymin=0, ymax=0.5, color = 'r', linestyle='--')\n",
    "        ax.set_title(feature)\n",
    "\n",
    "#plotting boxplots of features corresponding to customer activities per month by plans with plan limits\n",
    "print(BOLD + 'Distribution of features corresponding to customer monthly activities '\\\n",
    "      + 'by calling plans with the package limits:' + END)\n",
    "boxplot_compare(activities)"
   ]
  },
  {
   "cell_type": "markdown",
   "metadata": {},
   "source": [
    "Surf package limits are higher than the average customers requirements for calls and messages. Internet limits alone do not cover the average customer needs. Accordingly, the telecom operator can receive additional revenue mainly only on the providing of additional mobile Internet, which is not included in the package.\n",
    "\n",
    "Limitations of the Ultimate package cover the requirements of all users of this plan, with the exception of a small number of web traffic values that are far from the main sample. So, the revenue from this calling plan will rarely exceed the cost of this package - \\\\$70.\n",
    "\n",
    "Thus, Surf prepaid plan brings in more revenue than Ultimate, if the user has spent more than $50 (the difference between the cost of these packages) for exceeding mostly mobile traffic (when more than 7GB was used). Exceeding other package limits is less likely and costs much less."
   ]
  },
  {
   "cell_type": "markdown",
   "metadata": {},
   "source": [
    "Now, let's take a look at users who regularly (half a year and more) and significantly exceed package limits of Surf plan,\n",
    "i.e. their expenses exceed the cost of the calling plan by $ 50.\n"
   ]
  },
  {
   "cell_type": "code",
   "execution_count": 16,
   "metadata": {},
   "outputs": [
    {
     "name": "stdout",
     "output_type": "stream",
     "text": [
      "Number of customers who use the Surf calling plan: 333\n",
      "\n",
      "Number of customers who at least once exceeded the cost of the Surf plan by $ 50: 187 - which is 56.2%\n",
      "\n",
      "Number of customers who use the Surf calling plan and are active for half a year or more: 119\n",
      "\n",
      "Number of customers who regularly (half a year or more) exceed the cost of the Surf plan by $50: 16 - which is 13.4%\n",
      "\n",
      "\u001b[1mCustomers who regularly (half a year or more) exceed the cost of Surf plan by $50:\u001b[0m\n"
     ]
    },
    {
     "data": {
      "text/html": [
       "<div>\n",
       "<style scoped>\n",
       "    .dataframe tbody tr th:only-of-type {\n",
       "        vertical-align: middle;\n",
       "    }\n",
       "\n",
       "    .dataframe tbody tr th {\n",
       "        vertical-align: top;\n",
       "    }\n",
       "\n",
       "    .dataframe thead th {\n",
       "        text-align: right;\n",
       "    }\n",
       "</style>\n",
       "<table border=\"1\" class=\"dataframe\">\n",
       "  <thead>\n",
       "    <tr style=\"text-align: right;\">\n",
       "      <th></th>\n",
       "      <th>user_id</th>\n",
       "      <th>active_months_count</th>\n",
       "      <th>avg_monthly_revenue</th>\n",
       "      <th>overspent_months_count</th>\n",
       "      <th>overspent_months_percent</th>\n",
       "    </tr>\n",
       "  </thead>\n",
       "  <tbody>\n",
       "    <tr>\n",
       "      <th>0</th>\n",
       "      <td>1147</td>\n",
       "      <td>8</td>\n",
       "      <td>199.35</td>\n",
       "      <td>8.0</td>\n",
       "      <td>100.0</td>\n",
       "    </tr>\n",
       "    <tr>\n",
       "      <th>1</th>\n",
       "      <td>1201</td>\n",
       "      <td>7</td>\n",
       "      <td>163.47</td>\n",
       "      <td>7.0</td>\n",
       "      <td>100.0</td>\n",
       "    </tr>\n",
       "    <tr>\n",
       "      <th>2</th>\n",
       "      <td>1223</td>\n",
       "      <td>6</td>\n",
       "      <td>97.44</td>\n",
       "      <td>6.0</td>\n",
       "      <td>100.0</td>\n",
       "    </tr>\n",
       "    <tr>\n",
       "      <th>3</th>\n",
       "      <td>1292</td>\n",
       "      <td>6</td>\n",
       "      <td>263.33</td>\n",
       "      <td>6.0</td>\n",
       "      <td>100.0</td>\n",
       "    </tr>\n",
       "    <tr>\n",
       "      <th>4</th>\n",
       "      <td>1359</td>\n",
       "      <td>11</td>\n",
       "      <td>145.56</td>\n",
       "      <td>10.0</td>\n",
       "      <td>90.9</td>\n",
       "    </tr>\n",
       "    <tr>\n",
       "      <th>5</th>\n",
       "      <td>1268</td>\n",
       "      <td>10</td>\n",
       "      <td>183.09</td>\n",
       "      <td>9.0</td>\n",
       "      <td>90.0</td>\n",
       "    </tr>\n",
       "    <tr>\n",
       "      <th>6</th>\n",
       "      <td>1328</td>\n",
       "      <td>9</td>\n",
       "      <td>133.84</td>\n",
       "      <td>8.0</td>\n",
       "      <td>88.9</td>\n",
       "    </tr>\n",
       "    <tr>\n",
       "      <th>7</th>\n",
       "      <td>1374</td>\n",
       "      <td>9</td>\n",
       "      <td>156.13</td>\n",
       "      <td>8.0</td>\n",
       "      <td>88.9</td>\n",
       "    </tr>\n",
       "    <tr>\n",
       "      <th>8</th>\n",
       "      <td>1009</td>\n",
       "      <td>8</td>\n",
       "      <td>109.83</td>\n",
       "      <td>7.0</td>\n",
       "      <td>87.5</td>\n",
       "    </tr>\n",
       "    <tr>\n",
       "      <th>9</th>\n",
       "      <td>1127</td>\n",
       "      <td>7</td>\n",
       "      <td>95.71</td>\n",
       "      <td>6.0</td>\n",
       "      <td>85.7</td>\n",
       "    </tr>\n",
       "    <tr>\n",
       "      <th>10</th>\n",
       "      <td>1240</td>\n",
       "      <td>7</td>\n",
       "      <td>236.35</td>\n",
       "      <td>6.0</td>\n",
       "      <td>85.7</td>\n",
       "    </tr>\n",
       "    <tr>\n",
       "      <th>11</th>\n",
       "      <td>1251</td>\n",
       "      <td>10</td>\n",
       "      <td>105.80</td>\n",
       "      <td>8.0</td>\n",
       "      <td>80.0</td>\n",
       "    </tr>\n",
       "    <tr>\n",
       "      <th>12</th>\n",
       "      <td>1277</td>\n",
       "      <td>9</td>\n",
       "      <td>89.59</td>\n",
       "      <td>7.0</td>\n",
       "      <td>77.8</td>\n",
       "    </tr>\n",
       "    <tr>\n",
       "      <th>13</th>\n",
       "      <td>1110</td>\n",
       "      <td>8</td>\n",
       "      <td>84.15</td>\n",
       "      <td>6.0</td>\n",
       "      <td>75.0</td>\n",
       "    </tr>\n",
       "    <tr>\n",
       "      <th>14</th>\n",
       "      <td>1120</td>\n",
       "      <td>9</td>\n",
       "      <td>86.69</td>\n",
       "      <td>6.0</td>\n",
       "      <td>66.7</td>\n",
       "    </tr>\n",
       "    <tr>\n",
       "      <th>15</th>\n",
       "      <td>1312</td>\n",
       "      <td>9</td>\n",
       "      <td>86.78</td>\n",
       "      <td>6.0</td>\n",
       "      <td>66.7</td>\n",
       "    </tr>\n",
       "  </tbody>\n",
       "</table>\n",
       "</div>"
      ],
      "text/plain": [
       "    user_id  active_months_count  avg_monthly_revenue  overspent_months_count  \\\n",
       "0      1147                    8               199.35                     8.0   \n",
       "1      1201                    7               163.47                     7.0   \n",
       "2      1223                    6                97.44                     6.0   \n",
       "3      1292                    6               263.33                     6.0   \n",
       "4      1359                   11               145.56                    10.0   \n",
       "5      1268                   10               183.09                     9.0   \n",
       "6      1328                    9               133.84                     8.0   \n",
       "7      1374                    9               156.13                     8.0   \n",
       "8      1009                    8               109.83                     7.0   \n",
       "9      1127                    7                95.71                     6.0   \n",
       "10     1240                    7               236.35                     6.0   \n",
       "11     1251                   10               105.80                     8.0   \n",
       "12     1277                    9                89.59                     7.0   \n",
       "13     1110                    8                84.15                     6.0   \n",
       "14     1120                    9                86.69                     6.0   \n",
       "15     1312                    9                86.78                     6.0   \n",
       "\n",
       "    overspent_months_percent  \n",
       "0                      100.0  \n",
       "1                      100.0  \n",
       "2                      100.0  \n",
       "3                      100.0  \n",
       "4                       90.9  \n",
       "5                       90.0  \n",
       "6                       88.9  \n",
       "7                       88.9  \n",
       "8                       87.5  \n",
       "9                       85.7  \n",
       "10                      85.7  \n",
       "11                      80.0  \n",
       "12                      77.8  \n",
       "13                      75.0  \n",
       "14                      66.7  \n",
       "15                      66.7  "
      ]
     },
     "metadata": {},
     "output_type": "display_data"
    }
   ],
   "source": [
    "#calculating the number of users who exceed package limits and their ratio\n",
    "surf_users_count = len(data[data.plan=='surf'].user_id.unique()) #all users\n",
    "print('Number of customers who use the Surf calling plan:', surf_users_count)\n",
    "print()\n",
    "overspent_users_count = len(data[data.plan=='surf'].query('revenue-20>50').user_id.unique())\n",
    "print('Number of customers who at least once exceeded the cost of the Surf plan by $ 50:',\n",
    "      overspent_users_count, '- which is {:.1%}'.format(overspent_users_count/surf_users_count))\n",
    "print()\n",
    "\n",
    "#calculating the number of users who regularly and significantly exceed package limits and their ratio\n",
    "#creating table of users who regularly exceed package limits with number of active and overspent months\n",
    "signif_overspent_users = pd.DataFrame({'active_months_count': data[data.plan=='surf'].user_id.value_counts(),\n",
    "              'avg_monthly_revenue': round(data[data.plan=='surf'].groupby('user_id').revenue.mean(), 2),\n",
    "              'overspent_months_count': data[data.plan=='surf'].query('revenue-20>50').user_id.value_counts(),\n",
    "              'overspent_months_percent': round((data[data.plan=='surf'].query('revenue-20>50')\\\n",
    "                                                    .user_id.value_counts()\\\n",
    "                                                /data[data.plan=='surf'].user_id.value_counts() * 100), 1)\n",
    "}).dropna().query('overspent_months_count>5').sort_values('overspent_months_percent', ascending=False)\\\n",
    "    .rename_axis('user_id').reset_index()\n",
    "\n",
    "#not all users used the operator's services during the entire year under consideration\n",
    "long_active_surf_users_count = sum(data[data.plan=='surf'].user_id.value_counts()>5)\n",
    "print('Number of customers who use the Surf calling plan and are active for half a year or more:',\n",
    "      long_active_surf_users_count)\n",
    "print()\n",
    "print('Number of customers who regularly (half a year or more) exceed the cost of the Surf plan by $50:',\n",
    "      len(signif_overspent_users),\n",
    "      '- which is {:.1%}'.format(len(signif_overspent_users)/long_active_surf_users_count))\n",
    "print()\n",
    "print(BOLD + 'Customers who regularly (half a year or more) exceed the cost of Surf plan by $50:' + END)\n",
    "display(signif_overspent_users)"
   ]
  },
  {
   "cell_type": "markdown",
   "metadata": {},
   "source": [
    "Quite a lot of customers of the Surf plan exceeded the package cost at least at once - 56% of them. But in order for the Surf plan brings in more revenue than the Ultimate plan, it is necessary that the customers regularly exceed the package limits. 13% of customers among those who use the operator's services for a long time exceed the package cost by $50 regularly (for six months or more). For those customers the Surf plan brings in more revenue. It makes sense to understand what distinguishes these customers from the rest, perhaps the age group, location, nature of calls, Internet resources they use. We need to look at such customers on the main sample and try to cluster them."
   ]
  },
  {
   "cell_type": "markdown",
   "metadata": {},
   "source": [
    "### Conclusion\n",
    "\n",
    "The customers' behavior for both calling plans is quite similar. They talk on the phone an average of 7 hours, send 25-30 messages and spend an average 17 GB of mobile traffic per month.\n",
    "\n",
    "The Surf package limits are higher than the average customer call and message requirements. Only Internet limits do not cover the needs of ordinary customers. Thus, the telecom operator can get additional revenue mainly by providing additional mobile Internet. The Ultimate package limits cover the requirements of almost all customers of this calling plan. So the revenue from the Ultimate calling plan will rarely exceed its cost. Thus, the Surf plan brings in more revenue than the Ultimate plan if the customer regularly spent more than the difference between the cost of these packages, mainly due to excess mobile traffic.\n",
    "\n",
    "More than half of the customers of the Surf calling plan at least once exceeded the price of the package by \\\\$50 (the difference between the cost of the Surf and Ultimate packages). 13\\% of customers who use the operator's services for a long time exceed the package cost by \\\\$50 on a regular basis. It makes sense to understand what distinguishes these customers from the rest and offer the Surf plan to a similar targitet audience since it brings in more revenue."
   ]
  },
  {
   "cell_type": "markdown",
   "metadata": {},
   "source": [
    "<div class=\"alert alert-success\">\n",
    "<b>Reviewer's comment v1:</b>\n",
    "    \n",
    "- I will write overall thoughts about the data analysis section:\n",
    "- Very nice visualisation of the data. Great that you combined both plans on one graph for the comparison and also used different graph types to check available data.\n",
    "-  If you have time and willing to practice, you can display two charts (histogram and a boxplot) using a two-column subplot.\n",
    "\n",
    "```\n",
    "    # Create one row with 2 columns\n",
    "\t  fig, axes = plt.subplots(1, 2, figsize=(16, 5))\n",
    "\n",
    "\t  # Create a histogram for the surf plan\n",
    "\t  sns.distplot(... ax=axes[0])\n",
    "\t  # Create a histogram for the second plan\n",
    "\t  sns.distplot(... ax=axes[0])\n",
    "\t\n",
    "\t  # Create a boxplot for both plans\n",
    "\t  sns.boxplot(... ax=axes[1])\n",
    "```"
   ]
  },
  {
   "cell_type": "markdown",
   "metadata": {},
   "source": [
    "## 4. Analyzing the Revenue and Test the Hypotheses"
   ]
  },
  {
   "cell_type": "markdown",
   "metadata": {},
   "source": [
    "Let us look at descriptive statistics and distribution of revenue by calling plans."
   ]
  },
  {
   "cell_type": "code",
   "execution_count": 17,
   "metadata": {},
   "outputs": [
    {
     "name": "stdout",
     "output_type": "stream",
     "text": [
      "\u001b[1mDesciptive statistics for monthly revenue by calling plans:\u001b[0m\n",
      "\u001b[1mSurf\u001b[0m\n"
     ]
    },
    {
     "data": {
      "text/html": [
       "<div>\n",
       "<style scoped>\n",
       "    .dataframe tbody tr th:only-of-type {\n",
       "        vertical-align: middle;\n",
       "    }\n",
       "\n",
       "    .dataframe tbody tr th {\n",
       "        vertical-align: top;\n",
       "    }\n",
       "\n",
       "    .dataframe thead th {\n",
       "        text-align: right;\n",
       "    }\n",
       "</style>\n",
       "<table border=\"1\" class=\"dataframe\">\n",
       "  <thead>\n",
       "    <tr style=\"text-align: right;\">\n",
       "      <th></th>\n",
       "      <th>count</th>\n",
       "      <th>min</th>\n",
       "      <th>max</th>\n",
       "      <th>mean</th>\n",
       "      <th>median</th>\n",
       "      <th>std</th>\n",
       "      <th>var</th>\n",
       "    </tr>\n",
       "  </thead>\n",
       "  <tbody>\n",
       "    <tr>\n",
       "      <th>revenue</th>\n",
       "      <td>1573.0</td>\n",
       "      <td>20.0</td>\n",
       "      <td>590.4</td>\n",
       "      <td>60.7</td>\n",
       "      <td>40.4</td>\n",
       "      <td>55.4</td>\n",
       "      <td>3067.8</td>\n",
       "    </tr>\n",
       "  </tbody>\n",
       "</table>\n",
       "</div>"
      ],
      "text/plain": [
       "          count   min    max  mean  median   std     var\n",
       "revenue  1573.0  20.0  590.4  60.7    40.4  55.4  3067.8"
      ]
     },
     "metadata": {},
     "output_type": "display_data"
    },
    {
     "name": "stdout",
     "output_type": "stream",
     "text": [
      "\n",
      "\u001b[1mUltimate\u001b[0m\n"
     ]
    },
    {
     "data": {
      "text/html": [
       "<div>\n",
       "<style scoped>\n",
       "    .dataframe tbody tr th:only-of-type {\n",
       "        vertical-align: middle;\n",
       "    }\n",
       "\n",
       "    .dataframe tbody tr th {\n",
       "        vertical-align: top;\n",
       "    }\n",
       "\n",
       "    .dataframe thead th {\n",
       "        text-align: right;\n",
       "    }\n",
       "</style>\n",
       "<table border=\"1\" class=\"dataframe\">\n",
       "  <thead>\n",
       "    <tr style=\"text-align: right;\">\n",
       "      <th></th>\n",
       "      <th>count</th>\n",
       "      <th>min</th>\n",
       "      <th>max</th>\n",
       "      <th>mean</th>\n",
       "      <th>median</th>\n",
       "      <th>std</th>\n",
       "      <th>var</th>\n",
       "    </tr>\n",
       "  </thead>\n",
       "  <tbody>\n",
       "    <tr>\n",
       "      <th>revenue</th>\n",
       "      <td>720.0</td>\n",
       "      <td>70.0</td>\n",
       "      <td>182.0</td>\n",
       "      <td>72.3</td>\n",
       "      <td>70.0</td>\n",
       "      <td>11.4</td>\n",
       "      <td>129.8</td>\n",
       "    </tr>\n",
       "  </tbody>\n",
       "</table>\n",
       "</div>"
      ],
      "text/plain": [
       "         count   min    max  mean  median   std    var\n",
       "revenue  720.0  70.0  182.0  72.3    70.0  11.4  129.8"
      ]
     },
     "metadata": {},
     "output_type": "display_data"
    },
    {
     "name": "stdout",
     "output_type": "stream",
     "text": [
      "\n",
      "\u001b[1mDistribution of monthly revenue by calling plans:\u001b[0m\n"
     ]
    },
    {
     "data": {
      "image/png": "[encoded data removed]",
      "text/plain": [
       "<Figure size 1512x288 with 3 Axes>"
      ]
     },
     "metadata": {
      "needs_background": "light"
     },
     "output_type": "display_data"
    }
   ],
   "source": [
    "#printing the descriptive statistics of revenue by calling plans\n",
    "print(BOLD + 'Desciptive statistics for monthly revenue by calling plans:' + END)\n",
    "for name, group_data in data.groupby('plan'):\n",
    "    print(BOLD + name.capitalize() + END)\n",
    "    display(group_data[['revenue']].agg(['count', 'min', 'max', 'mean', 'median', 'std', 'var']).round(1).T)\n",
    "    print()\n",
    "\n",
    "print(BOLD + 'Distribution of monthly revenue by calling plans:' + END)\n",
    "fig, axes = plt.subplots(ncols=3, figsize=(7*3, 4))\n",
    "for i, (name, group_data) in enumerate(data.groupby('plan')):\n",
    "    group_data.revenue.hist(ax=axes[i%3])\n",
    "    axes[i%3].set_title(name.capitalize())\n",
    "    axes[i%3].set_ylabel('Frequency');\n",
    "    axes[i%3].set_xlabel('revenue');\n",
    "sns.boxplot(y='plan', x='revenue', data=data.sort_values('plan'), orient='h', ax=axes[2]);"
   ]
  },
  {
   "cell_type": "markdown",
   "metadata": {},
   "source": [
    "The average monthly revenue from a Surf plan customer is \\\\$40 and \\\\$72 from a Ultimate plan customers. The minimum monthly revenue coincides with the package cost and is \\\\$20 and \\\\$70 for Surf and Ultimate plan customers respectively. The maximum revenue is \\\\$590 for Surf plan a customer and \\\\$180 from customers of the Ultimate calling plan. \n",
    "\n",
    "Mean of monthly revenue of Surf plan is greater than the median, which implies that there are outliers with large values. The monthly revenue of Ultimate plan has small variation, almost all values are \\\\$70.\n",
    "\n",
    "The distribution of the Revenue random variable does not have the form of a normal distribution."
   ]
  },
  {
   "cell_type": "markdown",
   "metadata": {},
   "source": [
    "Now, let us formally test the hypothesis that the distribution of samples is normal. Here we will use Shapiro-Wilks normality tests."
   ]
  },
  {
   "cell_type": "code",
   "execution_count": 18,
   "metadata": {},
   "outputs": [
    {
     "name": "stdout",
     "output_type": "stream",
     "text": [
      "\u001b[1mQ-Q Plots for revenue of Surf and Ultimate plans:\u001b[0m\n"
     ]
    },
    {
     "data": {
      "image/png": "[encoded data removed]",
      "text/plain": [
       "<Figure size 864x288 with 2 Axes>"
      ]
     },
     "metadata": {
      "needs_background": "light"
     },
     "output_type": "display_data"
    },
    {
     "name": "stdout",
     "output_type": "stream",
     "text": [
      "\u001b[1mShapiro-Wilk normality tests:\u001b[0m\n",
      "Hypotheses:\n",
      "\u001b[1mH₀: Revenue for Surf is distributed normally\u001b[0m\n",
      "\u001b[1mH₁: Revenue for Surf is not distributed normally\u001b[0m\n",
      "Shapiro-Wilk normality test, p-value:  0.0\n",
      "We reject the hypothesis H₀\n",
      "\n",
      "Hypotheses:\n",
      "\u001b[1mH₀: Revenue for Ultimate is distributed normally\u001b[0m\n",
      "\u001b[1mH₁: Revenue for Ultimate is not distributed normally\u001b[0m\n",
      "Shapiro-Wilk normality test, p-value:  0.0\n",
      "We reject the hypothesis H₀\n",
      "\n"
     ]
    }
   ],
   "source": [
    "print(BOLD + 'Q-Q Plots for revenue of Surf and Ultimate plans:' + END)\n",
    "fig, axes = plt.subplots(ncols=2, figsize=(6*2, 4))\n",
    "for i, (name, group_data) in enumerate(data.groupby('plan')):\n",
    "    st.probplot(group_data.revenue, dist=\"norm\", plot=axes[i%2])\n",
    "    axes[i%2].set_title('Probability Plot for ' + name.capitalize())\n",
    "plt.show()\n",
    "\n",
    "print(BOLD + 'Shapiro-Wilk normality tests:' + END)\n",
    "alpha = 0.05\n",
    "for name, group_data in data.groupby('plan'):\n",
    "    print('Hypotheses:')\n",
    "    print(BOLD + 'H\\u2080: Revenue for ' + name.capitalize() + ' is distributed normally' + END)\n",
    "    print(BOLD + 'H\\u2081: Revenue for ' + name.capitalize() + ' is not distributed normally' + END)\n",
    "    norn_pvalue = st.shapiro(group_data.revenue)[1]\n",
    "    print(\"Shapiro-Wilk normality test, p-value: \", round(norn_pvalue, 4))\n",
    "    if (norn_pvalue < alpha): \n",
    "        print(\"We reject the hypothesis H\\u2080\") \n",
    "    else: \n",
    "        print(\"We can't reject the hypothesis H\\u2080\") \n",
    "    print()"
   ]
  },
  {
   "cell_type": "markdown",
   "metadata": {},
   "source": [
    "The distribution of revenue is most likely different from the normal one, since the points on the Q-Q graph do not lie on a straight line, but are described by a non-linear curve for Surf revenue and some of the points for Ultimate revenue lie very far from the straight line.\n",
    "\n",
    "Shapiro-Wilk normality tests also reject the hypothesis H<sub>0</sub> that the distribution of samples is normal.\n",
    "\n",
    "Thus, we can not use a parametric Student's t-test in order to compare the average revenue from users of Ultimate and Surf calling plans."
   ]
  },
  {
   "cell_type": "markdown",
   "metadata": {},
   "source": [
    "Now we need to test the hypothesis that the revenue from users of Ultimate and Surf calling plans are different. For this we will use the Mann-Whitney U Test.\n",
    "\n",
    "The Mann-Whitney U test can be used to test whether there is a difference between two groups, and the data need not be normally distributed.To determine this difference, the rank sums of the two groups are used rather than the means as in the t-test for independent samples. The Mann-Whitney U test is thus the non-parametric counterpart to the t-test for independent samples; it is subject to less stringent requirements than the t-test. Therefore, the Mann-Whitney U test is always used when the requirement of normal distribution for the t-test is not met."
   ]
  },
  {
   "cell_type": "code",
   "execution_count": 19,
   "metadata": {},
   "outputs": [
    {
     "name": "stdout",
     "output_type": "stream",
     "text": [
      "\u001b[1mMann-Whitney U test:\u001b[0m\n",
      "Hypotheses:\n",
      "\u001b[1mH₀: Sample distributions of the revenue from customers of Ultimate and Surf calling plans are equal.\u001b[0m\n",
      "\u001b[1mH₁: Sample distributions of the revenue from customers of Ultimate and Surf calling plans are not equal.\u001b[0m\n",
      "Mann-Whitney U test, p-value:  0.0\n",
      "We reject the hypothesis H₀\n"
     ]
    }
   ],
   "source": [
    "print(BOLD + 'Mann-Whitney U test:' + END)\n",
    "alpha = 0.05\n",
    "print('Hypotheses:')\n",
    "print(BOLD \n",
    "      + 'H\\u2080: Sample distributions of the revenue from customers of Ultimate and Surf calling plans are equal.'\n",
    "      + END)\n",
    "print(BOLD \n",
    "      +'H\\u2081: Sample distributions of the revenue from customers of Ultimate and Surf calling plans are not equal.' \n",
    "      + END)\n",
    "revenue_pvalue = st.mannwhitneyu(data[data.plan=='surf'].revenue, data[data.plan=='ultimate'].revenue,\\\n",
    "                                 alternative='two-sided')[1]\n",
    "print(\"Mann-Whitney U test, p-value: \", round(revenue_pvalue, 4))\n",
    "if (revenue_pvalue < alpha): \n",
    "    print(\"We reject the hypothesis H\\u2080\") \n",
    "else: \n",
    "    print(\"We can't reject the hypothesis H\\u2080\") "
   ]
  },
  {
   "cell_type": "markdown",
   "metadata": {},
   "source": [
    "The Mann-Whitney U test rejects the null hypothesis about equality of revenue distributions of both calling plans. Thus, there is likely some difference between the samples. The median of the revenue from customers of Ultimate calling plan is \\\\$70. The median revenue from Surf customers is \\\\$40. The Ultimate plan brings in more revenue in average."
   ]
  },
  {
   "cell_type": "markdown",
   "metadata": {},
   "source": [
    "Now we are looking at the descriptive statictics and distribution of revenue from users in NY-NJ area and from users of other regions."
   ]
  },
  {
   "cell_type": "code",
   "execution_count": 20,
   "metadata": {},
   "outputs": [
    {
     "name": "stdout",
     "output_type": "stream",
     "text": [
      "\u001b[1mDesciptive statistics for monthly revenue from customers in New York - New Jersey area and others:\u001b[0m\n",
      "\u001b[1min New York - New Jersey area\u001b[0m\n"
     ]
    },
    {
     "data": {
      "text/html": [
       "<div>\n",
       "<style scoped>\n",
       "    .dataframe tbody tr th:only-of-type {\n",
       "        vertical-align: middle;\n",
       "    }\n",
       "\n",
       "    .dataframe tbody tr th {\n",
       "        vertical-align: top;\n",
       "    }\n",
       "\n",
       "    .dataframe thead th {\n",
       "        text-align: right;\n",
       "    }\n",
       "</style>\n",
       "<table border=\"1\" class=\"dataframe\">\n",
       "  <thead>\n",
       "    <tr style=\"text-align: right;\">\n",
       "      <th></th>\n",
       "      <th>count</th>\n",
       "      <th>min</th>\n",
       "      <th>max</th>\n",
       "      <th>mean</th>\n",
       "      <th>median</th>\n",
       "      <th>std</th>\n",
       "      <th>var</th>\n",
       "    </tr>\n",
       "  </thead>\n",
       "  <tbody>\n",
       "    <tr>\n",
       "      <th>revenue</th>\n",
       "      <td>377.0</td>\n",
       "      <td>20.0</td>\n",
       "      <td>280.0</td>\n",
       "      <td>59.9</td>\n",
       "      <td>51.8</td>\n",
       "      <td>43.5</td>\n",
       "      <td>1895.5</td>\n",
       "    </tr>\n",
       "  </tbody>\n",
       "</table>\n",
       "</div>"
      ],
      "text/plain": [
       "         count   min    max  mean  median   std     var\n",
       "revenue  377.0  20.0  280.0  59.9    51.8  43.5  1895.5"
      ]
     },
     "metadata": {},
     "output_type": "display_data"
    },
    {
     "name": "stdout",
     "output_type": "stream",
     "text": [
      "\u001b[1mnot in New York - New Jersey area\u001b[0m\n"
     ]
    },
    {
     "data": {
      "text/html": [
       "<div>\n",
       "<style scoped>\n",
       "    .dataframe tbody tr th:only-of-type {\n",
       "        vertical-align: middle;\n",
       "    }\n",
       "\n",
       "    .dataframe tbody tr th {\n",
       "        vertical-align: top;\n",
       "    }\n",
       "\n",
       "    .dataframe thead th {\n",
       "        text-align: right;\n",
       "    }\n",
       "</style>\n",
       "<table border=\"1\" class=\"dataframe\">\n",
       "  <thead>\n",
       "    <tr style=\"text-align: right;\">\n",
       "      <th></th>\n",
       "      <th>count</th>\n",
       "      <th>min</th>\n",
       "      <th>max</th>\n",
       "      <th>mean</th>\n",
       "      <th>median</th>\n",
       "      <th>std</th>\n",
       "      <th>var</th>\n",
       "    </tr>\n",
       "  </thead>\n",
       "  <tbody>\n",
       "    <tr>\n",
       "      <th>revenue</th>\n",
       "      <td>1916.0</td>\n",
       "      <td>20.0</td>\n",
       "      <td>590.4</td>\n",
       "      <td>65.2</td>\n",
       "      <td>70.0</td>\n",
       "      <td>47.2</td>\n",
       "      <td>2225.0</td>\n",
       "    </tr>\n",
       "  </tbody>\n",
       "</table>\n",
       "</div>"
      ],
      "text/plain": [
       "          count   min    max  mean  median   std     var\n",
       "revenue  1916.0  20.0  590.4  65.2    70.0  47.2  2225.0"
      ]
     },
     "metadata": {},
     "output_type": "display_data"
    },
    {
     "name": "stdout",
     "output_type": "stream",
     "text": [
      "\n",
      "\u001b[1mDistribution of monthly revenue from customers in New York - New Jersey area and in other regions:\u001b[0m\n"
     ]
    },
    {
     "data": {
      "image/png": "[encoded data removed]",
      "text/plain": [
       "<Figure size 1512x288 with 3 Axes>"
      ]
     },
     "metadata": {
      "needs_background": "light"
     },
     "output_type": "display_data"
    },
    {
     "name": "stdout",
     "output_type": "stream",
     "text": [
      "\u001b[1mShare of Surf and Ultimate customers in New York - New Jersey area and in other regions:\u001b[0m\n"
     ]
    },
    {
     "data": {
      "text/html": [
       "<div>\n",
       "<style scoped>\n",
       "    .dataframe tbody tr th:only-of-type {\n",
       "        vertical-align: middle;\n",
       "    }\n",
       "\n",
       "    .dataframe tbody tr th {\n",
       "        vertical-align: top;\n",
       "    }\n",
       "\n",
       "    .dataframe thead th {\n",
       "        text-align: right;\n",
       "    }\n",
       "</style>\n",
       "<table border=\"1\" class=\"dataframe\">\n",
       "  <thead>\n",
       "    <tr style=\"text-align: right;\">\n",
       "      <th>plan</th>\n",
       "      <th>surf</th>\n",
       "      <th>ultimate</th>\n",
       "    </tr>\n",
       "    <tr>\n",
       "      <th>is_NY_NJ</th>\n",
       "      <th></th>\n",
       "      <th></th>\n",
       "    </tr>\n",
       "  </thead>\n",
       "  <tbody>\n",
       "    <tr>\n",
       "      <th>False</th>\n",
       "      <td>0.658142</td>\n",
       "      <td>0.341858</td>\n",
       "    </tr>\n",
       "    <tr>\n",
       "      <th>True</th>\n",
       "      <td>0.827586</td>\n",
       "      <td>0.172414</td>\n",
       "    </tr>\n",
       "  </tbody>\n",
       "</table>\n",
       "</div>"
      ],
      "text/plain": [
       "plan          surf  ultimate\n",
       "is_NY_NJ                    \n",
       "False     0.658142  0.341858\n",
       "True      0.827586  0.172414"
      ]
     },
     "execution_count": 20,
     "metadata": {},
     "output_type": "execute_result"
    }
   ],
   "source": [
    "#creating the corresponding lists of samples and their description\n",
    "samples = [data[data.city.str.contains('NY-NJ')], data[~data.city.str.contains('NY-NJ')]]\n",
    "sample_descriptions = ['in New York - New Jersey area',\n",
    "                       'not in New York - New Jersey area']\n",
    "#printing the descriptive statistics of revenue from users in NY-NJ area and others \n",
    "print(BOLD + 'Desciptive statistics for monthly revenue from customers in New York - New Jersey area and others:'\n",
    "      + END)\n",
    "for sample, descr in zip(samples, sample_descriptions):\n",
    "    print(BOLD + descr + END)\n",
    "    display(sample[['revenue']].agg(['count', 'min', 'max', 'mean', 'median', 'std', 'var']).round(1).T)\n",
    "print()\n",
    "\n",
    "\n",
    "print(BOLD + 'Distribution of monthly revenue from customers in New York - New Jersey area and in other regions:' + END)\n",
    "fig, axes = plt.subplots(ncols=3, figsize=(7*3, 4))\n",
    "for i, (sample, descr) in enumerate(zip(samples, sample_descriptions)):\n",
    "    sample.revenue.hist(ax=axes[i], bins=50)\n",
    "    axes[i].set_ylabel('Frequency');\n",
    "    axes[i].set_xlabel('revenue');\n",
    "    axes[i].set_title(descr)\n",
    "sns.boxplot(y='is_NY_NJ', x='revenue', orient='h', ax=axes[2],\\\n",
    "            data=data.assign(is_NY_NJ=['NY-NJ' in name for name in data.city]));\n",
    "plt.show()\n",
    "\n",
    "print(BOLD + 'Share of Surf and Ultimate customers in New York - New Jersey area and in other regions:' + END)\n",
    "data.assign(is_NY_NJ=['NY-NJ' in name for name in data.city])\\\n",
    "    .pivot_table(index='is_NY_NJ', values='revenue', columns='plan', aggfunc='count')\\\n",
    "        .div(data.assign(is_NY_NJ=['NY-NJ' in name for name in data.city]).is_NY_NJ.value_counts().values, axis=0)"
   ]
  },
  {
   "cell_type": "markdown",
   "metadata": {},
   "source": [
    "The median of monthly revenue from customers in New York - New Jersey area is \\\\$51 and \\\\$70 from others customers. The minimum monthly revenue coincides with the Surf package cost and is \\\\$20.\n",
    "\n",
    "In all regions, customers choose Surf calling plan often, but in NY-NJ area people choose Surf plans much more often (see Share of Surf and Ultimate customers). And at the same time customers in NY-NJ area oft do not exceed the package limits (the bar on NY-NJ area histogram with value 20 is greater than the one with value 70, the bar on not NY-NJ area histogram with value 20 is less one with value 70).\n",
    "\n",
    "The distribution of the Revenue of areas under consideration does not have the form of a normal distribution."
   ]
  },
  {
   "cell_type": "markdown",
   "metadata": {},
   "source": [
    "We will now formally test the hypothesis that the distribution of samples is normal using Shapiro-Wilks normality test."
   ]
  },
  {
   "cell_type": "code",
   "execution_count": 21,
   "metadata": {},
   "outputs": [
    {
     "name": "stdout",
     "output_type": "stream",
     "text": [
      "\u001b[1mQ-Q Plots for revenue from customers in New York - New Jersey area and from others regions:\u001b[0m\n"
     ]
    },
    {
     "data": {
      "image/png": "[encoded data removed]",
      "text/plain": [
       "<Figure size 864x288 with 2 Axes>"
      ]
     },
     "metadata": {
      "needs_background": "light"
     },
     "output_type": "display_data"
    },
    {
     "name": "stdout",
     "output_type": "stream",
     "text": [
      "\u001b[1mShapiro-Wilk normality tests:\u001b[0m\n",
      "Hypotheses:\n",
      "\u001b[1mH₀: Revenue from customers in New York - New Jersey area is distributed normally\u001b[0m\n",
      "\u001b[1mH₁: Revenue from customers in New York - New Jersey area is not distributed normally\u001b[0m\n",
      "Shapiro-Wilk normality test, p-value:  0.0\n",
      "We reject the hypothesis H₀\n",
      "\n",
      "Hypotheses:\n",
      "\u001b[1mH₀: Revenue from customers not in New York - New Jersey area is distributed normally\u001b[0m\n",
      "\u001b[1mH₁: Revenue from customers not in New York - New Jersey area is not distributed normally\u001b[0m\n",
      "Shapiro-Wilk normality test, p-value:  0.0\n",
      "We reject the hypothesis H₀\n",
      "\n"
     ]
    }
   ],
   "source": [
    "print(BOLD + 'Q-Q Plots for revenue from customers in New York - New Jersey area and from others regions:' + END)\n",
    "fig, axes = plt.subplots(ncols=2, figsize=(6*2, 4))\n",
    "for i, (sample, descr) in enumerate(zip(samples, sample_descriptions)):\n",
    "    st.probplot(sample.revenue, dist=\"norm\", plot=axes[i])\n",
    "    axes[i].set_title('Probability Plot for ' + descr)\n",
    "plt.show()\n",
    "\n",
    "print(BOLD + 'Shapiro-Wilk normality tests:' + END)\n",
    "alpha = 0.05\n",
    "for sample, descr in zip(samples, sample_descriptions):\n",
    "    print('Hypotheses:')\n",
    "    print(BOLD + 'H\\u2080: Revenue from customers ' + descr + ' is distributed normally' + END)\n",
    "    print(BOLD + 'H\\u2081: Revenue from customers ' + descr + ' is not distributed normally' + END)\n",
    "    norn_pvalue = st.shapiro(sample.revenue)[1]\n",
    "    print(\"Shapiro-Wilk normality test, p-value: \", round(norn_pvalue, 4))\n",
    "    if (norn_pvalue < alpha): \n",
    "        print(\"We reject the hypothesis H\\u2080\") \n",
    "    else: \n",
    "        print(\"We can't reject the hypothesis H\\u2080\") \n",
    "    print()"
   ]
  },
  {
   "cell_type": "markdown",
   "metadata": {},
   "source": [
    "The distribution of revenue of areas under consideration is most likely different from the normal one, since the points on the Q-Q graph do not lie on a straight line, but are described by a non-linear curves.\n",
    "\n",
    "Shapiro-Wilk normality tests also reject the hypothesis H<sub>0</sub> that the distribution of samples is normal.\n",
    "\n",
    "Thus, we can not use a parametric Student's t-test in order to compare the average revenue from customers in areas under consideration."
   ]
  },
  {
   "cell_type": "markdown",
   "metadata": {},
   "source": [
    "Let's test the hypothesis that the revenue from users in NY-NJ area is different from that of the users from other regions using the Mann-Whitney U test."
   ]
  },
  {
   "cell_type": "code",
   "execution_count": 22,
   "metadata": {},
   "outputs": [
    {
     "name": "stdout",
     "output_type": "stream",
     "text": [
      "\u001b[1mMann-Whitney U test:\u001b[0m\n",
      "Hypotheses:\n",
      "\u001b[1mH₀: Sample distributions of the revenue from customers in New York - New Jersey area\n",
      "\u001b[1m    and the revenue from customers from other regions are equal.\u001b[0m\n",
      "\u001b[1mH₁: Sample distributions of the revenue from customers in New York - New Jersey area\n",
      "\u001b[1m    and the revenue from customers from other regions are not equal.\u001b[0m\n",
      "Mann-Whitney U test, p-value:  0.0039\n",
      "We reject the hypothesis H₀\n"
     ]
    }
   ],
   "source": [
    "print(BOLD + 'Mann-Whitney U test:' + END)\n",
    "alpha = 0.05\n",
    "print('Hypotheses:')\n",
    "print(BOLD + 'H\\u2080: Sample distributions of the revenue from customers in New York - New Jersey area')\n",
    "print(BOLD + '    and the revenue from customers from other regions are equal.'+ END)\n",
    "print(BOLD +'H\\u2081: Sample distributions of the revenue from customers in New York - New Jersey area')\n",
    "print(BOLD +  '    and the revenue from customers from other regions are not equal.' + END)\n",
    "revenue_pvalue = st.mannwhitneyu(data[data.city.str.contains('NY-NJ')].revenue,\n",
    "                                 data[~data.city.str.contains('NY-NJ')].revenue,\n",
    "                                 alternative='two-sided')[1]\n",
    "print(\"Mann-Whitney U test, p-value: \", round(revenue_pvalue, 4))\n",
    "if (revenue_pvalue < alpha): \n",
    "    print(\"We reject the hypothesis H\\u2080\") \n",
    "else: \n",
    "    print(\"We can't reject the hypothesis H\\u2080\") "
   ]
  },
  {
   "cell_type": "markdown",
   "metadata": {},
   "source": [
    "The Mann-Whitney U test rejects the null hypothesis about equality of distributions of revenue from customers in areas under consideration. Thus, there is likely some difference between the samples. The median of monthly revenue from customers in New York - New Jersey area is \\\\$51 and \\\\$70 from customers from other region. Not NY-NJ area customers bring in more revenue due to the fact that they more often choose the Ultimate calling plan and if they choose the Surf calling plan, they more often exceed the package limits. Perhaps the region is a sign of distinguishing customers who are more likely to exceed package limits."
   ]
  },
  {
   "cell_type": "markdown",
   "metadata": {},
   "source": [
    "### Conclusion\n",
    "\n",
    "The null hypothesis that the revenue from customers of Ultimate and Surf calling plans are equal against the two-sided alternative is rejected at the 5% significance level using a nonparametric rank Mann-Whitney U test. We can not use the Student's t-test due to violation of the assumption of normality. The median of the revenue from customers of Ultimate calling plan is \\\\$70. The median revenue from Surf customers is \\\\$40. The Ultimate plan brings in more revenue in average.\n",
    "\n",
    "The null hypothesis that the revenue from customers in NY-NJ area is equal to that of the customers from other regions against the two-sided alternative is rejected at the 5% significance level, again using a nonparametric rank Mann-Whitney U test. We can not use the Student's t-test due to violation of the assumption of normality, yet again. The median of monthly revenue from customers in NY-NJ area is \\\\$51 and \\\\$70 from customers from other regions. Not NY-NJ area customers bring in more revenue due to the fact that they more often choose the Ultimate calling plan and if they choose the Surf calling plan, they more often exceed the package limits."
   ]
  },
  {
   "cell_type": "markdown",
   "metadata": {},
   "source": [
    "<div class=\"alert alert-success\">\n",
    "<b>Reviewer's comment v1:</b>\n",
    "    \n",
    "- Overall amazing job! Hypotheses have been formulated and tested correctly.\n",
    "- Great that you used multiple ways to check normality."
   ]
  },
  {
   "cell_type": "markdown",
   "metadata": {},
   "source": [
    "## 5. Overall Conclusion"
   ]
  },
  {
   "cell_type": "markdown",
   "metadata": {},
   "source": [
    "We got the data from the telecom operator, 'Megaline', on 500 clients to further assess analyze clients' behavior and determine which prepaid plan brings in more revenue.\n",
    "\n",
    "Before proceeding to the analysis, the data was preprocessed:\n",
    "\n",
    "- After a general review of the data revealed:\n",
    "    - column corresponding to churn date contains mostly only unknown values, which correspond to the fact that the client has not stopped using the operator's services.\n",
    "    - There is a large percent of missed calls and many sessions with zero traffic. It makes sense to check the coverage of network for clients or identify possible reasons of this.\n",
    "- The some datatypes had to be converted to appropriate ones.\n",
    "- For further analysis, monthly data on calls, text messages and the volume of web traffic for each client and also monthly revenue were calculated.\n",
    "\n",
    "During the preliminary analysis of the plans, it turned out that:\n",
    "\n",
    "- Most of the clients have the Surf calling plan (68%).\n",
    "- The customers' behavior for both calling plans is quite similar.\n",
    "- The Surf package limits are higher than the average customer call and message requirements. Only Internet limits do not cover the needs of ordinary customers. The telecom operator can get additional revenue mainly by providing additional mobile Internet.\n",
    "- The Ultimate package limits cover the requirements of almost all customers of this calling plan. The revenue from the Ultimate calling plan will rarely exceed its cost.\n",
    "- Some customers of the Surf calling plan significantly exceed the package cost by \\\\$50 on a regular basis. From these clients the Surf plan brings in more revenue than the Ultimate plan.\n",
    "\n",
    "Recommendations for the commercial department:\n",
    "\n",
    "- User Acquisition\n",
    "    - Offer the Surf calling plan to targeted audience who tend to exceed the package limits. Additional analysis is requared to identify what distinguishes these clients from the rest (The region can be such a sign, since not NY-NJ area customers bring in more revenue due to the fact that they more often exceed the package limits of Surf calling plan).\n",
    "    - Offer the Ultimate calling plan to rest targeted audience, since the Ultimate plan brings in more revenue in average. The average difference is $30. This difference should be taken into account considering the cost of user acquisition for different calling plans and adjusting the advertising budget. Most likely, it is easier to offer the Ultimate calling plan to the target audience not from New York - New Jersey area, since they choose this plan more often.\n",
    "- Working with subscribed clients\n",
    "    - Offer to upgrade to Ultimate calling plan for customers who occasionally exceed the package limits of Surf calling plan.\n",
    "    - Do not offer upgrade to Ultimet for customers who regularly significantly exceed the package limits of Surf calling plan."
   ]
  },
  {
   "cell_type": "markdown",
   "metadata": {},
   "source": [
    "<div class=\"alert alert-success\">\n",
    "<b>Reviewer's comment v1:</b>\n",
    " \n",
    "- Overall you conducted great research with correct interim findings, clean code and nice visualisation.\n",
    "- I also like your overall conclusions. It is very structured and provides insights about what you accomplished and recommendations to the business."
   ]
  }
 ],
 "metadata": {
  "ExecuteTimeLog": [
   {
    "duration": 10045,
    "start_time": "2021-12-13T16:07:49.616Z"
   },
   {
    "duration": 5,
    "start_time": "2021-12-13T16:07:59.664Z"
   },
   {
    "duration": 1217,
    "start_time": "2021-12-13T16:07:59.672Z"
   },
   {
    "duration": 111,
    "start_time": "2021-12-13T16:08:00.892Z"
   },
   {
    "duration": 141,
    "start_time": "2021-12-13T16:08:01.006Z"
   },
   {
    "duration": 1106,
    "start_time": "2021-12-13T16:08:01.150Z"
   },
   {
    "duration": 1067,
    "start_time": "2021-12-13T16:08:02.258Z"
   },
   {
    "duration": 89,
    "start_time": "2021-12-13T16:08:03.327Z"
   },
   {
    "duration": 75,
    "start_time": "2021-12-13T16:08:03.419Z"
   },
   {
    "duration": 3891,
    "start_time": "2021-12-13T16:08:03.496Z"
   },
   {
    "duration": 222,
    "start_time": "2021-12-13T16:08:07.389Z"
   },
   {
    "duration": 59,
    "start_time": "2021-12-13T16:08:07.613Z"
   },
   {
    "duration": 1652,
    "start_time": "2021-12-13T16:08:07.675Z"
   },
   {
    "duration": 1091,
    "start_time": "2021-12-13T16:08:09.330Z"
   },
   {
    "duration": 1183,
    "start_time": "2021-12-13T16:08:10.424Z"
   },
   {
    "duration": 90,
    "start_time": "2021-12-13T16:08:11.609Z"
   },
   {
    "duration": 985,
    "start_time": "2021-12-13T16:08:11.701Z"
   },
   {
    "duration": 583,
    "start_time": "2021-12-13T16:08:12.689Z"
   },
   {
    "duration": 16,
    "start_time": "2021-12-13T16:08:13.275Z"
   },
   {
    "duration": 1183,
    "start_time": "2021-12-13T16:08:13.294Z"
   },
   {
    "duration": 598,
    "start_time": "2021-12-13T16:08:14.479Z"
   },
   {
    "duration": 16,
    "start_time": "2021-12-13T16:08:15.080Z"
   }
  ],
  "kernelspec": {
   "display_name": "Python 3",
   "language": "python",
   "name": "python3"
  },
  "language_info": {
   "codemirror_mode": {
    "name": "ipython",
    "version": 3
   },
   "file_extension": ".py",
   "mimetype": "text/x-python",
   "name": "python",
   "nbconvert_exporter": "python",
   "pygments_lexer": "ipython3",
   "version": "3.8.5"
  },
  "toc": {
   "base_numbering": 1,
   "nav_menu": {},
   "number_sections": true,
   "sideBar": true,
   "skip_h1_title": true,
   "title_cell": "Table of Contents",
   "title_sidebar": "Contents",
   "toc_cell": false,
   "toc_position": {},
   "toc_section_display": true,
   "toc_window_display": false
  }
 },
 "nbformat": 4,
 "nbformat_minor": 4
}
