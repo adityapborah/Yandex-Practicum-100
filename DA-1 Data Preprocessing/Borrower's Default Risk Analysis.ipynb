{
 "cells": [
  {
   "cell_type": "markdown",
   "metadata": {},
   "source": [
    "Hi Aditya! My name is Dmitry and I will be revieweing your project.\n",
    "\n",
    "I’ve left my comments throughout the notebook - look for green, yellow and red boxes. Please don’t delete these comments.\n",
    "\n",
    "<div class=\"alert alert-success\">\n",
    "<b>Reviewer's comment</b>\n",
    "<p>Success: everything is done well</p>\n",
    "</div>\n",
    "\n",
    "<div class=\"alert alert-warning\">\n",
    "<b>Reviewer's comment</b>\n",
    "<p>Remarks: my recommendations to make the project even better</p>\n",
    "</div>\n",
    "\n",
    "<div class=\"alert alert-danger\">\n",
    "<b>Reviewer's comment</b>\n",
    "<p>Error: some issues need fixing!</p>\n",
    "</div>\n",
    "\n",
    "<span style=\"color:red\"> Keep in mind that the project will be accepted only when all the “red” issues are resolved.</span>\n",
    "\n",
    "You can add your replies or questions related to my comments using this template:\n",
    "<div class=\"alert alert-info\">\n",
    "<b>Student's comment</b>\n",
    "</div>\n",
    "\n",
    "### General feedback\n",
    "- Thank you for the submission, this is a really nice first project!\n",
    "- It is good that you've thoroughly investigated the problem, and explained and motivated your steps.\n",
    "- The quality of code is nice too 👍\n",
    "- There are a couple of issues, I think that couple of lines are missing in the end so I couldn't run the entire project, but it seems to be a minor issue.\n",
    "- I've left some comments throughout the text, which may help you to make the project even better.\n",
    "    - Specifically, I'd suggest to add some more automatization via functions and/or loops, to make the code more concise.\n",
    "- Since all of the issues and comments are minor, I thin you'll have no trouble addressing them.\n",
    "- So, good luck, and I'm looking forward to the updated version :)\n",
    "\n",
    "### <mark>General feedback - V2</mark>\n",
    "- Thanks for the updated project!\n",
    "- You have addressed all of my comments, soo I'm happy to accept it and let you move on to the next one.\n",
    "- Good luck with the rest of the course!\n",
    "***"
   ]
  },
  {
   "cell_type": "markdown",
   "metadata": {},
   "source": [
    "# Analyzing borrowers’ risk of defaulting"
   ]
  },
  {
   "cell_type": "markdown",
   "metadata": {},
   "source": [
    "<div class=\"alert alert-warning\">\n",
    "<b>Reviewer's comment</b>\n",
    "<p>It would be nice to have here an introduction from an analyst's perspective, outlining the goals and main steps on the analysis (imagine this is a real-life project intended for your colleagues or boss).</p>\n",
    "</div>"
   ]
  },
  {
   "cell_type": "markdown",
   "metadata": {},
   "source": [
    "In this analyse, we have to analyse the borrower's risk of defaulting. We have to find if number of children or marital status has any impact on defaulting a loan.\n",
    "\n",
    "To this effect, we have to proceed as follows:\n",
    "\n",
    "- First we have to open the dataset and have a loot at it.\n",
    "- Next we need to preprocess the data.\n",
    "- Then we have to do the analysis. We have 4 questions we need to answer:\n",
    "\n",
    "    - Is there a connection between having kids and repaying a loan on time?\n",
    "    - Is there a connection between marital status and repaying a loan on time?\n",
    "    - Is there a connection between income level and repaying a loan on time?\n",
    "    - How do different loan purposes affect on-time loan repayment?\n",
    "- Finally we have to write a conclusion."
   ]
  },
  {
   "cell_type": "markdown",
   "metadata": {},
   "source": [
    "## 1. Open Dataset and look at the General information"
   ]
  },
  {
   "cell_type": "markdown",
   "metadata": {},
   "source": [
    "We start this analysis by loading the dataset and looking at the first 5 rows to get an idea about it."
   ]
  },
  {
   "cell_type": "code",
   "execution_count": 187,
   "metadata": {},
   "outputs": [],
   "source": [
    "import pandas as pd\n",
    "import matplotlib.pyplot as plt"
   ]
  },
  {
   "cell_type": "code",
   "execution_count": 188,
   "metadata": {
    "scrolled": false
   },
   "outputs": [
    {
     "data": {
      "text/html": [
       "<div>\n",
       "<style scoped>\n",
       "    .dataframe tbody tr th:only-of-type {\n",
       "        vertical-align: middle;\n",
       "    }\n",
       "\n",
       "    .dataframe tbody tr th {\n",
       "        vertical-align: top;\n",
       "    }\n",
       "\n",
       "    .dataframe thead th {\n",
       "        text-align: right;\n",
       "    }\n",
       "</style>\n",
       "<table border=\"1\" class=\"dataframe\">\n",
       "  <thead>\n",
       "    <tr style=\"text-align: right;\">\n",
       "      <th></th>\n",
       "      <th>children</th>\n",
       "      <th>days_employed</th>\n",
       "      <th>dob_years</th>\n",
       "      <th>education</th>\n",
       "      <th>education_id</th>\n",
       "      <th>family_status</th>\n",
       "      <th>family_status_id</th>\n",
       "      <th>gender</th>\n",
       "      <th>income_type</th>\n",
       "      <th>debt</th>\n",
       "      <th>total_income</th>\n",
       "      <th>purpose</th>\n",
       "    </tr>\n",
       "  </thead>\n",
       "  <tbody>\n",
       "    <tr>\n",
       "      <th>0</th>\n",
       "      <td>1</td>\n",
       "      <td>-8437.673028</td>\n",
       "      <td>42</td>\n",
       "      <td>bachelor's degree</td>\n",
       "      <td>0</td>\n",
       "      <td>married</td>\n",
       "      <td>0</td>\n",
       "      <td>F</td>\n",
       "      <td>employee</td>\n",
       "      <td>0</td>\n",
       "      <td>40620.102</td>\n",
       "      <td>purchase of the house</td>\n",
       "    </tr>\n",
       "    <tr>\n",
       "      <th>1</th>\n",
       "      <td>1</td>\n",
       "      <td>-4024.803754</td>\n",
       "      <td>36</td>\n",
       "      <td>secondary education</td>\n",
       "      <td>1</td>\n",
       "      <td>married</td>\n",
       "      <td>0</td>\n",
       "      <td>F</td>\n",
       "      <td>employee</td>\n",
       "      <td>0</td>\n",
       "      <td>17932.802</td>\n",
       "      <td>car purchase</td>\n",
       "    </tr>\n",
       "    <tr>\n",
       "      <th>2</th>\n",
       "      <td>0</td>\n",
       "      <td>-5623.422610</td>\n",
       "      <td>33</td>\n",
       "      <td>Secondary Education</td>\n",
       "      <td>1</td>\n",
       "      <td>married</td>\n",
       "      <td>0</td>\n",
       "      <td>M</td>\n",
       "      <td>employee</td>\n",
       "      <td>0</td>\n",
       "      <td>23341.752</td>\n",
       "      <td>purchase of the house</td>\n",
       "    </tr>\n",
       "    <tr>\n",
       "      <th>3</th>\n",
       "      <td>3</td>\n",
       "      <td>-4124.747207</td>\n",
       "      <td>32</td>\n",
       "      <td>secondary education</td>\n",
       "      <td>1</td>\n",
       "      <td>married</td>\n",
       "      <td>0</td>\n",
       "      <td>M</td>\n",
       "      <td>employee</td>\n",
       "      <td>0</td>\n",
       "      <td>42820.568</td>\n",
       "      <td>supplementary education</td>\n",
       "    </tr>\n",
       "    <tr>\n",
       "      <th>4</th>\n",
       "      <td>0</td>\n",
       "      <td>340266.072047</td>\n",
       "      <td>53</td>\n",
       "      <td>secondary education</td>\n",
       "      <td>1</td>\n",
       "      <td>civil partnership</td>\n",
       "      <td>1</td>\n",
       "      <td>F</td>\n",
       "      <td>retiree</td>\n",
       "      <td>0</td>\n",
       "      <td>25378.572</td>\n",
       "      <td>to have a wedding</td>\n",
       "    </tr>\n",
       "  </tbody>\n",
       "</table>\n",
       "</div>"
      ],
      "text/plain": [
       "   children  days_employed  dob_years            education  education_id  \\\n",
       "0         1   -8437.673028         42    bachelor's degree             0   \n",
       "1         1   -4024.803754         36  secondary education             1   \n",
       "2         0   -5623.422610         33  Secondary Education             1   \n",
       "3         3   -4124.747207         32  secondary education             1   \n",
       "4         0  340266.072047         53  secondary education             1   \n",
       "\n",
       "       family_status  family_status_id gender income_type  debt  total_income  \\\n",
       "0            married                 0      F    employee     0     40620.102   \n",
       "1            married                 0      F    employee     0     17932.802   \n",
       "2            married                 0      M    employee     0     23341.752   \n",
       "3            married                 0      M    employee     0     42820.568   \n",
       "4  civil partnership                 1      F     retiree     0     25378.572   \n",
       "\n",
       "                   purpose  \n",
       "0    purchase of the house  \n",
       "1             car purchase  \n",
       "2    purchase of the house  \n",
       "3  supplementary education  \n",
       "4        to have a wedding  "
      ]
     },
     "execution_count": 188,
     "metadata": {},
     "output_type": "execute_result"
    }
   ],
   "source": [
    "# read the data from a csv file\n",
    "try:\n",
    "    credit_score = pd.read_csv('C:/Users/SkyNET/Desktop/Learn python/Projects/Data Preprocessing/credit_scoring_eng.csv')\n",
    "except:\n",
    "    credit_score = pd.read_csv('/datasets/credit_scoring_eng.csv')\n",
    "credit_score.head(5)"
   ]
  },
  {
   "cell_type": "code",
   "execution_count": 189,
   "metadata": {},
   "outputs": [
    {
     "data": {
      "text/html": [
       "<div>\n",
       "<style scoped>\n",
       "    .dataframe tbody tr th:only-of-type {\n",
       "        vertical-align: middle;\n",
       "    }\n",
       "\n",
       "    .dataframe tbody tr th {\n",
       "        vertical-align: top;\n",
       "    }\n",
       "\n",
       "    .dataframe thead th {\n",
       "        text-align: right;\n",
       "    }\n",
       "</style>\n",
       "<table border=\"1\" class=\"dataframe\">\n",
       "  <thead>\n",
       "    <tr style=\"text-align: right;\">\n",
       "      <th></th>\n",
       "      <th>children</th>\n",
       "      <th>days_employed</th>\n",
       "      <th>dob_years</th>\n",
       "      <th>education</th>\n",
       "      <th>education_id</th>\n",
       "      <th>family_status</th>\n",
       "      <th>family_status_id</th>\n",
       "      <th>gender</th>\n",
       "      <th>income_type</th>\n",
       "      <th>debt</th>\n",
       "      <th>total_income</th>\n",
       "      <th>purpose</th>\n",
       "    </tr>\n",
       "  </thead>\n",
       "  <tbody>\n",
       "    <tr>\n",
       "      <th>21520</th>\n",
       "      <td>1</td>\n",
       "      <td>-4529.316663</td>\n",
       "      <td>43</td>\n",
       "      <td>secondary education</td>\n",
       "      <td>1</td>\n",
       "      <td>civil partnership</td>\n",
       "      <td>1</td>\n",
       "      <td>F</td>\n",
       "      <td>business</td>\n",
       "      <td>0</td>\n",
       "      <td>35966.698</td>\n",
       "      <td>housing transactions</td>\n",
       "    </tr>\n",
       "    <tr>\n",
       "      <th>21521</th>\n",
       "      <td>0</td>\n",
       "      <td>343937.404131</td>\n",
       "      <td>67</td>\n",
       "      <td>secondary education</td>\n",
       "      <td>1</td>\n",
       "      <td>married</td>\n",
       "      <td>0</td>\n",
       "      <td>F</td>\n",
       "      <td>retiree</td>\n",
       "      <td>0</td>\n",
       "      <td>24959.969</td>\n",
       "      <td>purchase of a car</td>\n",
       "    </tr>\n",
       "    <tr>\n",
       "      <th>21522</th>\n",
       "      <td>1</td>\n",
       "      <td>-2113.346888</td>\n",
       "      <td>38</td>\n",
       "      <td>secondary education</td>\n",
       "      <td>1</td>\n",
       "      <td>civil partnership</td>\n",
       "      <td>1</td>\n",
       "      <td>M</td>\n",
       "      <td>employee</td>\n",
       "      <td>1</td>\n",
       "      <td>14347.610</td>\n",
       "      <td>property</td>\n",
       "    </tr>\n",
       "    <tr>\n",
       "      <th>21523</th>\n",
       "      <td>3</td>\n",
       "      <td>-3112.481705</td>\n",
       "      <td>38</td>\n",
       "      <td>secondary education</td>\n",
       "      <td>1</td>\n",
       "      <td>married</td>\n",
       "      <td>0</td>\n",
       "      <td>M</td>\n",
       "      <td>employee</td>\n",
       "      <td>1</td>\n",
       "      <td>39054.888</td>\n",
       "      <td>buying my own car</td>\n",
       "    </tr>\n",
       "    <tr>\n",
       "      <th>21524</th>\n",
       "      <td>2</td>\n",
       "      <td>-1984.507589</td>\n",
       "      <td>40</td>\n",
       "      <td>secondary education</td>\n",
       "      <td>1</td>\n",
       "      <td>married</td>\n",
       "      <td>0</td>\n",
       "      <td>F</td>\n",
       "      <td>employee</td>\n",
       "      <td>0</td>\n",
       "      <td>13127.587</td>\n",
       "      <td>to buy a car</td>\n",
       "    </tr>\n",
       "  </tbody>\n",
       "</table>\n",
       "</div>"
      ],
      "text/plain": [
       "       children  days_employed  dob_years            education  education_id  \\\n",
       "21520         1   -4529.316663         43  secondary education             1   \n",
       "21521         0  343937.404131         67  secondary education             1   \n",
       "21522         1   -2113.346888         38  secondary education             1   \n",
       "21523         3   -3112.481705         38  secondary education             1   \n",
       "21524         2   -1984.507589         40  secondary education             1   \n",
       "\n",
       "           family_status  family_status_id gender income_type  debt  \\\n",
       "21520  civil partnership                 1      F    business     0   \n",
       "21521            married                 0      F     retiree     0   \n",
       "21522  civil partnership                 1      M    employee     1   \n",
       "21523            married                 0      M    employee     1   \n",
       "21524            married                 0      F    employee     0   \n",
       "\n",
       "       total_income               purpose  \n",
       "21520     35966.698  housing transactions  \n",
       "21521     24959.969     purchase of a car  \n",
       "21522     14347.610              property  \n",
       "21523     39054.888     buying my own car  \n",
       "21524     13127.587          to buy a car  "
      ]
     },
     "execution_count": 189,
     "metadata": {},
     "output_type": "execute_result"
    }
   ],
   "source": [
    "credit_score.tail()"
   ]
  },
  {
   "cell_type": "markdown",
   "metadata": {},
   "source": [
    "We call the .info() function to get more information about our dataset.\n",
    "<br>We also call the .sample() function to see the contents of a random row in our dataset."
   ]
  },
  {
   "cell_type": "code",
   "execution_count": 190,
   "metadata": {
    "scrolled": true
   },
   "outputs": [
    {
     "name": "stdout",
     "output_type": "stream",
     "text": [
      "<class 'pandas.core.frame.DataFrame'>\n",
      "RangeIndex: 21525 entries, 0 to 21524\n",
      "Data columns (total 12 columns):\n",
      " #   Column            Non-Null Count  Dtype  \n",
      "---  ------            --------------  -----  \n",
      " 0   children          21525 non-null  int64  \n",
      " 1   days_employed     19351 non-null  float64\n",
      " 2   dob_years         21525 non-null  int64  \n",
      " 3   education         21525 non-null  object \n",
      " 4   education_id      21525 non-null  int64  \n",
      " 5   family_status     21525 non-null  object \n",
      " 6   family_status_id  21525 non-null  int64  \n",
      " 7   gender            21525 non-null  object \n",
      " 8   income_type       21525 non-null  object \n",
      " 9   debt              21525 non-null  int64  \n",
      " 10  total_income      19351 non-null  float64\n",
      " 11  purpose           21525 non-null  object \n",
      "dtypes: float64(2), int64(5), object(5)\n",
      "memory usage: 2.0+ MB\n"
     ]
    },
    {
     "data": {
      "text/html": [
       "<div>\n",
       "<style scoped>\n",
       "    .dataframe tbody tr th:only-of-type {\n",
       "        vertical-align: middle;\n",
       "    }\n",
       "\n",
       "    .dataframe tbody tr th {\n",
       "        vertical-align: top;\n",
       "    }\n",
       "\n",
       "    .dataframe thead th {\n",
       "        text-align: right;\n",
       "    }\n",
       "</style>\n",
       "<table border=\"1\" class=\"dataframe\">\n",
       "  <thead>\n",
       "    <tr style=\"text-align: right;\">\n",
       "      <th></th>\n",
       "      <th>children</th>\n",
       "      <th>days_employed</th>\n",
       "      <th>dob_years</th>\n",
       "      <th>education</th>\n",
       "      <th>education_id</th>\n",
       "      <th>family_status</th>\n",
       "      <th>family_status_id</th>\n",
       "      <th>gender</th>\n",
       "      <th>income_type</th>\n",
       "      <th>debt</th>\n",
       "      <th>total_income</th>\n",
       "      <th>purpose</th>\n",
       "    </tr>\n",
       "  </thead>\n",
       "  <tbody>\n",
       "    <tr>\n",
       "      <th>12868</th>\n",
       "      <td>0</td>\n",
       "      <td>385238.888955</td>\n",
       "      <td>62</td>\n",
       "      <td>secondary education</td>\n",
       "      <td>1</td>\n",
       "      <td>unmarried</td>\n",
       "      <td>4</td>\n",
       "      <td>F</td>\n",
       "      <td>retiree</td>\n",
       "      <td>0</td>\n",
       "      <td>30844.94</td>\n",
       "      <td>to get a supplementary education</td>\n",
       "    </tr>\n",
       "  </tbody>\n",
       "</table>\n",
       "</div>"
      ],
      "text/plain": [
       "       children  days_employed  dob_years            education  education_id  \\\n",
       "12868         0  385238.888955         62  secondary education             1   \n",
       "\n",
       "      family_status  family_status_id gender income_type  debt  total_income  \\\n",
       "12868     unmarried                 4      F     retiree     0      30844.94   \n",
       "\n",
       "                                purpose  \n",
       "12868  to get a supplementary education  "
      ]
     },
     "execution_count": 190,
     "metadata": {},
     "output_type": "execute_result"
    }
   ],
   "source": [
    "credit_score.info()\n",
    "credit_score.sample()"
   ]
  },
  {
   "cell_type": "code",
   "execution_count": 191,
   "metadata": {},
   "outputs": [
    {
     "data": {
      "text/html": [
       "<div>\n",
       "<style scoped>\n",
       "    .dataframe tbody tr th:only-of-type {\n",
       "        vertical-align: middle;\n",
       "    }\n",
       "\n",
       "    .dataframe tbody tr th {\n",
       "        vertical-align: top;\n",
       "    }\n",
       "\n",
       "    .dataframe thead th {\n",
       "        text-align: right;\n",
       "    }\n",
       "</style>\n",
       "<table border=\"1\" class=\"dataframe\">\n",
       "  <thead>\n",
       "    <tr style=\"text-align: right;\">\n",
       "      <th></th>\n",
       "      <th>children</th>\n",
       "      <th>days_employed</th>\n",
       "      <th>dob_years</th>\n",
       "      <th>education</th>\n",
       "      <th>education_id</th>\n",
       "      <th>family_status</th>\n",
       "      <th>family_status_id</th>\n",
       "      <th>gender</th>\n",
       "      <th>income_type</th>\n",
       "      <th>debt</th>\n",
       "      <th>total_income</th>\n",
       "      <th>purpose</th>\n",
       "    </tr>\n",
       "  </thead>\n",
       "  <tbody>\n",
       "    <tr>\n",
       "      <th>count</th>\n",
       "      <td>21525.000000</td>\n",
       "      <td>19351.000000</td>\n",
       "      <td>21525.000000</td>\n",
       "      <td>21525</td>\n",
       "      <td>21525.000000</td>\n",
       "      <td>21525</td>\n",
       "      <td>21525.000000</td>\n",
       "      <td>21525</td>\n",
       "      <td>21525</td>\n",
       "      <td>21525.000000</td>\n",
       "      <td>19351.000000</td>\n",
       "      <td>21525</td>\n",
       "    </tr>\n",
       "    <tr>\n",
       "      <th>unique</th>\n",
       "      <td>NaN</td>\n",
       "      <td>NaN</td>\n",
       "      <td>NaN</td>\n",
       "      <td>15</td>\n",
       "      <td>NaN</td>\n",
       "      <td>5</td>\n",
       "      <td>NaN</td>\n",
       "      <td>3</td>\n",
       "      <td>8</td>\n",
       "      <td>NaN</td>\n",
       "      <td>NaN</td>\n",
       "      <td>38</td>\n",
       "    </tr>\n",
       "    <tr>\n",
       "      <th>top</th>\n",
       "      <td>NaN</td>\n",
       "      <td>NaN</td>\n",
       "      <td>NaN</td>\n",
       "      <td>secondary education</td>\n",
       "      <td>NaN</td>\n",
       "      <td>married</td>\n",
       "      <td>NaN</td>\n",
       "      <td>F</td>\n",
       "      <td>employee</td>\n",
       "      <td>NaN</td>\n",
       "      <td>NaN</td>\n",
       "      <td>wedding ceremony</td>\n",
       "    </tr>\n",
       "    <tr>\n",
       "      <th>freq</th>\n",
       "      <td>NaN</td>\n",
       "      <td>NaN</td>\n",
       "      <td>NaN</td>\n",
       "      <td>13750</td>\n",
       "      <td>NaN</td>\n",
       "      <td>12380</td>\n",
       "      <td>NaN</td>\n",
       "      <td>14236</td>\n",
       "      <td>11119</td>\n",
       "      <td>NaN</td>\n",
       "      <td>NaN</td>\n",
       "      <td>797</td>\n",
       "    </tr>\n",
       "    <tr>\n",
       "      <th>mean</th>\n",
       "      <td>0.538908</td>\n",
       "      <td>63046.497661</td>\n",
       "      <td>43.293380</td>\n",
       "      <td>NaN</td>\n",
       "      <td>0.817236</td>\n",
       "      <td>NaN</td>\n",
       "      <td>0.972544</td>\n",
       "      <td>NaN</td>\n",
       "      <td>NaN</td>\n",
       "      <td>0.080883</td>\n",
       "      <td>26787.568355</td>\n",
       "      <td>NaN</td>\n",
       "    </tr>\n",
       "    <tr>\n",
       "      <th>std</th>\n",
       "      <td>1.381587</td>\n",
       "      <td>140827.311974</td>\n",
       "      <td>12.574584</td>\n",
       "      <td>NaN</td>\n",
       "      <td>0.548138</td>\n",
       "      <td>NaN</td>\n",
       "      <td>1.420324</td>\n",
       "      <td>NaN</td>\n",
       "      <td>NaN</td>\n",
       "      <td>0.272661</td>\n",
       "      <td>16475.450632</td>\n",
       "      <td>NaN</td>\n",
       "    </tr>\n",
       "    <tr>\n",
       "      <th>min</th>\n",
       "      <td>-1.000000</td>\n",
       "      <td>-18388.949901</td>\n",
       "      <td>0.000000</td>\n",
       "      <td>NaN</td>\n",
       "      <td>0.000000</td>\n",
       "      <td>NaN</td>\n",
       "      <td>0.000000</td>\n",
       "      <td>NaN</td>\n",
       "      <td>NaN</td>\n",
       "      <td>0.000000</td>\n",
       "      <td>3306.762000</td>\n",
       "      <td>NaN</td>\n",
       "    </tr>\n",
       "    <tr>\n",
       "      <th>25%</th>\n",
       "      <td>0.000000</td>\n",
       "      <td>-2747.423625</td>\n",
       "      <td>33.000000</td>\n",
       "      <td>NaN</td>\n",
       "      <td>1.000000</td>\n",
       "      <td>NaN</td>\n",
       "      <td>0.000000</td>\n",
       "      <td>NaN</td>\n",
       "      <td>NaN</td>\n",
       "      <td>0.000000</td>\n",
       "      <td>16488.504500</td>\n",
       "      <td>NaN</td>\n",
       "    </tr>\n",
       "    <tr>\n",
       "      <th>50%</th>\n",
       "      <td>0.000000</td>\n",
       "      <td>-1203.369529</td>\n",
       "      <td>42.000000</td>\n",
       "      <td>NaN</td>\n",
       "      <td>1.000000</td>\n",
       "      <td>NaN</td>\n",
       "      <td>0.000000</td>\n",
       "      <td>NaN</td>\n",
       "      <td>NaN</td>\n",
       "      <td>0.000000</td>\n",
       "      <td>23202.870000</td>\n",
       "      <td>NaN</td>\n",
       "    </tr>\n",
       "    <tr>\n",
       "      <th>75%</th>\n",
       "      <td>1.000000</td>\n",
       "      <td>-291.095954</td>\n",
       "      <td>53.000000</td>\n",
       "      <td>NaN</td>\n",
       "      <td>1.000000</td>\n",
       "      <td>NaN</td>\n",
       "      <td>1.000000</td>\n",
       "      <td>NaN</td>\n",
       "      <td>NaN</td>\n",
       "      <td>0.000000</td>\n",
       "      <td>32549.611000</td>\n",
       "      <td>NaN</td>\n",
       "    </tr>\n",
       "    <tr>\n",
       "      <th>max</th>\n",
       "      <td>20.000000</td>\n",
       "      <td>401755.400475</td>\n",
       "      <td>75.000000</td>\n",
       "      <td>NaN</td>\n",
       "      <td>4.000000</td>\n",
       "      <td>NaN</td>\n",
       "      <td>4.000000</td>\n",
       "      <td>NaN</td>\n",
       "      <td>NaN</td>\n",
       "      <td>1.000000</td>\n",
       "      <td>362496.645000</td>\n",
       "      <td>NaN</td>\n",
       "    </tr>\n",
       "  </tbody>\n",
       "</table>\n",
       "</div>"
      ],
      "text/plain": [
       "            children  days_employed     dob_years            education  \\\n",
       "count   21525.000000   19351.000000  21525.000000                21525   \n",
       "unique           NaN            NaN           NaN                   15   \n",
       "top              NaN            NaN           NaN  secondary education   \n",
       "freq             NaN            NaN           NaN                13750   \n",
       "mean        0.538908   63046.497661     43.293380                  NaN   \n",
       "std         1.381587  140827.311974     12.574584                  NaN   \n",
       "min        -1.000000  -18388.949901      0.000000                  NaN   \n",
       "25%         0.000000   -2747.423625     33.000000                  NaN   \n",
       "50%         0.000000   -1203.369529     42.000000                  NaN   \n",
       "75%         1.000000    -291.095954     53.000000                  NaN   \n",
       "max        20.000000  401755.400475     75.000000                  NaN   \n",
       "\n",
       "        education_id family_status  family_status_id gender income_type  \\\n",
       "count   21525.000000         21525      21525.000000  21525       21525   \n",
       "unique           NaN             5               NaN      3           8   \n",
       "top              NaN       married               NaN      F    employee   \n",
       "freq             NaN         12380               NaN  14236       11119   \n",
       "mean        0.817236           NaN          0.972544    NaN         NaN   \n",
       "std         0.548138           NaN          1.420324    NaN         NaN   \n",
       "min         0.000000           NaN          0.000000    NaN         NaN   \n",
       "25%         1.000000           NaN          0.000000    NaN         NaN   \n",
       "50%         1.000000           NaN          0.000000    NaN         NaN   \n",
       "75%         1.000000           NaN          1.000000    NaN         NaN   \n",
       "max         4.000000           NaN          4.000000    NaN         NaN   \n",
       "\n",
       "                debt   total_income           purpose  \n",
       "count   21525.000000   19351.000000             21525  \n",
       "unique           NaN            NaN                38  \n",
       "top              NaN            NaN  wedding ceremony  \n",
       "freq             NaN            NaN               797  \n",
       "mean        0.080883   26787.568355               NaN  \n",
       "std         0.272661   16475.450632               NaN  \n",
       "min         0.000000    3306.762000               NaN  \n",
       "25%         0.000000   16488.504500               NaN  \n",
       "50%         0.000000   23202.870000               NaN  \n",
       "75%         0.000000   32549.611000               NaN  \n",
       "max         1.000000  362496.645000               NaN  "
      ]
     },
     "execution_count": 191,
     "metadata": {},
     "output_type": "execute_result"
    }
   ],
   "source": [
    "credit_score.describe(include='all')"
   ]
  },
  {
   "cell_type": "markdown",
   "metadata": {},
   "source": [
    "### 1.1 Conclusion\n",
    "\n",
    "From the above information, we can see the following problems:\n",
    "- We might have potentially missing values in 2 columns of out dataset. \n",
    "- We have negative values in 'days_employed' column. We also have extremely large values in some rows of this column. e.g. In the 5th row of the dataset, the number of days worked convertes to over 900 years of employment.\n",
    "- Family_status and family_status_id have the same meaning.\n",
    "- Minimum number of children is -1 and the maximum is 20. This seems incorrect."
   ]
  },
  {
   "cell_type": "markdown",
   "metadata": {},
   "source": [
    "<div class=\"alert alert-success\">\n",
    "<b>Reviewer's comment</b>\n",
    "<p>Everything is good so far!</p>\n",
    "</div>"
   ]
  },
  {
   "cell_type": "markdown",
   "metadata": {},
   "source": [
    "## 2. Data Preprocessing"
   ]
  },
  {
   "cell_type": "markdown",
   "metadata": {},
   "source": [
    "### 2.1 Filling Missing Values"
   ]
  },
  {
   "cell_type": "code",
   "execution_count": 192,
   "metadata": {},
   "outputs": [
    {
     "name": "stdout",
     "output_type": "stream",
     "text": [
      "Length of the dataset: 21525\n",
      "\n",
      "Number of missing values (by columns):\n",
      "children               0\n",
      "days_employed       2174\n",
      "dob_years              0\n",
      "education              0\n",
      "education_id           0\n",
      "family_status          0\n",
      "family_status_id       0\n",
      "gender                 0\n",
      "income_type            0\n",
      "debt                   0\n",
      "total_income        2174\n",
      "purpose                0\n",
      "dtype: int64\n",
      "\n",
      "Percentage of data missing (by columns):\n",
      "children            0.000000\n",
      "days_employed       0.100999\n",
      "dob_years           0.000000\n",
      "education           0.000000\n",
      "education_id        0.000000\n",
      "family_status       0.000000\n",
      "family_status_id    0.000000\n",
      "gender              0.000000\n",
      "income_type         0.000000\n",
      "debt                0.000000\n",
      "total_income        0.100999\n",
      "purpose             0.000000\n",
      "dtype: float64\n"
     ]
    }
   ],
   "source": [
    "print('Length of the dataset:', len(credit_score))\n",
    "print()\n",
    "print('Number of missing values (by columns):')\n",
    "print(credit_score.isnull().sum())\n",
    "\n",
    "print()\n",
    "print('Percentage of data missing (by columns):')\n",
    "print(credit_score.isnull().sum()/len(credit_score))"
   ]
  },
  {
   "cell_type": "markdown",
   "metadata": {},
   "source": [
    "Here we see that:\n",
    "\n",
    "+ There are 21525 rows in out dataset and there are 2174 missing values in the 'days_employed' and 'total_income' columns. \n",
    "+ We have about 10% of the rows missing data in the two aforementioned columns. We also note that both the columns with missing data are quantitative.\n",
    "\n",
    "We are going to leave the 'days_employed' column alone and not fill its missing values. This column does not affect our target task. We do need to inform the Data engineers about this issue to find the root cause of it.\n",
    "\n",
    "But we do need to investigate how to fill the missing values in the 'total_income' column so that we do not change the general characteristics of the dataset."
   ]
  },
  {
   "cell_type": "markdown",
   "metadata": {},
   "source": [
    "We know that the income can be influenced by the type of employment. So, first we find the value counts of the 'income_type' row where 'total_income' is missing."
   ]
  },
  {
   "cell_type": "code",
   "execution_count": 193,
   "metadata": {
    "scrolled": true
   },
   "outputs": [
    {
     "name": "stdout",
     "output_type": "stream",
     "text": [
      "Count of missing income by employment:\n",
      "employee         1105\n",
      "business          508\n",
      "retiree           413\n",
      "civil servant     147\n",
      "entrepreneur        1\n",
      "Name: income_type, dtype: int64\n"
     ]
    }
   ],
   "source": [
    "print('Count of missing income by employment:')\n",
    "print(credit_score[credit_score['total_income'].isnull()]['income_type'].value_counts())"
   ]
  },
  {
   "cell_type": "markdown",
   "metadata": {},
   "source": [
    "Now, we find the mean and median of 'total_income' according to the 'income_type'."
   ]
  },
  {
   "cell_type": "code",
   "execution_count": 194,
   "metadata": {},
   "outputs": [
    {
     "data": {
      "text/html": [
       "<div>\n",
       "<style scoped>\n",
       "    .dataframe tbody tr th:only-of-type {\n",
       "        vertical-align: middle;\n",
       "    }\n",
       "\n",
       "    .dataframe tbody tr th {\n",
       "        vertical-align: top;\n",
       "    }\n",
       "\n",
       "    .dataframe thead th {\n",
       "        text-align: right;\n",
       "    }\n",
       "</style>\n",
       "<table border=\"1\" class=\"dataframe\">\n",
       "  <thead>\n",
       "    <tr style=\"text-align: right;\">\n",
       "      <th></th>\n",
       "      <th>count</th>\n",
       "      <th>min</th>\n",
       "      <th>median</th>\n",
       "      <th>mean</th>\n",
       "      <th>max</th>\n",
       "    </tr>\n",
       "    <tr>\n",
       "      <th>income_type</th>\n",
       "      <th></th>\n",
       "      <th></th>\n",
       "      <th></th>\n",
       "      <th></th>\n",
       "      <th></th>\n",
       "    </tr>\n",
       "  </thead>\n",
       "  <tbody>\n",
       "    <tr>\n",
       "      <th>business</th>\n",
       "      <td>4577</td>\n",
       "      <td>4592.450</td>\n",
       "      <td>27577.2720</td>\n",
       "      <td>32386.793835</td>\n",
       "      <td>362496.645</td>\n",
       "    </tr>\n",
       "    <tr>\n",
       "      <th>civil servant</th>\n",
       "      <td>1312</td>\n",
       "      <td>4672.012</td>\n",
       "      <td>24071.6695</td>\n",
       "      <td>27343.729582</td>\n",
       "      <td>145672.235</td>\n",
       "    </tr>\n",
       "    <tr>\n",
       "      <th>employee</th>\n",
       "      <td>10014</td>\n",
       "      <td>3418.824</td>\n",
       "      <td>22815.1035</td>\n",
       "      <td>25820.841683</td>\n",
       "      <td>276204.162</td>\n",
       "    </tr>\n",
       "    <tr>\n",
       "      <th>entrepreneur</th>\n",
       "      <td>1</td>\n",
       "      <td>79866.103</td>\n",
       "      <td>79866.1030</td>\n",
       "      <td>79866.103000</td>\n",
       "      <td>79866.103</td>\n",
       "    </tr>\n",
       "    <tr>\n",
       "      <th>paternity / maternity leave</th>\n",
       "      <td>1</td>\n",
       "      <td>8612.661</td>\n",
       "      <td>8612.6610</td>\n",
       "      <td>8612.661000</td>\n",
       "      <td>8612.661</td>\n",
       "    </tr>\n",
       "    <tr>\n",
       "      <th>retiree</th>\n",
       "      <td>3443</td>\n",
       "      <td>3306.762</td>\n",
       "      <td>18962.3180</td>\n",
       "      <td>21940.394503</td>\n",
       "      <td>117616.523</td>\n",
       "    </tr>\n",
       "    <tr>\n",
       "      <th>student</th>\n",
       "      <td>1</td>\n",
       "      <td>15712.260</td>\n",
       "      <td>15712.2600</td>\n",
       "      <td>15712.260000</td>\n",
       "      <td>15712.260</td>\n",
       "    </tr>\n",
       "    <tr>\n",
       "      <th>unemployed</th>\n",
       "      <td>2</td>\n",
       "      <td>9593.119</td>\n",
       "      <td>21014.3605</td>\n",
       "      <td>21014.360500</td>\n",
       "      <td>32435.602</td>\n",
       "    </tr>\n",
       "  </tbody>\n",
       "</table>\n",
       "</div>"
      ],
      "text/plain": [
       "                             count        min      median          mean  \\\n",
       "income_type                                                               \n",
       "business                      4577   4592.450  27577.2720  32386.793835   \n",
       "civil servant                 1312   4672.012  24071.6695  27343.729582   \n",
       "employee                     10014   3418.824  22815.1035  25820.841683   \n",
       "entrepreneur                     1  79866.103  79866.1030  79866.103000   \n",
       "paternity / maternity leave      1   8612.661   8612.6610   8612.661000   \n",
       "retiree                       3443   3306.762  18962.3180  21940.394503   \n",
       "student                          1  15712.260  15712.2600  15712.260000   \n",
       "unemployed                       2   9593.119  21014.3605  21014.360500   \n",
       "\n",
       "                                    max  \n",
       "income_type                              \n",
       "business                     362496.645  \n",
       "civil servant                145672.235  \n",
       "employee                     276204.162  \n",
       "entrepreneur                  79866.103  \n",
       "paternity / maternity leave    8612.661  \n",
       "retiree                      117616.523  \n",
       "student                       15712.260  \n",
       "unemployed                    32435.602  "
      ]
     },
     "execution_count": 194,
     "metadata": {},
     "output_type": "execute_result"
    }
   ],
   "source": [
    "credit_score.groupby('income_type').total_income.agg(['count','min', 'median', 'mean', 'max'])"
   ]
  },
  {
   "cell_type": "markdown",
   "metadata": {},
   "source": [
    "Incomes differ from one income type to anoter. The imcome for business will be on average higher than for retiree.\n",
    "\n",
    "We see that the average within a type is greater than the median. This implies that income has outliers with large values. So it's better to use the median for filling in the missing values.\n",
    "\n",
    "We also see that in our table the income for the type of entrepreneur is filled only for one customer and the value is quite high, so we cannot fill in the missing value of this type by this single value. So, for the missing values for the entrepreneur should be filled in as the median value across the entire table (in this case, the estimate will most likely be underestimated) or completely removed this customer from the consideration."
   ]
  },
  {
   "cell_type": "code",
   "execution_count": 195,
   "metadata": {},
   "outputs": [
    {
     "name": "stdout",
     "output_type": "stream",
     "text": [
      "Missing values:\n",
      "\n",
      "children               0\n",
      "days_employed       2174\n",
      "dob_years              0\n",
      "education              0\n",
      "education_id           0\n",
      "family_status          0\n",
      "family_status_id       0\n",
      "gender                 0\n",
      "income_type            0\n",
      "debt                   0\n",
      "total_income           0\n",
      "purpose                0\n",
      "dtype: int64\n"
     ]
    }
   ],
   "source": [
    "median_total_income_employee = credit_score[credit_score['income_type'] == 'employee']['total_income'].median()\n",
    "median_total_income_business = credit_score[credit_score['income_type'] == 'business']['total_income'].median()\n",
    "median_total_income_retiree = credit_score[credit_score['income_type'] == 'retiree']['total_income'].median()\n",
    "median_total_income_civil_servant = credit_score[credit_score['income_type'] == 'civil servant']['total_income'].median()\n",
    "median_total_income_entrepreneur = credit_score['total_income'].median()\n",
    "\n",
    "credit_score.loc[credit_score['income_type'] == 'employee', 'total_income'] = credit_score.loc[credit_score['income_type'] == 'employee', 'total_income'].fillna(value = median_total_income_employee)\n",
    "credit_score.loc[credit_score['income_type'] == 'business', 'total_income'] = credit_score.loc[credit_score['income_type'] == 'business', 'total_income'].fillna(value = median_total_income_business)\n",
    "credit_score.loc[credit_score['income_type'] == 'retiree', 'total_income'] = credit_score.loc[credit_score['income_type'] == 'retiree', 'total_income'].fillna(value = median_total_income_retiree)\n",
    "credit_score.loc[credit_score['income_type'] == 'civil servant', 'total_income'] = credit_score.loc[credit_score['income_type'] == 'civil servant', 'total_income'].fillna(value = median_total_income_civil_servant)\n",
    "credit_score.loc[credit_score['income_type'] == 'entrepreneur', 'total_income'] = credit_score.loc[credit_score['income_type'] == 'entrepreneur', 'total_income'].fillna(value = median_total_income_entrepreneur)\n",
    "\n",
    "print('Missing values:')\n",
    "print()\n",
    "print(credit_score.isnull().sum())"
   ]
  },
  {
   "cell_type": "markdown",
   "metadata": {},
   "source": [
    "<div class=\"alert alert-warning\">\n",
    "<b>Reviewer's comment</b>\n",
    "<p>A useful tip: whenever you find yourself repeating the same lines of code multiple times, it is an indication that you could make your code look better using a function or a loop.</p>\n",
    "</div>"
   ]
  },
  {
   "cell_type": "markdown",
   "metadata": {},
   "source": [
    "We also need to check if we have any problems with the 'dob_years' column. Age cannot be negative or zero. Age also cannot be less than 18 as one needs to be an adult to have a bank account and to be able to apply for a loan."
   ]
  },
  {
   "cell_type": "code",
   "execution_count": 196,
   "metadata": {},
   "outputs": [
    {
     "name": "stdout",
     "output_type": "stream",
     "text": [
      "35    617\n",
      "40    609\n",
      "41    607\n",
      "34    603\n",
      "38    598\n",
      "42    597\n",
      "33    581\n",
      "39    573\n",
      "31    560\n",
      "36    555\n",
      "44    547\n",
      "29    545\n",
      "30    540\n",
      "48    538\n",
      "37    537\n",
      "50    514\n",
      "43    513\n",
      "32    510\n",
      "49    508\n",
      "28    503\n",
      "45    497\n",
      "27    493\n",
      "56    487\n",
      "52    484\n",
      "47    480\n",
      "54    479\n",
      "46    475\n",
      "58    461\n",
      "57    460\n",
      "53    459\n",
      "51    448\n",
      "59    444\n",
      "55    443\n",
      "26    408\n",
      "60    377\n",
      "25    357\n",
      "61    355\n",
      "62    352\n",
      "63    269\n",
      "64    265\n",
      "24    264\n",
      "23    254\n",
      "65    194\n",
      "66    183\n",
      "22    183\n",
      "67    167\n",
      "21    111\n",
      "0     101\n",
      "68     99\n",
      "69     85\n",
      "70     65\n",
      "71     58\n",
      "20     51\n",
      "72     33\n",
      "19     14\n",
      "73      8\n",
      "74      6\n",
      "75      1\n",
      "Name: dob_years, dtype: int64\n"
     ]
    }
   ],
   "source": [
    "print(credit_score['dob_years'].value_counts())"
   ]
  },
  {
   "cell_type": "markdown",
   "metadata": {},
   "source": [
    "We see that we have 101 rows with age 0. This might be an error due to data entry. Or it can also be due to errors in survey design, where age is not a required value above 0 and some people decide not to enter it.\n",
    "\n",
    "Whatever be the case, 101 wrong entries are insignificant compared to the size of the dataset, so we can drop these rows without skewing our dataset."
   ]
  },
  {
   "cell_type": "code",
   "execution_count": 197,
   "metadata": {},
   "outputs": [],
   "source": [
    "credit_score = credit_score.drop(credit_score[credit_score.dob_years == 0].index)"
   ]
  },
  {
   "cell_type": "markdown",
   "metadata": {},
   "source": [
    "<div class=\"alert alert-success\">\n",
    "<b>Reviewer's comment</b>\n",
    "<p>Good catch!</p>\n",
    "</div>"
   ]
  },
  {
   "cell_type": "markdown",
   "metadata": {},
   "source": [
    "We also need to correct the children column in the data set. The error must have crept up during data entry.\n",
    "First let us see how many rows have the wrong data entries"
   ]
  },
  {
   "cell_type": "code",
   "execution_count": 198,
   "metadata": {},
   "outputs": [
    {
     "name": "stdout",
     "output_type": "stream",
     "text": [
      " 0     14080\n",
      " 1      4802\n",
      " 2      2042\n",
      " 3       328\n",
      " 20       75\n",
      "-1        47\n",
      " 4        41\n",
      " 5         9\n",
      "Name: children, dtype: int64\n"
     ]
    }
   ],
   "source": [
    "print(credit_score['children'].value_counts())"
   ]
  },
  {
   "cell_type": "markdown",
   "metadata": {},
   "source": [
    "We find that 75 people have number of children as 20 and 47 people have number of children as -1.\n",
    "We assume that the value -1 should have been 1 and the value 20 should have been 2.\n",
    "\n",
    "Thus we change the values for these rows. The total number of rows we change are 122, which is insignificant and would not skew our dataset."
   ]
  },
  {
   "cell_type": "code",
   "execution_count": 199,
   "metadata": {},
   "outputs": [],
   "source": [
    "credit_score['children'] = credit_score['children'].replace(-1, 1)\n",
    "credit_score['children'] = credit_score['children'].replace(20, 2)"
   ]
  },
  {
   "cell_type": "markdown",
   "metadata": {},
   "source": [
    "### 2.2 Changing Datatype\n",
    "\n",
    "Now that we have addressed the missing values, we need to change the real number datatype to integer datatype. Let us also convert the datatype of debt, education_id, family_status_id, dob_years and children to int8."
   ]
  },
  {
   "cell_type": "code",
   "execution_count": 200,
   "metadata": {},
   "outputs": [
    {
     "name": "stdout",
     "output_type": "stream",
     "text": [
      "<class 'pandas.core.frame.DataFrame'>\n",
      "Int64Index: 21424 entries, 0 to 21524\n",
      "Data columns (total 12 columns):\n",
      " #   Column            Non-Null Count  Dtype  \n",
      "---  ------            --------------  -----  \n",
      " 0   children          21424 non-null  int8   \n",
      " 1   days_employed     19260 non-null  float64\n",
      " 2   dob_years         21424 non-null  int8   \n",
      " 3   education         21424 non-null  object \n",
      " 4   education_id      21424 non-null  int8   \n",
      " 5   family_status     21424 non-null  object \n",
      " 6   family_status_id  21424 non-null  int8   \n",
      " 7   gender            21424 non-null  object \n",
      " 8   income_type       21424 non-null  object \n",
      " 9   debt              21424 non-null  bool   \n",
      " 10  total_income      21424 non-null  int64  \n",
      " 11  purpose           21424 non-null  object \n",
      "dtypes: bool(1), float64(1), int64(1), int8(4), object(5)\n",
      "memory usage: 1.4+ MB\n"
     ]
    }
   ],
   "source": [
    "credit_score['total_income'] = credit_score['total_income'].astype('int64')\n",
    "credit_score['children'] = credit_score.children.astype('int8') \n",
    "credit_score['dob_years'] = credit_score.dob_years.astype('int8') \n",
    "credit_score['education_id'] = credit_score.education_id.astype('int8') \n",
    "credit_score['family_status_id'] = credit_score.family_status_id.astype('int8')\n",
    "credit_score['debt'] = credit_score.debt.astype('bool')\n",
    "credit_score.info()"
   ]
  },
  {
   "cell_type": "markdown",
   "metadata": {},
   "source": [
    "<div class=\"alert alert-danger\">\n",
    "<b>Reviewer's comment</b>\n",
    "<p>Is there a column for which \"bool\" would be a more natural type?</p>\n",
    "</div>"
   ]
  },
  {
   "cell_type": "markdown",
   "metadata": {},
   "source": [
    "<div class=\"alert alert-info\">\n",
    "<b>Student's comment</b>\n",
    "<p>The debt column can be boolean. I understand.</p>\n",
    "</div>"
   ]
  },
  {
   "cell_type": "markdown",
   "metadata": {},
   "source": [
    "<div class=\"alert alert-success\">\n",
    "<b>Reviewer's comment - V2</b>\n",
    "<p>👍</p>\n",
    "</div>"
   ]
  },
  {
   "cell_type": "markdown",
   "metadata": {},
   "source": [
    "### 2.3 Removing Duplicates\n",
    "Next, we look for duplicates in the data."
   ]
  },
  {
   "cell_type": "code",
   "execution_count": 201,
   "metadata": {},
   "outputs": [
    {
     "name": "stdout",
     "output_type": "stream",
     "text": [
      "Number of duplicated rows: 54\n"
     ]
    }
   ],
   "source": [
    "print('Number of duplicated rows:', credit_score.duplicated().sum())"
   ]
  },
  {
   "cell_type": "markdown",
   "metadata": {},
   "source": [
    "We have to look at the case of the string variables as well."
   ]
  },
  {
   "cell_type": "code",
   "execution_count": 202,
   "metadata": {},
   "outputs": [
    {
     "data": {
      "text/plain": [
       "secondary education    13691\n",
       "bachelor's degree       4686\n",
       "SECONDARY EDUCATION      770\n",
       "Secondary Education      708\n",
       "some college             666\n",
       "BACHELOR'S DEGREE        273\n",
       "Bachelor's Degree        266\n",
       "primary education        250\n",
       "Some College              47\n",
       "SOME COLLEGE              29\n",
       "PRIMARY EDUCATION         17\n",
       "Primary Education         15\n",
       "graduate degree            4\n",
       "Graduate Degree            1\n",
       "GRADUATE DEGREE            1\n",
       "Name: education, dtype: int64"
      ]
     },
     "execution_count": 202,
     "metadata": {},
     "output_type": "execute_result"
    }
   ],
   "source": [
    "credit_score['education'].value_counts()"
   ]
  },
  {
   "cell_type": "markdown",
   "metadata": {},
   "source": [
    "We have to change the case of all these to lower to get a better understanding of duplicates.\n",
    "\n",
    "We might have the same issue for family_status, gender, income_type and purpose. So we perform the same operation on these columns as well."
   ]
  },
  {
   "cell_type": "code",
   "execution_count": 203,
   "metadata": {},
   "outputs": [],
   "source": [
    "credit_score['education'] = credit_score['education'].str.lower()\n",
    "credit_score['family_status'] = credit_score['family_status'].str.lower()\n",
    "credit_score['gender'] = credit_score['gender'].str.upper()\n",
    "credit_score['income_type'] = credit_score['income_type'].str.lower()\n",
    "credit_score['purpose'] = credit_score['purpose'].str.lower()"
   ]
  },
  {
   "cell_type": "markdown",
   "metadata": {},
   "source": [
    "<div class=\"alert alert-warning\">\n",
    "<b>Reviewer's comment</b>\n",
    "<p>Again, looks like a loop here would make the code more concise.</p>\n",
    "</div>"
   ]
  },
  {
   "cell_type": "markdown",
   "metadata": {},
   "source": [
    "Let us check if the number of duplicates have changed after our case transformation."
   ]
  },
  {
   "cell_type": "code",
   "execution_count": 204,
   "metadata": {},
   "outputs": [
    {
     "name": "stdout",
     "output_type": "stream",
     "text": [
      "Number of duplicated rows: 71\n"
     ]
    }
   ],
   "source": [
    "print('Number of duplicated rows:', credit_score.duplicated().sum())"
   ]
  },
  {
   "cell_type": "markdown",
   "metadata": {},
   "source": [
    "We can drop duplicates when we have differences only in string cases. But, we may have duplicates by meaning the purpose column. So we need to perform lemmatization on that column."
   ]
  },
  {
   "cell_type": "markdown",
   "metadata": {},
   "source": [
    "<div class=\"alert alert-success\">\n",
    "<b>Reviewer's comment</b>\n",
    "<p>Exactly!</p>\n",
    "</div>"
   ]
  },
  {
   "cell_type": "markdown",
   "metadata": {},
   "source": [
    "### 2.4 Lemmatization"
   ]
  },
  {
   "cell_type": "markdown",
   "metadata": {},
   "source": [
    "Let us first have a look at the values in the purpose column."
   ]
  },
  {
   "cell_type": "code",
   "execution_count": 205,
   "metadata": {},
   "outputs": [
    {
     "name": "stdout",
     "output_type": "stream",
     "text": [
      "['purchase of the house' 'car purchase' 'supplementary education'\n",
      " 'to have a wedding' 'housing transactions' 'education' 'having a wedding'\n",
      " 'purchase of the house for my family' 'buy real estate'\n",
      " 'buy commercial real estate' 'buy residential real estate'\n",
      " 'construction of own property' 'property' 'building a property'\n",
      " 'buying a second-hand car' 'buying my own car'\n",
      " 'transactions with commercial real estate' 'building a real estate'\n",
      " 'housing' 'transactions with my real estate' 'cars' 'to become educated'\n",
      " 'second-hand car purchase' 'getting an education' 'car'\n",
      " 'wedding ceremony' 'to get a supplementary education'\n",
      " 'purchase of my own house' 'real estate transactions'\n",
      " 'getting higher education' 'to own a car' 'purchase of a car'\n",
      " 'profile education' 'university education'\n",
      " 'buying property for renting out' 'to buy a car' 'housing renovation'\n",
      " 'going to university']\n"
     ]
    },
    {
     "data": {
      "text/plain": [
       "38"
      ]
     },
     "execution_count": 205,
     "metadata": {},
     "output_type": "execute_result"
    }
   ],
   "source": [
    "purposes_list = credit_score['purpose'].unique()\n",
    "print(purposes_list)\n",
    "len(purposes_list)"
   ]
  },
  {
   "cell_type": "markdown",
   "metadata": {},
   "source": [
    "We now import the required libraries and download the required packages to perform lemmatization."
   ]
  },
  {
   "cell_type": "code",
   "execution_count": 206,
   "metadata": {},
   "outputs": [
    {
     "name": "stderr",
     "output_type": "stream",
     "text": [
      "[nltk_data] Downloading package punkt to\n",
      "[nltk_data]     C:\\Users\\SkyNET\\AppData\\Roaming\\nltk_data...\n",
      "[nltk_data]   Package punkt is already up-to-date!\n",
      "[nltk_data] Downloading package wordnet to\n",
      "[nltk_data]     C:\\Users\\SkyNET\\AppData\\Roaming\\nltk_data...\n",
      "[nltk_data]   Package wordnet is already up-to-date!\n",
      "[nltk_data] Downloading package stopwords to\n",
      "[nltk_data]     C:\\Users\\SkyNET\\AppData\\Roaming\\nltk_data...\n",
      "[nltk_data]   Package stopwords is already up-to-date!\n",
      "[nltk_data] Downloading package averaged_perceptron_tagger to\n",
      "[nltk_data]     C:\\Users\\SkyNET\\AppData\\Roaming\\nltk_data...\n",
      "[nltk_data]   Package averaged_perceptron_tagger is already up-to-\n",
      "[nltk_data]       date!\n"
     ]
    }
   ],
   "source": [
    "import nltk\n",
    "from nltk.stem import WordNetLemmatizer\n",
    "from collections import Counter\n",
    "from nltk.corpus import stopwords\n",
    "nltk.download('punkt')\n",
    "nltk.download('wordnet')\n",
    "nltk.download('stopwords')\n",
    "nltk.download('averaged_perceptron_tagger')\n",
    "stopwords = set(stopwords.words('english'))\n",
    "is_noun = lambda pos: pos[:2] == 'NN'"
   ]
  },
  {
   "cell_type": "markdown",
   "metadata": {},
   "source": [
    "Now we find the different categories of purpose."
   ]
  },
  {
   "cell_type": "code",
   "execution_count": 207,
   "metadata": {},
   "outputs": [
    {
     "data": {
      "text/plain": [
       "['purchase',\n",
       " 'house',\n",
       " 'car',\n",
       " 'education',\n",
       " 'wedding',\n",
       " 'housing',\n",
       " 'transaction',\n",
       " 'family',\n",
       " 'estate',\n",
       " 'construction',\n",
       " 'property',\n",
       " 'second-hand',\n",
       " 'ceremony',\n",
       " 'profile',\n",
       " 'university',\n",
       " 'renovation']"
      ]
     },
     "execution_count": 207,
     "metadata": {},
     "output_type": "execute_result"
    }
   ],
   "source": [
    "wordnet_lemma = WordNetLemmatizer()\n",
    "lemmas = []\n",
    "for text in purposes_list:\n",
    "    words = nltk.word_tokenize(text.lower())\n",
    "    lemmas += [wordnet_lemma.lemmatize(w, pos='n') for (w,pos) in nltk.pos_tag(words) if w not in stopwords and is_noun(pos)]\n",
    "purpose_categories = list(Counter(lemmas).keys())\n",
    "purpose_categories"
   ]
  },
  {
   "cell_type": "markdown",
   "metadata": {},
   "source": [
    "Now we create a dictionary of the categorical purpose values."
   ]
  },
  {
   "cell_type": "code",
   "execution_count": 208,
   "metadata": {},
   "outputs": [],
   "source": [
    "from nltk.stem import SnowballStemmer \n",
    "english_stemmer = SnowballStemmer('english')"
   ]
  },
  {
   "cell_type": "code",
   "execution_count": 209,
   "metadata": {},
   "outputs": [
    {
     "data": {
      "text/plain": [
       "{'buy real estate': 'estate',\n",
       " 'to have a wedding': 'wedding',\n",
       " 'buy residential real estate': 'estate',\n",
       " 'second-hand car purchase': 'purchase',\n",
       " 'to get a supplementary education': 'education',\n",
       " 'to own a car': 'car',\n",
       " 'transactions with commercial real estate': 'transaction',\n",
       " 'car purchase': 'purchase',\n",
       " 'transactions with my real estate': 'transaction',\n",
       " 'property': 'property',\n",
       " 'to become educated': 'education',\n",
       " 'university education': 'education',\n",
       " 'purchase of a car': 'purchase',\n",
       " 'going to university': 'university',\n",
       " 'housing': 'house',\n",
       " 'to buy a car': 'car',\n",
       " 'buying property for renting out': 'property',\n",
       " 'building a property': 'property',\n",
       " 'profile education': 'education',\n",
       " 'getting higher education': 'education',\n",
       " 'building a real estate': 'estate',\n",
       " 'education': 'education',\n",
       " 'buying a second-hand car': 'car',\n",
       " 'wedding ceremony': 'wedding',\n",
       " 'having a wedding': 'wedding',\n",
       " 'cars': 'car',\n",
       " 'car': 'car',\n",
       " 'purchase of the house': 'purchase',\n",
       " 'purchase of the house for my family': 'purchase',\n",
       " 'housing transactions': 'house',\n",
       " 'buying my own car': 'car',\n",
       " 'purchase of my own house': 'purchase',\n",
       " 'supplementary education': 'education',\n",
       " 'construction of own property': 'construction',\n",
       " 'buy commercial real estate': 'estate',\n",
       " 'getting an education': 'education',\n",
       " 'housing renovation': 'house',\n",
       " 'real estate transactions': 'transaction'}"
      ]
     },
     "execution_count": 209,
     "metadata": {},
     "output_type": "execute_result"
    }
   ],
   "source": [
    "category_purpose_dict = {text_purpose:next(category for category in purpose_categories if english_stemmer.stem(category) in text_purpose or category in text_purpose) for text_purpose in set(credit_score['purpose'])}\n",
    "category_purpose_dict"
   ]
  },
  {
   "cell_type": "markdown",
   "metadata": {},
   "source": [
    "We need to make some more changes. Like 'buying real estate' can be under the category 'house' instead of 'estate'. We have to do this manually."
   ]
  },
  {
   "cell_type": "code",
   "execution_count": 210,
   "metadata": {},
   "outputs": [
    {
     "data": {
      "text/plain": [
       "{'buy real estate': 'house',\n",
       " 'to have a wedding': 'wedding',\n",
       " 'buy residential real estate': 'house',\n",
       " 'second-hand car purchase': 'car',\n",
       " 'to get a supplementary education': 'education',\n",
       " 'to own a car': 'car',\n",
       " 'transactions with commercial real estate': 'house',\n",
       " 'car purchase': 'car',\n",
       " 'transactions with my real estate': 'house',\n",
       " 'property': 'property',\n",
       " 'to become educated': 'education',\n",
       " 'university education': 'education',\n",
       " 'purchase of a car': 'car',\n",
       " 'going to university': 'university',\n",
       " 'housing': 'house',\n",
       " 'to buy a car': 'car',\n",
       " 'buying property for renting out': 'property',\n",
       " 'building a property': 'property',\n",
       " 'profile education': 'education',\n",
       " 'getting higher education': 'education',\n",
       " 'building a real estate': 'house',\n",
       " 'education': 'education',\n",
       " 'buying a second-hand car': 'car',\n",
       " 'wedding ceremony': 'wedding',\n",
       " 'having a wedding': 'wedding',\n",
       " 'cars': 'car',\n",
       " 'car': 'car',\n",
       " 'purchase of the house': 'house',\n",
       " 'purchase of the house for my family': 'house',\n",
       " 'housing transactions': 'house',\n",
       " 'buying my own car': 'car',\n",
       " 'purchase of my own house': 'house',\n",
       " 'supplementary education': 'education',\n",
       " 'construction of own property': 'property',\n",
       " 'buy commercial real estate': 'house',\n",
       " 'getting an education': 'education',\n",
       " 'housing renovation': 'house',\n",
       " 'real estate transactions': 'house'}"
      ]
     },
     "execution_count": 210,
     "metadata": {},
     "output_type": "execute_result"
    }
   ],
   "source": [
    "for x, y in category_purpose_dict.items():   # we take 2 random variables x and y to perform the operation\n",
    "    if not y=='car' and 'car' in x:\n",
    "        category_purpose_dict[x] = 'car'\n",
    "        continue\n",
    "    if not y=='house' and ('estate' in x or 'house' in x):\n",
    "        category_purpose_dict[x] = 'house'\n",
    "        continue\n",
    "    if not y=='property' and ('construction' in x or 'property' in x):\n",
    "        category_purpose_dict[x] = 'property'\n",
    "        continue\n",
    "category_purpose_dict"
   ]
  },
  {
   "cell_type": "markdown",
   "metadata": {},
   "source": [
    "We can replace the current purpose values in the dataset with our categorical values from the dictionary."
   ]
  },
  {
   "cell_type": "code",
   "execution_count": 211,
   "metadata": {
    "scrolled": true
   },
   "outputs": [
    {
     "data": {
      "text/html": [
       "<div>\n",
       "<style scoped>\n",
       "    .dataframe tbody tr th:only-of-type {\n",
       "        vertical-align: middle;\n",
       "    }\n",
       "\n",
       "    .dataframe tbody tr th {\n",
       "        vertical-align: top;\n",
       "    }\n",
       "\n",
       "    .dataframe thead th {\n",
       "        text-align: right;\n",
       "    }\n",
       "</style>\n",
       "<table border=\"1\" class=\"dataframe\">\n",
       "  <thead>\n",
       "    <tr style=\"text-align: right;\">\n",
       "      <th></th>\n",
       "      <th>children</th>\n",
       "      <th>days_employed</th>\n",
       "      <th>dob_years</th>\n",
       "      <th>education</th>\n",
       "      <th>education_id</th>\n",
       "      <th>family_status</th>\n",
       "      <th>family_status_id</th>\n",
       "      <th>gender</th>\n",
       "      <th>income_type</th>\n",
       "      <th>debt</th>\n",
       "      <th>total_income</th>\n",
       "      <th>purpose</th>\n",
       "    </tr>\n",
       "  </thead>\n",
       "  <tbody>\n",
       "    <tr>\n",
       "      <th>15252</th>\n",
       "      <td>0</td>\n",
       "      <td>-627.600611</td>\n",
       "      <td>28</td>\n",
       "      <td>secondary education</td>\n",
       "      <td>1</td>\n",
       "      <td>civil partnership</td>\n",
       "      <td>1</td>\n",
       "      <td>M</td>\n",
       "      <td>employee</td>\n",
       "      <td>True</td>\n",
       "      <td>54338</td>\n",
       "      <td>house</td>\n",
       "    </tr>\n",
       "    <tr>\n",
       "      <th>603</th>\n",
       "      <td>1</td>\n",
       "      <td>-918.457704</td>\n",
       "      <td>28</td>\n",
       "      <td>bachelor's degree</td>\n",
       "      <td>0</td>\n",
       "      <td>married</td>\n",
       "      <td>0</td>\n",
       "      <td>F</td>\n",
       "      <td>business</td>\n",
       "      <td>False</td>\n",
       "      <td>17814</td>\n",
       "      <td>car</td>\n",
       "    </tr>\n",
       "    <tr>\n",
       "      <th>6404</th>\n",
       "      <td>2</td>\n",
       "      <td>-1476.702507</td>\n",
       "      <td>34</td>\n",
       "      <td>secondary education</td>\n",
       "      <td>1</td>\n",
       "      <td>married</td>\n",
       "      <td>0</td>\n",
       "      <td>M</td>\n",
       "      <td>employee</td>\n",
       "      <td>False</td>\n",
       "      <td>10481</td>\n",
       "      <td>house</td>\n",
       "    </tr>\n",
       "    <tr>\n",
       "      <th>18961</th>\n",
       "      <td>0</td>\n",
       "      <td>-916.580409</td>\n",
       "      <td>29</td>\n",
       "      <td>secondary education</td>\n",
       "      <td>1</td>\n",
       "      <td>married</td>\n",
       "      <td>0</td>\n",
       "      <td>M</td>\n",
       "      <td>employee</td>\n",
       "      <td>False</td>\n",
       "      <td>29044</td>\n",
       "      <td>house</td>\n",
       "    </tr>\n",
       "    <tr>\n",
       "      <th>17646</th>\n",
       "      <td>0</td>\n",
       "      <td>NaN</td>\n",
       "      <td>49</td>\n",
       "      <td>some college</td>\n",
       "      <td>2</td>\n",
       "      <td>married</td>\n",
       "      <td>0</td>\n",
       "      <td>M</td>\n",
       "      <td>business</td>\n",
       "      <td>False</td>\n",
       "      <td>27577</td>\n",
       "      <td>education</td>\n",
       "    </tr>\n",
       "  </tbody>\n",
       "</table>\n",
       "</div>"
      ],
      "text/plain": [
       "       children  days_employed  dob_years            education  education_id  \\\n",
       "15252         0    -627.600611         28  secondary education             1   \n",
       "603           1    -918.457704         28    bachelor's degree             0   \n",
       "6404          2   -1476.702507         34  secondary education             1   \n",
       "18961         0    -916.580409         29  secondary education             1   \n",
       "17646         0            NaN         49         some college             2   \n",
       "\n",
       "           family_status  family_status_id gender income_type   debt  \\\n",
       "15252  civil partnership                 1      M    employee   True   \n",
       "603              married                 0      F    business  False   \n",
       "6404             married                 0      M    employee  False   \n",
       "18961            married                 0      M    employee  False   \n",
       "17646            married                 0      M    business  False   \n",
       "\n",
       "       total_income    purpose  \n",
       "15252         54338      house  \n",
       "603           17814        car  \n",
       "6404          10481      house  \n",
       "18961         29044      house  \n",
       "17646         27577  education  "
      ]
     },
     "execution_count": 211,
     "metadata": {},
     "output_type": "execute_result"
    }
   ],
   "source": [
    "credit_score['purpose'] = credit_score['purpose'].replace(category_purpose_dict)\n",
    "credit_score.sample(5)"
   ]
  },
  {
   "cell_type": "markdown",
   "metadata": {},
   "source": [
    "Now we look for duplicates once again."
   ]
  },
  {
   "cell_type": "code",
   "execution_count": 212,
   "metadata": {},
   "outputs": [
    {
     "name": "stdout",
     "output_type": "stream",
     "text": [
      "Number of duplicated rows: 304\n"
     ]
    }
   ],
   "source": [
    "print('Number of duplicated rows:', credit_score.duplicated().sum())"
   ]
  },
  {
   "cell_type": "code",
   "execution_count": 213,
   "metadata": {},
   "outputs": [],
   "source": [
    "credit_score.drop_duplicates(inplace = True)"
   ]
  },
  {
   "cell_type": "code",
   "execution_count": 214,
   "metadata": {},
   "outputs": [
    {
     "name": "stdout",
     "output_type": "stream",
     "text": [
      "Number of duplicated rows: 0\n"
     ]
    }
   ],
   "source": [
    "print('Number of duplicated rows:', credit_score.duplicated().sum())"
   ]
  },
  {
   "cell_type": "markdown",
   "metadata": {},
   "source": [
    "<div class=\"alert alert-success\">\n",
    "<b>Reviewer's comment</b>\n",
    "<p>Well done! </p>\n",
    "</div>"
   ]
  },
  {
   "cell_type": "markdown",
   "metadata": {},
   "source": [
    "### 2.5 Categorizing Data \n",
    "\n",
    "First we have a look at the categorical data.\n",
    "- purpose : categorical\n",
    "- income_type : Categorical\n",
    "- gender : Categorical\n",
    "- family_status : Categorical\n",
    "- education : Categorical"
   ]
  },
  {
   "cell_type": "code",
   "execution_count": 215,
   "metadata": {},
   "outputs": [
    {
     "data": {
      "text/plain": [
       "array(['F', 'M', 'XNA'], dtype=object)"
      ]
     },
     "execution_count": 215,
     "metadata": {},
     "output_type": "execute_result"
    }
   ],
   "source": [
    "credit_score['gender'].unique()"
   ]
  },
  {
   "cell_type": "markdown",
   "metadata": {},
   "source": [
    "We have an unknown value 'XNA' in the gender column. We need to have a closer look at it before moving forward."
   ]
  },
  {
   "cell_type": "code",
   "execution_count": 216,
   "metadata": {},
   "outputs": [
    {
     "data": {
      "text/html": [
       "<div>\n",
       "<style scoped>\n",
       "    .dataframe tbody tr th:only-of-type {\n",
       "        vertical-align: middle;\n",
       "    }\n",
       "\n",
       "    .dataframe tbody tr th {\n",
       "        vertical-align: top;\n",
       "    }\n",
       "\n",
       "    .dataframe thead th {\n",
       "        text-align: right;\n",
       "    }\n",
       "</style>\n",
       "<table border=\"1\" class=\"dataframe\">\n",
       "  <thead>\n",
       "    <tr style=\"text-align: right;\">\n",
       "      <th></th>\n",
       "      <th>children</th>\n",
       "      <th>days_employed</th>\n",
       "      <th>dob_years</th>\n",
       "      <th>education</th>\n",
       "      <th>education_id</th>\n",
       "      <th>family_status</th>\n",
       "      <th>family_status_id</th>\n",
       "      <th>gender</th>\n",
       "      <th>income_type</th>\n",
       "      <th>debt</th>\n",
       "      <th>total_income</th>\n",
       "      <th>purpose</th>\n",
       "    </tr>\n",
       "  </thead>\n",
       "  <tbody>\n",
       "    <tr>\n",
       "      <th>10701</th>\n",
       "      <td>0</td>\n",
       "      <td>-2358.600502</td>\n",
       "      <td>24</td>\n",
       "      <td>some college</td>\n",
       "      <td>2</td>\n",
       "      <td>civil partnership</td>\n",
       "      <td>1</td>\n",
       "      <td>XNA</td>\n",
       "      <td>business</td>\n",
       "      <td>False</td>\n",
       "      <td>32624</td>\n",
       "      <td>house</td>\n",
       "    </tr>\n",
       "  </tbody>\n",
       "</table>\n",
       "</div>"
      ],
      "text/plain": [
       "       children  days_employed  dob_years     education  education_id  \\\n",
       "10701         0   -2358.600502         24  some college             2   \n",
       "\n",
       "           family_status  family_status_id gender income_type   debt  \\\n",
       "10701  civil partnership                 1    XNA    business  False   \n",
       "\n",
       "       total_income purpose  \n",
       "10701         32624   house  "
      ]
     },
     "execution_count": 216,
     "metadata": {},
     "output_type": "execute_result"
    }
   ],
   "source": [
    "credit_score[credit_score['gender']=='XNA']"
   ]
  },
  {
   "cell_type": "markdown",
   "metadata": {},
   "source": [
    "Let us check if we have other records with the same income_type."
   ]
  },
  {
   "cell_type": "code",
   "execution_count": 217,
   "metadata": {},
   "outputs": [
    {
     "data": {
      "text/html": [
       "<div>\n",
       "<style scoped>\n",
       "    .dataframe tbody tr th:only-of-type {\n",
       "        vertical-align: middle;\n",
       "    }\n",
       "\n",
       "    .dataframe tbody tr th {\n",
       "        vertical-align: top;\n",
       "    }\n",
       "\n",
       "    .dataframe thead tr th {\n",
       "        text-align: left;\n",
       "    }\n",
       "\n",
       "    .dataframe thead tr:last-of-type th {\n",
       "        text-align: right;\n",
       "    }\n",
       "</style>\n",
       "<table border=\"1\" class=\"dataframe\">\n",
       "  <thead>\n",
       "    <tr>\n",
       "      <th></th>\n",
       "      <th colspan=\"2\" halign=\"left\">children</th>\n",
       "      <th colspan=\"2\" halign=\"left\">days_employed</th>\n",
       "      <th colspan=\"2\" halign=\"left\">dob_years</th>\n",
       "      <th colspan=\"2\" halign=\"left\">education_id</th>\n",
       "      <th colspan=\"2\" halign=\"left\">family_status_id</th>\n",
       "      <th colspan=\"2\" halign=\"left\">debt</th>\n",
       "      <th colspan=\"2\" halign=\"left\">total_income</th>\n",
       "    </tr>\n",
       "    <tr>\n",
       "      <th></th>\n",
       "      <th>mean</th>\n",
       "      <th>count</th>\n",
       "      <th>mean</th>\n",
       "      <th>count</th>\n",
       "      <th>mean</th>\n",
       "      <th>count</th>\n",
       "      <th>mean</th>\n",
       "      <th>count</th>\n",
       "      <th>mean</th>\n",
       "      <th>count</th>\n",
       "      <th>mean</th>\n",
       "      <th>count</th>\n",
       "      <th>mean</th>\n",
       "      <th>count</th>\n",
       "    </tr>\n",
       "    <tr>\n",
       "      <th>income_type</th>\n",
       "      <th></th>\n",
       "      <th></th>\n",
       "      <th></th>\n",
       "      <th></th>\n",
       "      <th></th>\n",
       "      <th></th>\n",
       "      <th></th>\n",
       "      <th></th>\n",
       "      <th></th>\n",
       "      <th></th>\n",
       "      <th></th>\n",
       "      <th></th>\n",
       "      <th></th>\n",
       "      <th></th>\n",
       "    </tr>\n",
       "  </thead>\n",
       "  <tbody>\n",
       "    <tr>\n",
       "      <th>business</th>\n",
       "      <td>0.525646</td>\n",
       "      <td>5030</td>\n",
       "      <td>-2112.798330</td>\n",
       "      <td>4559</td>\n",
       "      <td>39.821471</td>\n",
       "      <td>5030</td>\n",
       "      <td>0.716103</td>\n",
       "      <td>5030</td>\n",
       "      <td>1.037177</td>\n",
       "      <td>5030</td>\n",
       "      <td>0.074553</td>\n",
       "      <td>5030</td>\n",
       "      <td>31945.538171</td>\n",
       "      <td>5030</td>\n",
       "    </tr>\n",
       "    <tr>\n",
       "      <th>civil servant</th>\n",
       "      <td>0.602626</td>\n",
       "      <td>1447</td>\n",
       "      <td>-3388.508552</td>\n",
       "      <td>1306</td>\n",
       "      <td>40.804423</td>\n",
       "      <td>1447</td>\n",
       "      <td>0.673117</td>\n",
       "      <td>1447</td>\n",
       "      <td>0.859019</td>\n",
       "      <td>1447</td>\n",
       "      <td>0.059433</td>\n",
       "      <td>1447</td>\n",
       "      <td>27040.244644</td>\n",
       "      <td>1447</td>\n",
       "    </tr>\n",
       "    <tr>\n",
       "      <th>employee</th>\n",
       "      <td>0.580169</td>\n",
       "      <td>10902</td>\n",
       "      <td>-2328.603723</td>\n",
       "      <td>9964</td>\n",
       "      <td>39.991103</td>\n",
       "      <td>10902</td>\n",
       "      <td>0.849569</td>\n",
       "      <td>10902</td>\n",
       "      <td>0.961200</td>\n",
       "      <td>10902</td>\n",
       "      <td>0.096680</td>\n",
       "      <td>10902</td>\n",
       "      <td>25565.276463</td>\n",
       "      <td>10902</td>\n",
       "    </tr>\n",
       "    <tr>\n",
       "      <th>entrepreneur</th>\n",
       "      <td>0.000000</td>\n",
       "      <td>2</td>\n",
       "      <td>-520.848083</td>\n",
       "      <td>1</td>\n",
       "      <td>42.500000</td>\n",
       "      <td>2</td>\n",
       "      <td>0.000000</td>\n",
       "      <td>2</td>\n",
       "      <td>0.500000</td>\n",
       "      <td>2</td>\n",
       "      <td>0.000000</td>\n",
       "      <td>2</td>\n",
       "      <td>51534.000000</td>\n",
       "      <td>2</td>\n",
       "    </tr>\n",
       "    <tr>\n",
       "      <th>paternity / maternity leave</th>\n",
       "      <td>2.000000</td>\n",
       "      <td>1</td>\n",
       "      <td>-3296.759962</td>\n",
       "      <td>1</td>\n",
       "      <td>39.000000</td>\n",
       "      <td>1</td>\n",
       "      <td>1.000000</td>\n",
       "      <td>1</td>\n",
       "      <td>0.000000</td>\n",
       "      <td>1</td>\n",
       "      <td>1.000000</td>\n",
       "      <td>1</td>\n",
       "      <td>8612.000000</td>\n",
       "      <td>1</td>\n",
       "    </tr>\n",
       "    <tr>\n",
       "      <th>retiree</th>\n",
       "      <td>0.096653</td>\n",
       "      <td>3735</td>\n",
       "      <td>365015.727554</td>\n",
       "      <td>3426</td>\n",
       "      <td>59.351807</td>\n",
       "      <td>3735</td>\n",
       "      <td>0.914324</td>\n",
       "      <td>3735</td>\n",
       "      <td>0.993842</td>\n",
       "      <td>3735</td>\n",
       "      <td>0.057564</td>\n",
       "      <td>3735</td>\n",
       "      <td>21692.533333</td>\n",
       "      <td>3735</td>\n",
       "    </tr>\n",
       "    <tr>\n",
       "      <th>student</th>\n",
       "      <td>0.000000</td>\n",
       "      <td>1</td>\n",
       "      <td>-578.751554</td>\n",
       "      <td>1</td>\n",
       "      <td>22.000000</td>\n",
       "      <td>1</td>\n",
       "      <td>0.000000</td>\n",
       "      <td>1</td>\n",
       "      <td>4.000000</td>\n",
       "      <td>1</td>\n",
       "      <td>0.000000</td>\n",
       "      <td>1</td>\n",
       "      <td>15712.000000</td>\n",
       "      <td>1</td>\n",
       "    </tr>\n",
       "    <tr>\n",
       "      <th>unemployed</th>\n",
       "      <td>0.500000</td>\n",
       "      <td>2</td>\n",
       "      <td>366413.652744</td>\n",
       "      <td>2</td>\n",
       "      <td>38.000000</td>\n",
       "      <td>2</td>\n",
       "      <td>0.500000</td>\n",
       "      <td>2</td>\n",
       "      <td>0.500000</td>\n",
       "      <td>2</td>\n",
       "      <td>0.500000</td>\n",
       "      <td>2</td>\n",
       "      <td>21014.000000</td>\n",
       "      <td>2</td>\n",
       "    </tr>\n",
       "  </tbody>\n",
       "</table>\n",
       "</div>"
      ],
      "text/plain": [
       "                             children         days_employed        dob_years  \\\n",
       "                                 mean  count           mean count       mean   \n",
       "income_type                                                                    \n",
       "business                     0.525646   5030   -2112.798330  4559  39.821471   \n",
       "civil servant                0.602626   1447   -3388.508552  1306  40.804423   \n",
       "employee                     0.580169  10902   -2328.603723  9964  39.991103   \n",
       "entrepreneur                 0.000000      2    -520.848083     1  42.500000   \n",
       "paternity / maternity leave  2.000000      1   -3296.759962     1  39.000000   \n",
       "retiree                      0.096653   3735  365015.727554  3426  59.351807   \n",
       "student                      0.000000      1    -578.751554     1  22.000000   \n",
       "unemployed                   0.500000      2  366413.652744     2  38.000000   \n",
       "\n",
       "                                   education_id        family_status_id  \\\n",
       "                             count         mean  count             mean   \n",
       "income_type                                                               \n",
       "business                      5030     0.716103   5030         1.037177   \n",
       "civil servant                 1447     0.673117   1447         0.859019   \n",
       "employee                     10902     0.849569  10902         0.961200   \n",
       "entrepreneur                     2     0.000000      2         0.500000   \n",
       "paternity / maternity leave      1     1.000000      1         0.000000   \n",
       "retiree                       3735     0.914324   3735         0.993842   \n",
       "student                          1     0.000000      1         4.000000   \n",
       "unemployed                       2     0.500000      2         0.500000   \n",
       "\n",
       "                                        debt         total_income         \n",
       "                             count      mean  count          mean  count  \n",
       "income_type                                                               \n",
       "business                      5030  0.074553   5030  31945.538171   5030  \n",
       "civil servant                 1447  0.059433   1447  27040.244644   1447  \n",
       "employee                     10902  0.096680  10902  25565.276463  10902  \n",
       "entrepreneur                     2  0.000000      2  51534.000000      2  \n",
       "paternity / maternity leave      1  1.000000      1   8612.000000      1  \n",
       "retiree                       3735  0.057564   3735  21692.533333   3735  \n",
       "student                          1  0.000000      1  15712.000000      1  \n",
       "unemployed                       2  0.500000      2  21014.000000      2  "
      ]
     },
     "execution_count": 217,
     "metadata": {},
     "output_type": "execute_result"
    }
   ],
   "source": [
    "income_type = credit_score[credit_score['gender']=='XNA'].reset_index()['income_type'][0]\n",
    "credit_score[credit_score['income_type'] == income_type].shape\n",
    "credit_score.groupby('income_type').agg(['mean', 'count'])"
   ]
  },
  {
   "cell_type": "markdown",
   "metadata": {},
   "source": [
    "We see that there are 5030 entries with the 'business' income_type. Only one of this has the gender as 'XNA'. We can delete this entry as it would not skew our dataset."
   ]
  },
  {
   "cell_type": "code",
   "execution_count": 218,
   "metadata": {
    "scrolled": true
   },
   "outputs": [
    {
     "data": {
      "text/html": [
       "<div>\n",
       "<style scoped>\n",
       "    .dataframe tbody tr th:only-of-type {\n",
       "        vertical-align: middle;\n",
       "    }\n",
       "\n",
       "    .dataframe tbody tr th {\n",
       "        vertical-align: top;\n",
       "    }\n",
       "\n",
       "    .dataframe thead th {\n",
       "        text-align: right;\n",
       "    }\n",
       "</style>\n",
       "<table border=\"1\" class=\"dataframe\">\n",
       "  <thead>\n",
       "    <tr style=\"text-align: right;\">\n",
       "      <th></th>\n",
       "      <th>children</th>\n",
       "      <th>days_employed</th>\n",
       "      <th>dob_years</th>\n",
       "      <th>education</th>\n",
       "      <th>education_id</th>\n",
       "      <th>family_status</th>\n",
       "      <th>family_status_id</th>\n",
       "      <th>gender</th>\n",
       "      <th>income_type</th>\n",
       "      <th>debt</th>\n",
       "      <th>total_income</th>\n",
       "      <th>purpose</th>\n",
       "    </tr>\n",
       "  </thead>\n",
       "  <tbody>\n",
       "  </tbody>\n",
       "</table>\n",
       "</div>"
      ],
      "text/plain": [
       "Empty DataFrame\n",
       "Columns: [children, days_employed, dob_years, education, education_id, family_status, family_status_id, gender, income_type, debt, total_income, purpose]\n",
       "Index: []"
      ]
     },
     "execution_count": 218,
     "metadata": {},
     "output_type": "execute_result"
    }
   ],
   "source": [
    "credit_score = credit_score[credit_score['gender'] != 'XNA']\n",
    "credit_score[credit_score['gender']=='XNA']"
   ]
  },
  {
   "cell_type": "markdown",
   "metadata": {},
   "source": [
    "Now we look at the categorical data once again."
   ]
  },
  {
   "cell_type": "code",
   "execution_count": 219,
   "metadata": {},
   "outputs": [
    {
     "data": {
      "text/plain": [
       "array(['F', 'M'], dtype=object)"
      ]
     },
     "execution_count": 219,
     "metadata": {},
     "output_type": "execute_result"
    }
   ],
   "source": [
    "credit_score['gender'].unique()"
   ]
  },
  {
   "cell_type": "code",
   "execution_count": 220,
   "metadata": {},
   "outputs": [
    {
     "data": {
      "text/plain": [
       "array(['employee', 'retiree', 'business', 'civil servant', 'unemployed',\n",
       "       'entrepreneur', 'student', 'paternity / maternity leave'],\n",
       "      dtype=object)"
      ]
     },
     "execution_count": 220,
     "metadata": {},
     "output_type": "execute_result"
    }
   ],
   "source": [
    "credit_score['income_type'].unique()"
   ]
  },
  {
   "cell_type": "code",
   "execution_count": 221,
   "metadata": {},
   "outputs": [
    {
     "data": {
      "text/plain": [
       "array(['married', 'civil partnership', 'widow / widower', 'divorced',\n",
       "       'unmarried'], dtype=object)"
      ]
     },
     "execution_count": 221,
     "metadata": {},
     "output_type": "execute_result"
    }
   ],
   "source": [
    "credit_score['family_status'].unique()"
   ]
  },
  {
   "cell_type": "code",
   "execution_count": 222,
   "metadata": {},
   "outputs": [
    {
     "data": {
      "text/plain": [
       "array([\"bachelor's degree\", 'secondary education', 'some college',\n",
       "       'primary education', 'graduate degree'], dtype=object)"
      ]
     },
     "execution_count": 222,
     "metadata": {},
     "output_type": "execute_result"
    }
   ],
   "source": [
    "credit_score['education'].unique()"
   ]
  },
  {
   "cell_type": "code",
   "execution_count": 223,
   "metadata": {},
   "outputs": [
    {
     "data": {
      "text/plain": [
       "array(['house', 'car', 'education', 'wedding', 'property', 'university'],\n",
       "      dtype=object)"
      ]
     },
     "execution_count": 223,
     "metadata": {},
     "output_type": "execute_result"
    }
   ],
   "source": [
    "credit_score['purpose'].unique()"
   ]
  },
  {
   "cell_type": "markdown",
   "metadata": {},
   "source": [
    "We can either encode the education and family_status or we can use the education_id and family_status_id.\n",
    "We will encode the other categorical variables."
   ]
  },
  {
   "cell_type": "markdown",
   "metadata": {},
   "source": [
    "<div class=\"alert alert-success\">\n",
    "<b>Reviewer's comment</b>\n",
    "<p>Well, this is not really required in this project, but in general it is not a bad thing to do.</p>\n",
    "</div>"
   ]
  },
  {
   "cell_type": "code",
   "execution_count": 224,
   "metadata": {},
   "outputs": [
    {
     "data": {
      "text/plain": [
       "{'house': 0,\n",
       " 'car': 1,\n",
       " 'education': 2,\n",
       " 'wedding': 3,\n",
       " 'property': 4,\n",
       " 'university': 5}"
      ]
     },
     "execution_count": 224,
     "metadata": {},
     "output_type": "execute_result"
    }
   ],
   "source": [
    "map_gender = {'F':1,'M':0}\n",
    "map_purpose = {purpose:index for index, purpose in enumerate(credit_score['purpose'].unique())}\n",
    "map_purpose"
   ]
  },
  {
   "cell_type": "code",
   "execution_count": 225,
   "metadata": {},
   "outputs": [
    {
     "data": {
      "text/plain": [
       "{0: 'married',\n",
       " 1: 'civil partnership',\n",
       " 2: 'widow / widower',\n",
       " 3: 'divorced',\n",
       " 4: 'unmarried'}"
      ]
     },
     "execution_count": 225,
     "metadata": {},
     "output_type": "execute_result"
    }
   ],
   "source": [
    "map_family_status = {row['family_status_id']:row['family_status'] for _, row in credit_score.drop_duplicates(['family_status_id', 'family_status'])[['family_status_id', 'family_status']].iterrows()}\n",
    "map_family_status"
   ]
  },
  {
   "cell_type": "code",
   "execution_count": 226,
   "metadata": {
    "scrolled": true
   },
   "outputs": [
    {
     "data": {
      "text/plain": [
       "{'employee': 0,\n",
       " 'retiree': 1,\n",
       " 'business': 2,\n",
       " 'civil servant': 3,\n",
       " 'unemployed': 4,\n",
       " 'entrepreneur': 5,\n",
       " 'student': 6,\n",
       " 'paternity / maternity leave': 7}"
      ]
     },
     "execution_count": 226,
     "metadata": {},
     "output_type": "execute_result"
    }
   ],
   "source": [
    "map_income_type = {income_type:index for index, income_type in enumerate(credit_score['income_type'].unique())}\n",
    "map_income_type"
   ]
  },
  {
   "cell_type": "code",
   "execution_count": 227,
   "metadata": {
    "scrolled": true
   },
   "outputs": [],
   "source": [
    "credit_score['income_type_id'] = credit_score['income_type'].map(map_income_type)\n",
    "credit_score[\"purpose_id\"] = credit_score[\"purpose\"].map(map_purpose)\n",
    "credit_score['gender_id'] = credit_score['gender'].map(map_gender)\n",
    "credit_score['gender_id'] = credit_score['gender_id'].astype(int)"
   ]
  },
  {
   "cell_type": "code",
   "execution_count": 228,
   "metadata": {},
   "outputs": [
    {
     "data": {
      "text/html": [
       "<div>\n",
       "<style scoped>\n",
       "    .dataframe tbody tr th:only-of-type {\n",
       "        vertical-align: middle;\n",
       "    }\n",
       "\n",
       "    .dataframe tbody tr th {\n",
       "        vertical-align: top;\n",
       "    }\n",
       "\n",
       "    .dataframe thead th {\n",
       "        text-align: right;\n",
       "    }\n",
       "</style>\n",
       "<table border=\"1\" class=\"dataframe\">\n",
       "  <thead>\n",
       "    <tr style=\"text-align: right;\">\n",
       "      <th></th>\n",
       "      <th>children</th>\n",
       "      <th>days_employed</th>\n",
       "      <th>dob_years</th>\n",
       "      <th>education</th>\n",
       "      <th>education_id</th>\n",
       "      <th>family_status</th>\n",
       "      <th>family_status_id</th>\n",
       "      <th>gender</th>\n",
       "      <th>income_type</th>\n",
       "      <th>debt</th>\n",
       "      <th>total_income</th>\n",
       "      <th>purpose</th>\n",
       "      <th>income_type_id</th>\n",
       "      <th>purpose_id</th>\n",
       "      <th>gender_id</th>\n",
       "    </tr>\n",
       "  </thead>\n",
       "  <tbody>\n",
       "    <tr>\n",
       "      <th>0</th>\n",
       "      <td>1</td>\n",
       "      <td>-8437.673028</td>\n",
       "      <td>42</td>\n",
       "      <td>bachelor's degree</td>\n",
       "      <td>0</td>\n",
       "      <td>married</td>\n",
       "      <td>0</td>\n",
       "      <td>F</td>\n",
       "      <td>employee</td>\n",
       "      <td>False</td>\n",
       "      <td>40620</td>\n",
       "      <td>house</td>\n",
       "      <td>0</td>\n",
       "      <td>0</td>\n",
       "      <td>1</td>\n",
       "    </tr>\n",
       "    <tr>\n",
       "      <th>1</th>\n",
       "      <td>1</td>\n",
       "      <td>-4024.803754</td>\n",
       "      <td>36</td>\n",
       "      <td>secondary education</td>\n",
       "      <td>1</td>\n",
       "      <td>married</td>\n",
       "      <td>0</td>\n",
       "      <td>F</td>\n",
       "      <td>employee</td>\n",
       "      <td>False</td>\n",
       "      <td>17932</td>\n",
       "      <td>car</td>\n",
       "      <td>0</td>\n",
       "      <td>1</td>\n",
       "      <td>1</td>\n",
       "    </tr>\n",
       "    <tr>\n",
       "      <th>2</th>\n",
       "      <td>0</td>\n",
       "      <td>-5623.422610</td>\n",
       "      <td>33</td>\n",
       "      <td>secondary education</td>\n",
       "      <td>1</td>\n",
       "      <td>married</td>\n",
       "      <td>0</td>\n",
       "      <td>M</td>\n",
       "      <td>employee</td>\n",
       "      <td>False</td>\n",
       "      <td>23341</td>\n",
       "      <td>house</td>\n",
       "      <td>0</td>\n",
       "      <td>0</td>\n",
       "      <td>0</td>\n",
       "    </tr>\n",
       "    <tr>\n",
       "      <th>3</th>\n",
       "      <td>3</td>\n",
       "      <td>-4124.747207</td>\n",
       "      <td>32</td>\n",
       "      <td>secondary education</td>\n",
       "      <td>1</td>\n",
       "      <td>married</td>\n",
       "      <td>0</td>\n",
       "      <td>M</td>\n",
       "      <td>employee</td>\n",
       "      <td>False</td>\n",
       "      <td>42820</td>\n",
       "      <td>education</td>\n",
       "      <td>0</td>\n",
       "      <td>2</td>\n",
       "      <td>0</td>\n",
       "    </tr>\n",
       "    <tr>\n",
       "      <th>4</th>\n",
       "      <td>0</td>\n",
       "      <td>340266.072047</td>\n",
       "      <td>53</td>\n",
       "      <td>secondary education</td>\n",
       "      <td>1</td>\n",
       "      <td>civil partnership</td>\n",
       "      <td>1</td>\n",
       "      <td>F</td>\n",
       "      <td>retiree</td>\n",
       "      <td>False</td>\n",
       "      <td>25378</td>\n",
       "      <td>wedding</td>\n",
       "      <td>1</td>\n",
       "      <td>3</td>\n",
       "      <td>1</td>\n",
       "    </tr>\n",
       "  </tbody>\n",
       "</table>\n",
       "</div>"
      ],
      "text/plain": [
       "   children  days_employed  dob_years            education  education_id  \\\n",
       "0         1   -8437.673028         42    bachelor's degree             0   \n",
       "1         1   -4024.803754         36  secondary education             1   \n",
       "2         0   -5623.422610         33  secondary education             1   \n",
       "3         3   -4124.747207         32  secondary education             1   \n",
       "4         0  340266.072047         53  secondary education             1   \n",
       "\n",
       "       family_status  family_status_id gender income_type   debt  \\\n",
       "0            married                 0      F    employee  False   \n",
       "1            married                 0      F    employee  False   \n",
       "2            married                 0      M    employee  False   \n",
       "3            married                 0      M    employee  False   \n",
       "4  civil partnership                 1      F     retiree  False   \n",
       "\n",
       "   total_income    purpose  income_type_id  purpose_id  gender_id  \n",
       "0         40620      house               0           0          1  \n",
       "1         17932        car               0           1          1  \n",
       "2         23341      house               0           0          0  \n",
       "3         42820  education               0           2          0  \n",
       "4         25378    wedding               1           3          1  "
      ]
     },
     "execution_count": 228,
     "metadata": {},
     "output_type": "execute_result"
    }
   ],
   "source": [
    "credit_score.head()"
   ]
  },
  {
   "cell_type": "code",
   "execution_count": 229,
   "metadata": {},
   "outputs": [],
   "source": [
    "cols = ['income_type', 'gender', 'purpose', 'education', 'family_status']\n",
    "credit_score = credit_score.drop([col for col in cols if col in credit_score.columns], axis=1)"
   ]
  },
  {
   "cell_type": "code",
   "execution_count": 230,
   "metadata": {},
   "outputs": [
    {
     "data": {
      "text/html": [
       "<div>\n",
       "<style scoped>\n",
       "    .dataframe tbody tr th:only-of-type {\n",
       "        vertical-align: middle;\n",
       "    }\n",
       "\n",
       "    .dataframe tbody tr th {\n",
       "        vertical-align: top;\n",
       "    }\n",
       "\n",
       "    .dataframe thead th {\n",
       "        text-align: right;\n",
       "    }\n",
       "</style>\n",
       "<table border=\"1\" class=\"dataframe\">\n",
       "  <thead>\n",
       "    <tr style=\"text-align: right;\">\n",
       "      <th></th>\n",
       "      <th>children</th>\n",
       "      <th>days_employed</th>\n",
       "      <th>dob_years</th>\n",
       "      <th>education_id</th>\n",
       "      <th>family_status_id</th>\n",
       "      <th>debt</th>\n",
       "      <th>total_income</th>\n",
       "      <th>income_type_id</th>\n",
       "      <th>purpose_id</th>\n",
       "      <th>gender_id</th>\n",
       "    </tr>\n",
       "  </thead>\n",
       "  <tbody>\n",
       "    <tr>\n",
       "      <th>0</th>\n",
       "      <td>1</td>\n",
       "      <td>-8437.673028</td>\n",
       "      <td>42</td>\n",
       "      <td>0</td>\n",
       "      <td>0</td>\n",
       "      <td>False</td>\n",
       "      <td>40620</td>\n",
       "      <td>0</td>\n",
       "      <td>0</td>\n",
       "      <td>1</td>\n",
       "    </tr>\n",
       "    <tr>\n",
       "      <th>1</th>\n",
       "      <td>1</td>\n",
       "      <td>-4024.803754</td>\n",
       "      <td>36</td>\n",
       "      <td>1</td>\n",
       "      <td>0</td>\n",
       "      <td>False</td>\n",
       "      <td>17932</td>\n",
       "      <td>0</td>\n",
       "      <td>1</td>\n",
       "      <td>1</td>\n",
       "    </tr>\n",
       "    <tr>\n",
       "      <th>2</th>\n",
       "      <td>0</td>\n",
       "      <td>-5623.422610</td>\n",
       "      <td>33</td>\n",
       "      <td>1</td>\n",
       "      <td>0</td>\n",
       "      <td>False</td>\n",
       "      <td>23341</td>\n",
       "      <td>0</td>\n",
       "      <td>0</td>\n",
       "      <td>0</td>\n",
       "    </tr>\n",
       "    <tr>\n",
       "      <th>3</th>\n",
       "      <td>3</td>\n",
       "      <td>-4124.747207</td>\n",
       "      <td>32</td>\n",
       "      <td>1</td>\n",
       "      <td>0</td>\n",
       "      <td>False</td>\n",
       "      <td>42820</td>\n",
       "      <td>0</td>\n",
       "      <td>2</td>\n",
       "      <td>0</td>\n",
       "    </tr>\n",
       "    <tr>\n",
       "      <th>4</th>\n",
       "      <td>0</td>\n",
       "      <td>340266.072047</td>\n",
       "      <td>53</td>\n",
       "      <td>1</td>\n",
       "      <td>1</td>\n",
       "      <td>False</td>\n",
       "      <td>25378</td>\n",
       "      <td>1</td>\n",
       "      <td>3</td>\n",
       "      <td>1</td>\n",
       "    </tr>\n",
       "  </tbody>\n",
       "</table>\n",
       "</div>"
      ],
      "text/plain": [
       "   children  days_employed  dob_years  education_id  family_status_id   debt  \\\n",
       "0         1   -8437.673028         42             0                 0  False   \n",
       "1         1   -4024.803754         36             1                 0  False   \n",
       "2         0   -5623.422610         33             1                 0  False   \n",
       "3         3   -4124.747207         32             1                 0  False   \n",
       "4         0  340266.072047         53             1                 1  False   \n",
       "\n",
       "   total_income  income_type_id  purpose_id  gender_id  \n",
       "0         40620               0           0          1  \n",
       "1         17932               0           1          1  \n",
       "2         23341               0           0          0  \n",
       "3         42820               0           2          0  \n",
       "4         25378               1           3          1  "
      ]
     },
     "execution_count": 230,
     "metadata": {},
     "output_type": "execute_result"
    }
   ],
   "source": [
    "credit_score.head(5)"
   ]
  },
  {
   "cell_type": "code",
   "execution_count": 231,
   "metadata": {},
   "outputs": [
    {
     "data": {
      "text/plain": [
       "count     21119.000000\n",
       "mean      26501.460438\n",
       "std       15801.269361\n",
       "min        3306.000000\n",
       "25%       17121.000000\n",
       "50%       22815.000000\n",
       "75%       31446.500000\n",
       "max      362496.000000\n",
       "Name: total_income, dtype: float64"
      ]
     },
     "execution_count": 231,
     "metadata": {},
     "output_type": "execute_result"
    }
   ],
   "source": [
    "credit_score['total_income'].describe()"
   ]
  },
  {
   "cell_type": "markdown",
   "metadata": {},
   "source": [
    "Let us create scatter plots for total_income versus income_type_id and purpose_id."
   ]
  },
  {
   "cell_type": "code",
   "execution_count": 280,
   "metadata": {},
   "outputs": [
    {
     "data": {
      "image/png": "[encoded data removed]",
      "text/plain": [
       "<Figure size 432x288 with 2 Axes>"
      ]
     },
     "metadata": {
      "needs_background": "light"
     },
     "output_type": "display_data"
    }
   ],
   "source": [
    "plot_1 = credit_score.plot.scatter(x='income_type_id', y='total_income', c= 'total_income', title='Total income versus Income type', colormap='magma', sharex=False)"
   ]
  },
  {
   "cell_type": "code",
   "execution_count": 281,
   "metadata": {},
   "outputs": [
    {
     "data": {
      "image/png": "[encoded data removed]",
      "text/plain": [
       "<Figure size 432x288 with 2 Axes>"
      ]
     },
     "metadata": {
      "needs_background": "light"
     },
     "output_type": "display_data"
    }
   ],
   "source": [
    "plot_2 = credit_score.plot.scatter(x='purpose_id', y='total_income', c= 'total_income', title='Total income versus Purpose', colormap='viridis', sharex=False)"
   ]
  },
  {
   "cell_type": "markdown",
   "metadata": {},
   "source": [
    "<div class=\"alert alert-warning\">\n",
    "<b>Reviewer's comment</b>\n",
    "<p>Whenever you make any plots, make sure that all axes are labeled!</p>\n",
    "</div>"
   ]
  },
  {
   "cell_type": "code",
   "execution_count": 233,
   "metadata": {
    "scrolled": true
   },
   "outputs": [
    {
     "data": {
      "text/html": [
       "<div>\n",
       "<style scoped>\n",
       "    .dataframe tbody tr th:only-of-type {\n",
       "        vertical-align: middle;\n",
       "    }\n",
       "\n",
       "    .dataframe tbody tr th {\n",
       "        vertical-align: top;\n",
       "    }\n",
       "\n",
       "    .dataframe thead th {\n",
       "        text-align: right;\n",
       "    }\n",
       "</style>\n",
       "<table border=\"1\" class=\"dataframe\">\n",
       "  <thead>\n",
       "    <tr style=\"text-align: right;\">\n",
       "      <th></th>\n",
       "      <th>dob_years</th>\n",
       "      <th>total_income</th>\n",
       "      <th>children</th>\n",
       "    </tr>\n",
       "  </thead>\n",
       "  <tbody>\n",
       "    <tr>\n",
       "      <th>count</th>\n",
       "      <td>21119.000000</td>\n",
       "      <td>21119.000000</td>\n",
       "      <td>21119.000000</td>\n",
       "    </tr>\n",
       "    <tr>\n",
       "      <th>mean</th>\n",
       "      <td>43.430371</td>\n",
       "      <td>26501.460438</td>\n",
       "      <td>0.483214</td>\n",
       "    </tr>\n",
       "    <tr>\n",
       "      <th>std</th>\n",
       "      <td>12.241550</td>\n",
       "      <td>15801.269361</td>\n",
       "      <td>0.757567</td>\n",
       "    </tr>\n",
       "    <tr>\n",
       "      <th>min</th>\n",
       "      <td>19.000000</td>\n",
       "      <td>3306.000000</td>\n",
       "      <td>0.000000</td>\n",
       "    </tr>\n",
       "    <tr>\n",
       "      <th>25%</th>\n",
       "      <td>33.000000</td>\n",
       "      <td>17121.000000</td>\n",
       "      <td>0.000000</td>\n",
       "    </tr>\n",
       "    <tr>\n",
       "      <th>50%</th>\n",
       "      <td>42.000000</td>\n",
       "      <td>22815.000000</td>\n",
       "      <td>0.000000</td>\n",
       "    </tr>\n",
       "    <tr>\n",
       "      <th>75%</th>\n",
       "      <td>53.000000</td>\n",
       "      <td>31446.500000</td>\n",
       "      <td>1.000000</td>\n",
       "    </tr>\n",
       "    <tr>\n",
       "      <th>max</th>\n",
       "      <td>75.000000</td>\n",
       "      <td>362496.000000</td>\n",
       "      <td>5.000000</td>\n",
       "    </tr>\n",
       "  </tbody>\n",
       "</table>\n",
       "</div>"
      ],
      "text/plain": [
       "          dob_years   total_income      children\n",
       "count  21119.000000   21119.000000  21119.000000\n",
       "mean      43.430371   26501.460438      0.483214\n",
       "std       12.241550   15801.269361      0.757567\n",
       "min       19.000000    3306.000000      0.000000\n",
       "25%       33.000000   17121.000000      0.000000\n",
       "50%       42.000000   22815.000000      0.000000\n",
       "75%       53.000000   31446.500000      1.000000\n",
       "max       75.000000  362496.000000      5.000000"
      ]
     },
     "execution_count": 233,
     "metadata": {},
     "output_type": "execute_result"
    }
   ],
   "source": [
    "credit_score[['dob_years', 'total_income', 'children']].describe()"
   ]
  },
  {
   "cell_type": "markdown",
   "metadata": {},
   "source": [
    "Next, we categorize the 'dob_years', 'total_income' and 'children' columns."
   ]
  },
  {
   "cell_type": "code",
   "execution_count": 282,
   "metadata": {
    "collapsed": true
   },
   "outputs": [],
   "source": [
    "def category_total_income(total_income):\n",
    "    if total_income < 75000:\n",
    "        return 0\n",
    "    elif 75000 <= total_income < 120000:\n",
    "        return 1\n",
    "    elif 120000 <= total_income < 150000:\n",
    "        return 2\n",
    "    elif 150000 <= total_income < 200000:\n",
    "        return 3\n",
    "    else:\n",
    "        return 4\n",
    "    \n",
    "def category_children(children):\n",
    "    if children < 1:\n",
    "        return 0\n",
    "    elif 1 <= children < 3:\n",
    "        return 1\n",
    "    else:\n",
    "        return 2\n",
    "\n",
    "def category_dob_years(dob_years):\n",
    "    if dob_years < 35:\n",
    "        return 0\n",
    "    elif 35 <= dob_years < 45:\n",
    "        return 1\n",
    "    else:\n",
    "        return 2"
   ]
  },
  {
   "cell_type": "markdown",
   "metadata": {},
   "source": [
    "<div class=\"alert alert-warning\">\n",
    "<b>Reviewer's comment</b>\n",
    "<p>For the categories by income, I usually suggest to motivate the choice of category thresholds, or, ideally, extract them from data (for example, using quantiles). It is up to you if you want to fix it here, but keep in mind in the future projects that if you really want to hard-code any specific values, it should be well motivated.</p>\n",
    "</div>"
   ]
  },
  {
   "cell_type": "markdown",
   "metadata": {},
   "source": [
    "<div class=\"alert alert-info\">\n",
    "<b>Student's comment</b>\n",
    "<p>I understand what you are saying. I did think about using quantiles to categorize the incomes. But I couldn't decide whether to use quartiles or any other random quantiles. How do we make that decision?</p>\n",
    "</div>"
   ]
  },
  {
   "cell_type": "markdown",
   "metadata": {},
   "source": [
    "<div class=\"alert alert-success\">\n",
    "<b>Reviewer's comment - V2</b>\n",
    "<p>I think this will always depend on the particular problem and particular dataset. But in general you need to make sure that all categories have reasonable number of data points, otherwise comparing them will be inconvenient.</p>\n",
    "</div>"
   ]
  },
  {
   "cell_type": "code",
   "execution_count": 287,
   "metadata": {
    "scrolled": true
   },
   "outputs": [
    {
     "data": {
      "text/html": [
       "<div>\n",
       "<style scoped>\n",
       "    .dataframe tbody tr th:only-of-type {\n",
       "        vertical-align: middle;\n",
       "    }\n",
       "\n",
       "    .dataframe tbody tr th {\n",
       "        vertical-align: top;\n",
       "    }\n",
       "\n",
       "    .dataframe thead th {\n",
       "        text-align: right;\n",
       "    }\n",
       "</style>\n",
       "<table border=\"1\" class=\"dataframe\">\n",
       "  <thead>\n",
       "    <tr style=\"text-align: right;\">\n",
       "      <th></th>\n",
       "      <th>children</th>\n",
       "      <th>days_employed</th>\n",
       "      <th>dob_years</th>\n",
       "      <th>education_id</th>\n",
       "      <th>family_status_id</th>\n",
       "      <th>debt</th>\n",
       "      <th>total_income</th>\n",
       "      <th>income_type_id</th>\n",
       "      <th>purpose_id</th>\n",
       "      <th>gender_id</th>\n",
       "      <th>children_category</th>\n",
       "      <th>total_income_category</th>\n",
       "      <th>dob_years_category</th>\n",
       "      <th>has_children</th>\n",
       "    </tr>\n",
       "  </thead>\n",
       "  <tbody>\n",
       "    <tr>\n",
       "      <th>0</th>\n",
       "      <td>1</td>\n",
       "      <td>-8437.673028</td>\n",
       "      <td>42</td>\n",
       "      <td>0</td>\n",
       "      <td>0</td>\n",
       "      <td>False</td>\n",
       "      <td>40620</td>\n",
       "      <td>0</td>\n",
       "      <td>0</td>\n",
       "      <td>1</td>\n",
       "      <td>1</td>\n",
       "      <td>0</td>\n",
       "      <td>1</td>\n",
       "      <td>1</td>\n",
       "    </tr>\n",
       "    <tr>\n",
       "      <th>1</th>\n",
       "      <td>1</td>\n",
       "      <td>-4024.803754</td>\n",
       "      <td>36</td>\n",
       "      <td>1</td>\n",
       "      <td>0</td>\n",
       "      <td>False</td>\n",
       "      <td>17932</td>\n",
       "      <td>0</td>\n",
       "      <td>1</td>\n",
       "      <td>1</td>\n",
       "      <td>1</td>\n",
       "      <td>0</td>\n",
       "      <td>1</td>\n",
       "      <td>1</td>\n",
       "    </tr>\n",
       "    <tr>\n",
       "      <th>2</th>\n",
       "      <td>0</td>\n",
       "      <td>-5623.422610</td>\n",
       "      <td>33</td>\n",
       "      <td>1</td>\n",
       "      <td>0</td>\n",
       "      <td>False</td>\n",
       "      <td>23341</td>\n",
       "      <td>0</td>\n",
       "      <td>0</td>\n",
       "      <td>0</td>\n",
       "      <td>0</td>\n",
       "      <td>0</td>\n",
       "      <td>0</td>\n",
       "      <td>0</td>\n",
       "    </tr>\n",
       "    <tr>\n",
       "      <th>3</th>\n",
       "      <td>3</td>\n",
       "      <td>-4124.747207</td>\n",
       "      <td>32</td>\n",
       "      <td>1</td>\n",
       "      <td>0</td>\n",
       "      <td>False</td>\n",
       "      <td>42820</td>\n",
       "      <td>0</td>\n",
       "      <td>2</td>\n",
       "      <td>0</td>\n",
       "      <td>2</td>\n",
       "      <td>0</td>\n",
       "      <td>0</td>\n",
       "      <td>1</td>\n",
       "    </tr>\n",
       "    <tr>\n",
       "      <th>4</th>\n",
       "      <td>0</td>\n",
       "      <td>340266.072047</td>\n",
       "      <td>53</td>\n",
       "      <td>1</td>\n",
       "      <td>1</td>\n",
       "      <td>False</td>\n",
       "      <td>25378</td>\n",
       "      <td>1</td>\n",
       "      <td>3</td>\n",
       "      <td>1</td>\n",
       "      <td>0</td>\n",
       "      <td>0</td>\n",
       "      <td>2</td>\n",
       "      <td>0</td>\n",
       "    </tr>\n",
       "  </tbody>\n",
       "</table>\n",
       "</div>"
      ],
      "text/plain": [
       "   children  days_employed  dob_years  education_id  family_status_id   debt  \\\n",
       "0         1   -8437.673028         42             0                 0  False   \n",
       "1         1   -4024.803754         36             1                 0  False   \n",
       "2         0   -5623.422610         33             1                 0  False   \n",
       "3         3   -4124.747207         32             1                 0  False   \n",
       "4         0  340266.072047         53             1                 1  False   \n",
       "\n",
       "   total_income  income_type_id  purpose_id  gender_id  children_category  \\\n",
       "0         40620               0           0          1                  1   \n",
       "1         17932               0           1          1                  1   \n",
       "2         23341               0           0          0                  0   \n",
       "3         42820               0           2          0                  2   \n",
       "4         25378               1           3          1                  0   \n",
       "\n",
       "   total_income_category  dob_years_category  has_children  \n",
       "0                      0                   1             1  \n",
       "1                      0                   1             1  \n",
       "2                      0                   0             0  \n",
       "3                      0                   0             1  \n",
       "4                      0                   2             0  "
      ]
     },
     "execution_count": 287,
     "metadata": {},
     "output_type": "execute_result"
    }
   ],
   "source": [
    "credit_score['children_category'] = credit_score['children'].apply(category_children)\n",
    "credit_score['total_income_category'] = credit_score['total_income'].apply(category_total_income)\n",
    "credit_score['dob_years_category'] = credit_score['dob_years'].apply(category_dob_years)\n",
    "\n",
    "credit_score.head(5)"
   ]
  },
  {
   "cell_type": "markdown",
   "metadata": {},
   "source": [
    "#### 2.5.1 Conclusion"
   ]
  },
  {
   "cell_type": "markdown",
   "metadata": {},
   "source": [
    "We have categorized 'dob_years', 'total_income' and the 'children' columns. Purpose, gender, family_status, education were encoded."
   ]
  },
  {
   "cell_type": "markdown",
   "metadata": {},
   "source": [
    "## 3. Study of the impact of Investigation on Loan Repayment"
   ]
  },
  {
   "cell_type": "code",
   "execution_count": 288,
   "metadata": {},
   "outputs": [
    {
     "name": "stdout",
     "output_type": "stream",
     "text": [
      "In average debt defaul rate is 8.2%\n"
     ]
    }
   ],
   "source": [
    "print('In average debt defaul rate is {:.1%}'.format(credit_score.debt.mean()))"
   ]
  },
  {
   "cell_type": "markdown",
   "metadata": {},
   "source": [
    "### 3.1 Is there a connection between having kids and repaying a loan on time?"
   ]
  },
  {
   "cell_type": "markdown",
   "metadata": {},
   "source": [
    "To answer this, we can use the children and children_category column to check default rates."
   ]
  },
  {
   "cell_type": "code",
   "execution_count": 289,
   "metadata": {},
   "outputs": [
    {
     "data": {
      "text/html": [
       "<div>\n",
       "<style scoped>\n",
       "    .dataframe tbody tr th:only-of-type {\n",
       "        vertical-align: middle;\n",
       "    }\n",
       "\n",
       "    .dataframe tbody tr th {\n",
       "        vertical-align: top;\n",
       "    }\n",
       "\n",
       "    .dataframe thead th {\n",
       "        text-align: right;\n",
       "    }\n",
       "</style>\n",
       "<table border=\"1\" class=\"dataframe\">\n",
       "  <thead>\n",
       "    <tr style=\"text-align: right;\">\n",
       "      <th></th>\n",
       "      <th>children</th>\n",
       "      <th>debt_x</th>\n",
       "      <th>0_x</th>\n",
       "      <th>debt_y</th>\n",
       "      <th>0_y</th>\n",
       "      <th>rate</th>\n",
       "    </tr>\n",
       "  </thead>\n",
       "  <tbody>\n",
       "    <tr>\n",
       "      <th>0</th>\n",
       "      <td>0</td>\n",
       "      <td>False</td>\n",
       "      <td>12775</td>\n",
       "      <td>True</td>\n",
       "      <td>1057</td>\n",
       "      <td>8.273973</td>\n",
       "    </tr>\n",
       "    <tr>\n",
       "      <th>1</th>\n",
       "      <td>1</td>\n",
       "      <td>False</td>\n",
       "      <td>4364</td>\n",
       "      <td>True</td>\n",
       "      <td>442</td>\n",
       "      <td>10.128323</td>\n",
       "    </tr>\n",
       "    <tr>\n",
       "      <th>2</th>\n",
       "      <td>2</td>\n",
       "      <td>False</td>\n",
       "      <td>1901</td>\n",
       "      <td>True</td>\n",
       "      <td>202</td>\n",
       "      <td>10.625986</td>\n",
       "    </tr>\n",
       "    <tr>\n",
       "      <th>3</th>\n",
       "      <td>3</td>\n",
       "      <td>False</td>\n",
       "      <td>301</td>\n",
       "      <td>True</td>\n",
       "      <td>27</td>\n",
       "      <td>8.970100</td>\n",
       "    </tr>\n",
       "    <tr>\n",
       "      <th>4</th>\n",
       "      <td>4</td>\n",
       "      <td>False</td>\n",
       "      <td>37</td>\n",
       "      <td>True</td>\n",
       "      <td>4</td>\n",
       "      <td>10.810811</td>\n",
       "    </tr>\n",
       "  </tbody>\n",
       "</table>\n",
       "</div>"
      ],
      "text/plain": [
       "   children  debt_x    0_x  debt_y   0_y       rate\n",
       "0         0   False  12775    True  1057   8.273973\n",
       "1         1   False   4364    True   442  10.128323\n",
       "2         2   False   1901    True   202  10.625986\n",
       "3         3   False    301    True    27   8.970100\n",
       "4         4   False     37    True     4  10.810811"
      ]
     },
     "execution_count": 289,
     "metadata": {},
     "output_type": "execute_result"
    }
   ],
   "source": [
    "credit_score['has_children'] = credit_score['children'].apply(lambda c: int(c>0))\n",
    "credit_score_children = credit_score[credit_score['debt']==0].groupby(['children','debt']).size().reset_index().merge(credit_score[credit_score['debt']==1].groupby(['children','debt']).size().reset_index(), on='children')\n",
    "credit_score_children[\"rate\"] = 100*credit_score_children[\"0_y\"]/credit_score_children[\"0_x\"]\n",
    "credit_score_children"
   ]
  },
  {
   "cell_type": "markdown",
   "metadata": {},
   "source": [
    "<div class=\"alert alert-success\">\n",
    "<b>Reviewer's comment</b>\n",
    "<p>If you want to make the column with percentages look even nicer, see example <a href=\"https://stackoverflow.com/questions/54110289/pandas-dataframe-column-of-floats-to-percentage-style-error\"> here</a>. </p>\n",
    "</div>"
   ]
  },
  {
   "cell_type": "code",
   "execution_count": 290,
   "metadata": {},
   "outputs": [
    {
     "data": {
      "text/html": [
       "<div>\n",
       "<style scoped>\n",
       "    .dataframe tbody tr th:only-of-type {\n",
       "        vertical-align: middle;\n",
       "    }\n",
       "\n",
       "    .dataframe tbody tr th {\n",
       "        vertical-align: top;\n",
       "    }\n",
       "\n",
       "    .dataframe thead th {\n",
       "        text-align: right;\n",
       "    }\n",
       "</style>\n",
       "<table border=\"1\" class=\"dataframe\">\n",
       "  <thead>\n",
       "    <tr style=\"text-align: right;\">\n",
       "      <th></th>\n",
       "      <th>children_category</th>\n",
       "      <th>debt_x</th>\n",
       "      <th>0_x</th>\n",
       "      <th>debt_y</th>\n",
       "      <th>0_y</th>\n",
       "      <th>rate</th>\n",
       "    </tr>\n",
       "  </thead>\n",
       "  <tbody>\n",
       "    <tr>\n",
       "      <th>0</th>\n",
       "      <td>0</td>\n",
       "      <td>False</td>\n",
       "      <td>12775</td>\n",
       "      <td>True</td>\n",
       "      <td>1057</td>\n",
       "      <td>8.273973</td>\n",
       "    </tr>\n",
       "    <tr>\n",
       "      <th>1</th>\n",
       "      <td>1</td>\n",
       "      <td>False</td>\n",
       "      <td>6265</td>\n",
       "      <td>True</td>\n",
       "      <td>644</td>\n",
       "      <td>10.279330</td>\n",
       "    </tr>\n",
       "    <tr>\n",
       "      <th>2</th>\n",
       "      <td>2</td>\n",
       "      <td>False</td>\n",
       "      <td>347</td>\n",
       "      <td>True</td>\n",
       "      <td>31</td>\n",
       "      <td>8.933718</td>\n",
       "    </tr>\n",
       "  </tbody>\n",
       "</table>\n",
       "</div>"
      ],
      "text/plain": [
       "   children_category  debt_x    0_x  debt_y   0_y       rate\n",
       "0                  0   False  12775    True  1057   8.273973\n",
       "1                  1   False   6265    True   644  10.279330\n",
       "2                  2   False    347    True    31   8.933718"
      ]
     },
     "execution_count": 290,
     "metadata": {},
     "output_type": "execute_result"
    }
   ],
   "source": [
    "credit_score_children = credit_score[credit_score['debt']==0].groupby(['children_category','debt']).size().reset_index().merge(credit_score[credit_score['debt']==1].groupby(['children_category','debt']).size().reset_index(), on='children_category')\n",
    "credit_score_children[\"rate\"] = 100*credit_score_children[\"0_y\"]/credit_score_children[\"0_x\"]\n",
    "credit_score_children"
   ]
  },
  {
   "cell_type": "code",
   "execution_count": 291,
   "metadata": {},
   "outputs": [
    {
     "data": {
      "image/png": "[encoded data removed]",
      "text/plain": [
       "<Figure size 432x288 with 1 Axes>"
      ]
     },
     "metadata": {
      "needs_background": "light"
     },
     "output_type": "display_data"
    }
   ],
   "source": [
    "plt.scatter(credit_score['debt'], credit_score['children'])\n",
    "plt.show()"
   ]
  },
  {
   "cell_type": "markdown",
   "metadata": {},
   "source": [
    "As we see, there is a difference between borrowers having kids and repaying a loan on time as compared to those that do not have children. But it's not like that in relative figures, because we see an equal distribution."
   ]
  },
  {
   "cell_type": "markdown",
   "metadata": {},
   "source": [
    "Let us check Spearman's correlation."
   ]
  },
  {
   "cell_type": "code",
   "execution_count": 292,
   "metadata": {},
   "outputs": [
    {
     "data": {
      "text/html": [
       "<div>\n",
       "<style scoped>\n",
       "    .dataframe tbody tr th:only-of-type {\n",
       "        vertical-align: middle;\n",
       "    }\n",
       "\n",
       "    .dataframe tbody tr th {\n",
       "        vertical-align: top;\n",
       "    }\n",
       "\n",
       "    .dataframe thead th {\n",
       "        text-align: right;\n",
       "    }\n",
       "</style>\n",
       "<table border=\"1\" class=\"dataframe\">\n",
       "  <thead>\n",
       "    <tr style=\"text-align: right;\">\n",
       "      <th></th>\n",
       "      <th>children_category</th>\n",
       "      <th>debt</th>\n",
       "    </tr>\n",
       "  </thead>\n",
       "  <tbody>\n",
       "    <tr>\n",
       "      <th>children_category</th>\n",
       "      <td>1.000000</td>\n",
       "      <td>0.027466</td>\n",
       "    </tr>\n",
       "    <tr>\n",
       "      <th>debt</th>\n",
       "      <td>0.027466</td>\n",
       "      <td>1.000000</td>\n",
       "    </tr>\n",
       "  </tbody>\n",
       "</table>\n",
       "</div>"
      ],
      "text/plain": [
       "                   children_category      debt\n",
       "children_category           1.000000  0.027466\n",
       "debt                        0.027466  1.000000"
      ]
     },
     "execution_count": 292,
     "metadata": {},
     "output_type": "execute_result"
    }
   ],
   "source": [
    "credit_score[['children_category', 'debt']].corr(method='spearman')"
   ]
  },
  {
   "cell_type": "code",
   "execution_count": 293,
   "metadata": {},
   "outputs": [
    {
     "data": {
      "text/html": [
       "<div>\n",
       "<style scoped>\n",
       "    .dataframe tbody tr th:only-of-type {\n",
       "        vertical-align: middle;\n",
       "    }\n",
       "\n",
       "    .dataframe tbody tr th {\n",
       "        vertical-align: top;\n",
       "    }\n",
       "\n",
       "    .dataframe thead th {\n",
       "        text-align: right;\n",
       "    }\n",
       "</style>\n",
       "<table border=\"1\" class=\"dataframe\">\n",
       "  <thead>\n",
       "    <tr style=\"text-align: right;\">\n",
       "      <th></th>\n",
       "      <th>children</th>\n",
       "      <th>debt</th>\n",
       "    </tr>\n",
       "  </thead>\n",
       "  <tbody>\n",
       "    <tr>\n",
       "      <th>children</th>\n",
       "      <td>1.000000</td>\n",
       "      <td>0.027724</td>\n",
       "    </tr>\n",
       "    <tr>\n",
       "      <th>debt</th>\n",
       "      <td>0.027724</td>\n",
       "      <td>1.000000</td>\n",
       "    </tr>\n",
       "  </tbody>\n",
       "</table>\n",
       "</div>"
      ],
      "text/plain": [
       "          children      debt\n",
       "children  1.000000  0.027724\n",
       "debt      0.027724  1.000000"
      ]
     },
     "execution_count": 293,
     "metadata": {},
     "output_type": "execute_result"
    }
   ],
   "source": [
    "credit_score[['children', 'debt']].corr(method='spearman')"
   ]
  },
  {
   "cell_type": "markdown",
   "metadata": {},
   "source": [
    "A relation between having kids and repaying a loan on time is weak. People without kids show marginally less problems with repaying a loan on time."
   ]
  },
  {
   "cell_type": "markdown",
   "metadata": {},
   "source": [
    "### 3.2 Is there a connection between marital status and repaying a loan on time?"
   ]
  },
  {
   "cell_type": "code",
   "execution_count": 294,
   "metadata": {
    "scrolled": true
   },
   "outputs": [
    {
     "data": {
      "text/html": [
       "<div>\n",
       "<style scoped>\n",
       "    .dataframe tbody tr th:only-of-type {\n",
       "        vertical-align: middle;\n",
       "    }\n",
       "\n",
       "    .dataframe tbody tr th {\n",
       "        vertical-align: top;\n",
       "    }\n",
       "\n",
       "    .dataframe thead th {\n",
       "        text-align: right;\n",
       "    }\n",
       "</style>\n",
       "<table border=\"1\" class=\"dataframe\">\n",
       "  <thead>\n",
       "    <tr style=\"text-align: right;\">\n",
       "      <th></th>\n",
       "      <th>family_status_id</th>\n",
       "      <th>debt_x</th>\n",
       "      <th>0_x</th>\n",
       "      <th>debt_y</th>\n",
       "      <th>0_y</th>\n",
       "      <th>rate</th>\n",
       "      <th>family_status</th>\n",
       "    </tr>\n",
       "  </thead>\n",
       "  <tbody>\n",
       "    <tr>\n",
       "      <th>0</th>\n",
       "      <td>0</td>\n",
       "      <td>False</td>\n",
       "      <td>11180</td>\n",
       "      <td>True</td>\n",
       "      <td>926</td>\n",
       "      <td>8.282648</td>\n",
       "      <td>married</td>\n",
       "    </tr>\n",
       "    <tr>\n",
       "      <th>1</th>\n",
       "      <td>1</td>\n",
       "      <td>False</td>\n",
       "      <td>3720</td>\n",
       "      <td>True</td>\n",
       "      <td>386</td>\n",
       "      <td>10.376344</td>\n",
       "      <td>civil partnership</td>\n",
       "    </tr>\n",
       "    <tr>\n",
       "      <th>2</th>\n",
       "      <td>2</td>\n",
       "      <td>False</td>\n",
       "      <td>885</td>\n",
       "      <td>True</td>\n",
       "      <td>62</td>\n",
       "      <td>7.005650</td>\n",
       "      <td>widow / widower</td>\n",
       "    </tr>\n",
       "    <tr>\n",
       "      <th>3</th>\n",
       "      <td>3</td>\n",
       "      <td>False</td>\n",
       "      <td>1099</td>\n",
       "      <td>True</td>\n",
       "      <td>85</td>\n",
       "      <td>7.734304</td>\n",
       "      <td>divorced</td>\n",
       "    </tr>\n",
       "    <tr>\n",
       "      <th>4</th>\n",
       "      <td>4</td>\n",
       "      <td>False</td>\n",
       "      <td>2503</td>\n",
       "      <td>True</td>\n",
       "      <td>273</td>\n",
       "      <td>10.906912</td>\n",
       "      <td>unmarried</td>\n",
       "    </tr>\n",
       "  </tbody>\n",
       "</table>\n",
       "</div>"
      ],
      "text/plain": [
       "   family_status_id  debt_x    0_x  debt_y  0_y       rate      family_status\n",
       "0                 0   False  11180    True  926   8.282648            married\n",
       "1                 1   False   3720    True  386  10.376344  civil partnership\n",
       "2                 2   False    885    True   62   7.005650    widow / widower\n",
       "3                 3   False   1099    True   85   7.734304           divorced\n",
       "4                 4   False   2503    True  273  10.906912          unmarried"
      ]
     },
     "execution_count": 294,
     "metadata": {},
     "output_type": "execute_result"
    }
   ],
   "source": [
    "credit_score_family = credit_score[credit_score['debt']==0].groupby(['family_status_id','debt']).size().reset_index().merge(credit_score[credit_score['debt']==1].groupby(['family_status_id','debt']).size().reset_index(), on='family_status_id')\n",
    "credit_score_family[\"rate\"] = 100*credit_score_family[\"0_y\"]/credit_score_family[\"0_x\"]\n",
    "credit_score_family[\"family_status\"] = credit_score_family[\"family_status_id\"].map(map_family_status)\n",
    "credit_score_family"
   ]
  },
  {
   "cell_type": "markdown",
   "metadata": {},
   "source": [
    "<div class=\"alert alert-danger\">\n",
    "<b>Reviewer's comment</b>\n",
    "<p>I guess some cells or lines of code are missing earlier?</p>\n",
    "</div>"
   ]
  },
  {
   "cell_type": "markdown",
   "metadata": {},
   "source": [
    "<div class=\"alert alert-info\">\n",
    "<b>Student's comment</b>\n",
    "<p>I removed the mapping of the 'family_status' in the code above after I completed this section, because I decided to use the 'family_status_id' which was already encoded. But I forgot that I used that very map in this section.</p>\n",
    "</div>"
   ]
  },
  {
   "cell_type": "markdown",
   "metadata": {},
   "source": [
    "<div class=\"alert alert-success\">\n",
    "<b>Reviewer's comment</b>\n",
    "<p>Thanks for fixing, now everything is in place.</p>\n",
    "</div>"
   ]
  },
  {
   "cell_type": "code",
   "execution_count": 295,
   "metadata": {},
   "outputs": [
    {
     "data": {
      "text/html": [
       "<div>\n",
       "<style scoped>\n",
       "    .dataframe tbody tr th:only-of-type {\n",
       "        vertical-align: middle;\n",
       "    }\n",
       "\n",
       "    .dataframe tbody tr th {\n",
       "        vertical-align: top;\n",
       "    }\n",
       "\n",
       "    .dataframe thead th {\n",
       "        text-align: right;\n",
       "    }\n",
       "</style>\n",
       "<table border=\"1\" class=\"dataframe\">\n",
       "  <thead>\n",
       "    <tr style=\"text-align: right;\">\n",
       "      <th></th>\n",
       "      <th>family_status_id</th>\n",
       "      <th>debt</th>\n",
       "    </tr>\n",
       "  </thead>\n",
       "  <tbody>\n",
       "    <tr>\n",
       "      <th>family_status_id</th>\n",
       "      <td>1.000000</td>\n",
       "      <td>0.022486</td>\n",
       "    </tr>\n",
       "    <tr>\n",
       "      <th>debt</th>\n",
       "      <td>0.022486</td>\n",
       "      <td>1.000000</td>\n",
       "    </tr>\n",
       "  </tbody>\n",
       "</table>\n",
       "</div>"
      ],
      "text/plain": [
       "                  family_status_id      debt\n",
       "family_status_id          1.000000  0.022486\n",
       "debt                      0.022486  1.000000"
      ]
     },
     "execution_count": 295,
     "metadata": {},
     "output_type": "execute_result"
    }
   ],
   "source": [
    "credit_score[['family_status_id', 'debt']].corr(method='spearman')"
   ]
  },
  {
   "cell_type": "markdown",
   "metadata": {},
   "source": [
    "We see a same picture as before. There is weak relation. It does look like widow / widower and divorced groups have marginally good figures."
   ]
  },
  {
   "cell_type": "markdown",
   "metadata": {},
   "source": [
    "### 3.3 Is there a relation between income level and repaying a loan on time?"
   ]
  },
  {
   "cell_type": "code",
   "execution_count": 296,
   "metadata": {
    "scrolled": true
   },
   "outputs": [
    {
     "data": {
      "text/html": [
       "<div>\n",
       "<style scoped>\n",
       "    .dataframe tbody tr th:only-of-type {\n",
       "        vertical-align: middle;\n",
       "    }\n",
       "\n",
       "    .dataframe tbody tr th {\n",
       "        vertical-align: top;\n",
       "    }\n",
       "\n",
       "    .dataframe thead th {\n",
       "        text-align: right;\n",
       "    }\n",
       "</style>\n",
       "<table border=\"1\" class=\"dataframe\">\n",
       "  <thead>\n",
       "    <tr style=\"text-align: right;\">\n",
       "      <th></th>\n",
       "      <th>total_income_category</th>\n",
       "      <th>debt_x</th>\n",
       "      <th>0_x</th>\n",
       "      <th>debt_y</th>\n",
       "      <th>0_y</th>\n",
       "      <th>rate</th>\n",
       "      <th>total_income_title</th>\n",
       "    </tr>\n",
       "  </thead>\n",
       "  <tbody>\n",
       "    <tr>\n",
       "      <th>0</th>\n",
       "      <td>0</td>\n",
       "      <td>False</td>\n",
       "      <td>19115</td>\n",
       "      <td>True</td>\n",
       "      <td>1716</td>\n",
       "      <td>8.977243</td>\n",
       "      <td>&lt;75000</td>\n",
       "    </tr>\n",
       "    <tr>\n",
       "      <th>1</th>\n",
       "      <td>1</td>\n",
       "      <td>False</td>\n",
       "      <td>227</td>\n",
       "      <td>True</td>\n",
       "      <td>12</td>\n",
       "      <td>5.286344</td>\n",
       "      <td>[75000, 120000)</td>\n",
       "    </tr>\n",
       "    <tr>\n",
       "      <th>2</th>\n",
       "      <td>2</td>\n",
       "      <td>False</td>\n",
       "      <td>19</td>\n",
       "      <td>True</td>\n",
       "      <td>2</td>\n",
       "      <td>10.526316</td>\n",
       "      <td>[120000, 150000)</td>\n",
       "    </tr>\n",
       "    <tr>\n",
       "      <th>3</th>\n",
       "      <td>3</td>\n",
       "      <td>False</td>\n",
       "      <td>16</td>\n",
       "      <td>True</td>\n",
       "      <td>1</td>\n",
       "      <td>6.250000</td>\n",
       "      <td>[150000,200000)</td>\n",
       "    </tr>\n",
       "    <tr>\n",
       "      <th>4</th>\n",
       "      <td>4</td>\n",
       "      <td>False</td>\n",
       "      <td>10</td>\n",
       "      <td>True</td>\n",
       "      <td>1</td>\n",
       "      <td>10.000000</td>\n",
       "      <td>&gt;=200000</td>\n",
       "    </tr>\n",
       "  </tbody>\n",
       "</table>\n",
       "</div>"
      ],
      "text/plain": [
       "   total_income_category  debt_x    0_x  debt_y   0_y       rate  \\\n",
       "0                      0   False  19115    True  1716   8.977243   \n",
       "1                      1   False    227    True    12   5.286344   \n",
       "2                      2   False     19    True     2  10.526316   \n",
       "3                      3   False     16    True     1   6.250000   \n",
       "4                      4   False     10    True     1  10.000000   \n",
       "\n",
       "  total_income_title  \n",
       "0             <75000  \n",
       "1    [75000, 120000)  \n",
       "2   [120000, 150000)  \n",
       "3    [150000,200000)  \n",
       "4           >=200000  "
      ]
     },
     "execution_count": 296,
     "metadata": {},
     "output_type": "execute_result"
    }
   ],
   "source": [
    "map_total_income = {0:'<75000', 1:'[75000, 120000)',2:'[120000, 150000)',3:'[150000,200000)',4:'>=200000'}\n",
    "credit_score_income = credit_score[credit_score['debt']==0].groupby(['total_income_category','debt']).size().reset_index().merge(credit_score[credit_score['debt']==1].groupby(['total_income_category','debt']).size().reset_index(), on='total_income_category')\n",
    "credit_score_income[\"rate\"] = 100*credit_score_income[\"0_y\"]/credit_score_income[\"0_x\"]\n",
    "credit_score_income[\"total_income_title\"] = credit_score_income[\"total_income_category\"].map(map_total_income)\n",
    "credit_score_income"
   ]
  },
  {
   "cell_type": "code",
   "execution_count": 297,
   "metadata": {},
   "outputs": [
    {
     "data": {
      "text/html": [
       "<div>\n",
       "<style scoped>\n",
       "    .dataframe tbody tr th:only-of-type {\n",
       "        vertical-align: middle;\n",
       "    }\n",
       "\n",
       "    .dataframe tbody tr th {\n",
       "        vertical-align: top;\n",
       "    }\n",
       "\n",
       "    .dataframe thead th {\n",
       "        text-align: right;\n",
       "    }\n",
       "</style>\n",
       "<table border=\"1\" class=\"dataframe\">\n",
       "  <thead>\n",
       "    <tr style=\"text-align: right;\">\n",
       "      <th></th>\n",
       "      <th>total_income_category</th>\n",
       "      <th>debt</th>\n",
       "    </tr>\n",
       "  </thead>\n",
       "  <tbody>\n",
       "    <tr>\n",
       "      <th>total_income_category</th>\n",
       "      <td>1.000000</td>\n",
       "      <td>-0.011312</td>\n",
       "    </tr>\n",
       "    <tr>\n",
       "      <th>debt</th>\n",
       "      <td>-0.011312</td>\n",
       "      <td>1.000000</td>\n",
       "    </tr>\n",
       "  </tbody>\n",
       "</table>\n",
       "</div>"
      ],
      "text/plain": [
       "                       total_income_category      debt\n",
       "total_income_category               1.000000 -0.011312\n",
       "debt                               -0.011312  1.000000"
      ]
     },
     "execution_count": 297,
     "metadata": {},
     "output_type": "execute_result"
    }
   ],
   "source": [
    "credit_score[['total_income_category', 'debt']].corr(method='spearman')"
   ]
  },
  {
   "cell_type": "markdown",
   "metadata": {},
   "source": [
    "We see that there is a weak negative correlation, but it close to zero. We can also see that, clients with <75000 and >=200000 total_income have the best figures."
   ]
  },
  {
   "cell_type": "markdown",
   "metadata": {},
   "source": [
    "### 3.4 How do different loan purposes affect on-time repayment of the loan?"
   ]
  },
  {
   "cell_type": "code",
   "execution_count": 298,
   "metadata": {},
   "outputs": [
    {
     "data": {
      "text/html": [
       "<div>\n",
       "<style scoped>\n",
       "    .dataframe tbody tr th:only-of-type {\n",
       "        vertical-align: middle;\n",
       "    }\n",
       "\n",
       "    .dataframe tbody tr th {\n",
       "        vertical-align: top;\n",
       "    }\n",
       "\n",
       "    .dataframe thead th {\n",
       "        text-align: right;\n",
       "    }\n",
       "</style>\n",
       "<table border=\"1\" class=\"dataframe\">\n",
       "  <thead>\n",
       "    <tr style=\"text-align: right;\">\n",
       "      <th></th>\n",
       "      <th>purpose_id</th>\n",
       "      <th>debt_x</th>\n",
       "      <th>0_x</th>\n",
       "      <th>debt_y</th>\n",
       "      <th>0_y</th>\n",
       "      <th>rate</th>\n",
       "      <th>purpose</th>\n",
       "    </tr>\n",
       "  </thead>\n",
       "  <tbody>\n",
       "    <tr>\n",
       "      <th>0</th>\n",
       "      <td>0</td>\n",
       "      <td>False</td>\n",
       "      <td>7509</td>\n",
       "      <td>True</td>\n",
       "      <td>590</td>\n",
       "      <td>7.857238</td>\n",
       "      <td>house</td>\n",
       "    </tr>\n",
       "    <tr>\n",
       "      <th>1</th>\n",
       "      <td>1</td>\n",
       "      <td>False</td>\n",
       "      <td>3851</td>\n",
       "      <td>True</td>\n",
       "      <td>399</td>\n",
       "      <td>10.360945</td>\n",
       "      <td>car</td>\n",
       "    </tr>\n",
       "    <tr>\n",
       "      <th>2</th>\n",
       "      <td>2</td>\n",
       "      <td>False</td>\n",
       "      <td>3141</td>\n",
       "      <td>True</td>\n",
       "      <td>327</td>\n",
       "      <td>10.410697</td>\n",
       "      <td>education</td>\n",
       "    </tr>\n",
       "    <tr>\n",
       "      <th>3</th>\n",
       "      <td>3</td>\n",
       "      <td>False</td>\n",
       "      <td>2108</td>\n",
       "      <td>True</td>\n",
       "      <td>184</td>\n",
       "      <td>8.728653</td>\n",
       "      <td>wedding</td>\n",
       "    </tr>\n",
       "    <tr>\n",
       "      <th>4</th>\n",
       "      <td>4</td>\n",
       "      <td>False</td>\n",
       "      <td>2328</td>\n",
       "      <td>True</td>\n",
       "      <td>189</td>\n",
       "      <td>8.118557</td>\n",
       "      <td>property</td>\n",
       "    </tr>\n",
       "    <tr>\n",
       "      <th>5</th>\n",
       "      <td>5</td>\n",
       "      <td>False</td>\n",
       "      <td>450</td>\n",
       "      <td>True</td>\n",
       "      <td>43</td>\n",
       "      <td>9.555556</td>\n",
       "      <td>university</td>\n",
       "    </tr>\n",
       "  </tbody>\n",
       "</table>\n",
       "</div>"
      ],
      "text/plain": [
       "   purpose_id  debt_x   0_x  debt_y  0_y       rate     purpose\n",
       "0           0   False  7509    True  590   7.857238       house\n",
       "1           1   False  3851    True  399  10.360945         car\n",
       "2           2   False  3141    True  327  10.410697   education\n",
       "3           3   False  2108    True  184   8.728653     wedding\n",
       "4           4   False  2328    True  189   8.118557    property\n",
       "5           5   False   450    True   43   9.555556  university"
      ]
     },
     "execution_count": 298,
     "metadata": {},
     "output_type": "execute_result"
    }
   ],
   "source": [
    "map_purpose_reverse = {v:k for k, v in map_purpose.items()}\n",
    "credit_score_purpose = credit_score[credit_score['debt']==0].groupby(['purpose_id','debt']).size().reset_index().merge(credit_score[credit_score['debt']==1].groupby(['purpose_id','debt']).size().reset_index(), on='purpose_id')\n",
    "credit_score_purpose[\"rate\"] = 100*credit_score_purpose[\"0_y\"]/credit_score_purpose[\"0_x\"]\n",
    "credit_score_purpose[\"purpose\"] = credit_score_purpose[\"purpose_id\"].map(map_purpose_reverse)\n",
    "credit_score_purpose"
   ]
  },
  {
   "cell_type": "code",
   "execution_count": 299,
   "metadata": {
    "scrolled": true
   },
   "outputs": [
    {
     "data": {
      "text/html": [
       "<div>\n",
       "<style scoped>\n",
       "    .dataframe tbody tr th:only-of-type {\n",
       "        vertical-align: middle;\n",
       "    }\n",
       "\n",
       "    .dataframe tbody tr th {\n",
       "        vertical-align: top;\n",
       "    }\n",
       "\n",
       "    .dataframe thead th {\n",
       "        text-align: right;\n",
       "    }\n",
       "</style>\n",
       "<table border=\"1\" class=\"dataframe\">\n",
       "  <thead>\n",
       "    <tr style=\"text-align: right;\">\n",
       "      <th></th>\n",
       "      <th>purpose_id</th>\n",
       "      <th>debt</th>\n",
       "    </tr>\n",
       "  </thead>\n",
       "  <tbody>\n",
       "    <tr>\n",
       "      <th>purpose_id</th>\n",
       "      <td>1.000000</td>\n",
       "      <td>0.013629</td>\n",
       "    </tr>\n",
       "    <tr>\n",
       "      <th>debt</th>\n",
       "      <td>0.013629</td>\n",
       "      <td>1.000000</td>\n",
       "    </tr>\n",
       "  </tbody>\n",
       "</table>\n",
       "</div>"
      ],
      "text/plain": [
       "            purpose_id      debt\n",
       "purpose_id    1.000000  0.013629\n",
       "debt          0.013629  1.000000"
      ]
     },
     "execution_count": 299,
     "metadata": {},
     "output_type": "execute_result"
    }
   ],
   "source": [
    "credit_score[['purpose_id', 'debt']].corr(method='spearman')"
   ]
  },
  {
   "cell_type": "markdown",
   "metadata": {},
   "source": [
    "Once again, we see a weak relation between purpose of loan and debt. Still, we see that a majority of debtors are from 'car' and 'education' groups."
   ]
  },
  {
   "cell_type": "markdown",
   "metadata": {},
   "source": [
    "<div class=\"alert alert-warning\">\n",
    "<b>Reviewer's comment</b>\n",
    "<p>And once again, if you manage to implement this part using a function instead of copy-pasting similar lines multiple times, that would look awesome :)</p>\n",
    "</div>"
   ]
  },
  {
   "cell_type": "markdown",
   "metadata": {},
   "source": [
    "<div class=\"alert alert-info\">\n",
    "<b>Student's comment</b>\n",
    "<p>Do you mean the work of doing the spearman's correlation? It occured to me that I could use a function and call it.</p>\n",
    "</div>"
   ]
  },
  {
   "cell_type": "markdown",
   "metadata": {},
   "source": [
    "<div class=\"alert alert-success\">\n",
    "<b>Reviewer's comment - V2</b>\n",
    "<p>Answering every one of questions above contains the same sequence of commands (groupby, reset index, map, etc). That could be in a function that takes the variable name and category map as inputs and returns debt rates.</p>\n",
    "</div>"
   ]
  },
  {
   "cell_type": "markdown",
   "metadata": {},
   "source": [
    "## 4. Final Conclusion"
   ]
  },
  {
   "cell_type": "markdown",
   "metadata": {},
   "source": [
    "Before proceeding to the analysis, we preprocessed the data.\n",
    "\n",
    "A general overview of the data revealed the following:\n",
    "\n",
    "- columns with some odd and unknown values and one column with incorect data\n",
    "- columns with excess types\n",
    "- columns with null values\n",
    "- columns with case sensitive duplicated values\n",
    "- completely duplicated lines\n",
    "\n",
    "We must contact the data engineer or the survey designer, who sent the source file, about the column with incorrect values, and also to clarify other minor inaccuracies.\n",
    "\n",
    "There were missing values in the total_income column. The missing data was around 10% of the data. The total income depends on the type of employment that the bank's customer is engaged in. So that missing values in total income were filled in according to the income type. The excess types were converted to appropriate ones. The case sensitive duplicated values were fixed to lowercase. The loan purpose column was converted into a categorical column by lemmatization. Then the completely duplicated lines were dropped.\n",
    "\n",
    "To look at the relationship between having kids, marital status, income level and the loan purpose with the timely repaying a loan, the corresponding categories were created with a sufficient number of observations within them.\n",
    "\n",
    "Further, the debt default rate was considered for each group within the categories. Though the correlations between debt and the above described columns was weak, the following have been identified:\n",
    "\n",
    "- People without kids show marginally less problems with repaying a loan on time.\n",
    "- Widow / widower and divorced groups have marginally better figures for repaying a loan on time.\n",
    "- Clients with <75000 and >=200000 total_income have the best figures for repaying a loan on time.\n",
    "- Highest defaulters are from 'car' and 'education' groups of the purpose category."
   ]
  },
  {
   "cell_type": "markdown",
   "metadata": {},
   "source": [
    "<div class=\"alert alert-success\">\n",
    "<b>Reviewer's comment</b>\n",
    "<p>Nice conlcusion! I would maybe add a few numbers with specific default rates for some categories of people, and the average rate as well.\n",
    "    \n",
    "A tip for a good introduction is that this conclusion should answer the goals and questions stated in the introduction. Ask yourself - if you only read introduction and conclusion, would you be able to understand what has been achieved in the project with sufficient level of detail?</p>\n",
    "</div>"
   ]
  },
  {
   "cell_type": "code",
   "execution_count": null,
   "metadata": {},
   "outputs": [],
   "source": []
  }
 ],
 "metadata": {
  "ExecuteTimeLog": [
   {
    "duration": 937,
    "start_time": "2021-10-21T17:08:47.551Z"
   },
   {
    "duration": 348,
    "start_time": "2021-10-21T17:08:48.491Z"
   },
   {
    "duration": 17,
    "start_time": "2021-10-21T17:08:48.842Z"
   },
   {
    "duration": 44,
    "start_time": "2021-10-21T17:08:48.861Z"
   },
   {
    "duration": 90,
    "start_time": "2021-10-21T17:08:48.907Z"
   },
   {
    "duration": 22,
    "start_time": "2021-10-21T17:08:48.999Z"
   },
   {
    "duration": 8,
    "start_time": "2021-10-21T17:08:49.023Z"
   },
   {
    "duration": 50,
    "start_time": "2021-10-21T17:08:49.034Z"
   },
   {
    "duration": 64,
    "start_time": "2021-10-21T17:08:49.088Z"
   },
   {
    "duration": 28,
    "start_time": "2021-10-21T17:08:49.155Z"
   },
   {
    "duration": 14,
    "start_time": "2021-10-21T17:08:49.185Z"
   },
   {
    "duration": 6,
    "start_time": "2021-10-21T17:08:49.202Z"
   },
   {
    "duration": 5,
    "start_time": "2021-10-21T17:08:49.211Z"
   },
   {
    "duration": 21,
    "start_time": "2021-10-21T17:08:49.218Z"
   },
   {
    "duration": 52,
    "start_time": "2021-10-21T17:08:49.241Z"
   },
   {
    "duration": 10,
    "start_time": "2021-10-21T17:08:49.296Z"
   },
   {
    "duration": 85,
    "start_time": "2021-10-21T17:08:49.309Z"
   },
   {
    "duration": 23,
    "start_time": "2021-10-21T17:08:49.396Z"
   },
   {
    "duration": 10,
    "start_time": "2021-10-21T17:08:49.422Z"
   },
   {
    "duration": 1778,
    "start_time": "2021-10-21T17:08:49.435Z"
   },
   {
    "duration": 2291,
    "start_time": "2021-10-21T17:08:51.216Z"
   },
   {
    "duration": 4,
    "start_time": "2021-10-21T17:08:53.509Z"
   },
   {
    "duration": 22,
    "start_time": "2021-10-21T17:08:53.515Z"
   },
   {
    "duration": 9,
    "start_time": "2021-10-21T17:08:53.540Z"
   },
   {
    "duration": 74,
    "start_time": "2021-10-21T17:08:53.551Z"
   },
   {
    "duration": 21,
    "start_time": "2021-10-21T17:08:53.628Z"
   },
   {
    "duration": 46,
    "start_time": "2021-10-21T17:08:53.655Z"
   },
   {
    "duration": 20,
    "start_time": "2021-10-21T17:08:53.704Z"
   },
   {
    "duration": 6,
    "start_time": "2021-10-21T17:08:53.727Z"
   },
   {
    "duration": 48,
    "start_time": "2021-10-21T17:08:53.735Z"
   },
   {
    "duration": 68,
    "start_time": "2021-10-21T17:08:53.785Z"
   },
   {
    "duration": 35,
    "start_time": "2021-10-21T17:08:53.855Z"
   },
   {
    "duration": 6,
    "start_time": "2021-10-21T17:08:53.892Z"
   },
   {
    "duration": 8,
    "start_time": "2021-10-21T17:08:53.900Z"
   },
   {
    "duration": 6,
    "start_time": "2021-10-21T17:08:53.911Z"
   },
   {
    "duration": 7,
    "start_time": "2021-10-21T17:08:53.919Z"
   },
   {
    "duration": 59,
    "start_time": "2021-10-21T17:08:53.929Z"
   },
   {
    "duration": 8,
    "start_time": "2021-10-21T17:08:53.991Z"
   },
   {
    "duration": 9,
    "start_time": "2021-10-21T17:08:54.001Z"
   },
   {
    "duration": 21,
    "start_time": "2021-10-21T17:08:54.013Z"
   },
   {
    "duration": 59,
    "start_time": "2021-10-21T17:08:54.037Z"
   },
   {
    "duration": 9,
    "start_time": "2021-10-21T17:08:54.099Z"
   },
   {
    "duration": 27,
    "start_time": "2021-10-21T17:08:54.111Z"
   },
   {
    "duration": 50,
    "start_time": "2021-10-21T17:08:54.141Z"
   },
   {
    "duration": 3217,
    "start_time": "2021-10-21T17:08:54.194Z"
   },
   {
    "duration": 29,
    "start_time": "2021-10-21T17:08:57.413Z"
   },
   {
    "duration": 6,
    "start_time": "2021-10-21T17:08:57.444Z"
   },
   {
    "duration": 70,
    "start_time": "2021-10-21T17:08:57.452Z"
   },
   {
    "duration": 5,
    "start_time": "2021-10-21T17:08:57.524Z"
   },
   {
    "duration": 74,
    "start_time": "2021-10-21T17:08:57.531Z"
   },
   {
    "duration": 30,
    "start_time": "2021-10-21T17:08:57.607Z"
   },
   {
    "duration": 653,
    "start_time": "2021-10-21T17:08:57.639Z"
   },
   {
    "duration": 19,
    "start_time": "2021-10-21T17:08:58.294Z"
   },
   {
    "duration": 20,
    "start_time": "2021-10-21T17:08:58.315Z"
   },
   {
    "duration": 535,
    "start_time": "2021-10-21T17:08:58.337Z"
   },
   {
    "duration": -102,
    "start_time": "2021-10-21T17:08:58.977Z"
   },
   {
    "duration": -104,
    "start_time": "2021-10-21T17:08:58.980Z"
   },
   {
    "duration": -104,
    "start_time": "2021-10-21T17:08:58.982Z"
   },
   {
    "duration": -104,
    "start_time": "2021-10-21T17:08:58.984Z"
   },
   {
    "duration": -105,
    "start_time": "2021-10-21T17:08:58.986Z"
   }
  ],
  "kernelspec": {
   "display_name": "Python 3",
   "language": "python",
   "name": "python3"
  },
  "language_info": {
   "codemirror_mode": {
    "name": "ipython",
    "version": 3
   },
   "file_extension": ".py",
   "mimetype": "text/x-python",
   "name": "python",
   "nbconvert_exporter": "python",
   "pygments_lexer": "ipython3",
   "version": "3.7.8"
  },
  "toc": {
   "base_numbering": 1,
   "nav_menu": {},
   "number_sections": true,
   "sideBar": true,
   "skip_h1_title": true,
   "title_cell": "Table of Contents",
   "title_sidebar": "Contents",
   "toc_cell": false,
   "toc_position": {},
   "toc_section_display": true,
   "toc_window_display": false
  }
 },
 "nbformat": 4,
 "nbformat_minor": 4
}
